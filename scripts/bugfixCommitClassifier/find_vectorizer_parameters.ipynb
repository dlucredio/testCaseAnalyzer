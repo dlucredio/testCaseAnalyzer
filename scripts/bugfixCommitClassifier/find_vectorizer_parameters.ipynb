{
 "cells": [
  {
   "attachments": {},
   "cell_type": "markdown",
   "metadata": {},
   "source": [
    "This notebook is used to find the best TF-IDF parameters for the dataset.\n",
    "\n",
    "Tested in a clean environment with Python 3.10.9."
   ]
  },
  {
   "attachments": {},
   "cell_type": "markdown",
   "metadata": {},
   "source": [
    "These are the packages we used"
   ]
  },
  {
   "cell_type": "code",
   "execution_count": 8,
   "metadata": {},
   "outputs": [
    {
     "name": "stdout",
     "output_type": "stream",
     "text": [
      "Requirement already satisfied: pandas==1.5.2 in /home/daniel/.pyenv/versions/3.10.9/envs/vecttuning/lib/python3.10/site-packages (1.5.2)\n",
      "Requirement already satisfied: pytz>=2020.1 in /home/daniel/.pyenv/versions/3.10.9/envs/vecttuning/lib/python3.10/site-packages (from pandas==1.5.2) (2022.7)\n",
      "Requirement already satisfied: numpy>=1.21.0 in /home/daniel/.pyenv/versions/3.10.9/envs/vecttuning/lib/python3.10/site-packages (from pandas==1.5.2) (1.23.5)\n",
      "Requirement already satisfied: python-dateutil>=2.8.1 in /home/daniel/.pyenv/versions/3.10.9/envs/vecttuning/lib/python3.10/site-packages (from pandas==1.5.2) (2.8.2)\n",
      "Requirement already satisfied: six>=1.5 in /home/daniel/.pyenv/versions/3.10.9/envs/vecttuning/lib/python3.10/site-packages (from python-dateutil>=2.8.1->pandas==1.5.2) (1.16.0)\n",
      "Note: you may need to restart the kernel to use updated packages.\n",
      "Requirement already satisfied: tqdm==4.64.1 in /home/daniel/.pyenv/versions/3.10.9/envs/vecttuning/lib/python3.10/site-packages (4.64.1)\n",
      "Note: you may need to restart the kernel to use updated packages.\n",
      "Requirement already satisfied: pyarrow==10.0.1 in /home/daniel/.pyenv/versions/3.10.9/envs/vecttuning/lib/python3.10/site-packages (10.0.1)\n",
      "Requirement already satisfied: numpy>=1.16.6 in /home/daniel/.pyenv/versions/3.10.9/envs/vecttuning/lib/python3.10/site-packages (from pyarrow==10.0.1) (1.23.5)\n",
      "Note: you may need to restart the kernel to use updated packages.\n",
      "Requirement already satisfied: nltk==3.8.1 in /home/daniel/.pyenv/versions/3.10.9/envs/vecttuning/lib/python3.10/site-packages (3.8.1)\n",
      "Requirement already satisfied: tqdm in /home/daniel/.pyenv/versions/3.10.9/envs/vecttuning/lib/python3.10/site-packages (from nltk==3.8.1) (4.64.1)\n",
      "Requirement already satisfied: click in /home/daniel/.pyenv/versions/3.10.9/envs/vecttuning/lib/python3.10/site-packages (from nltk==3.8.1) (8.1.3)\n",
      "Requirement already satisfied: regex>=2021.8.3 in /home/daniel/.pyenv/versions/3.10.9/envs/vecttuning/lib/python3.10/site-packages (from nltk==3.8.1) (2022.10.31)\n",
      "Requirement already satisfied: joblib in /home/daniel/.pyenv/versions/3.10.9/envs/vecttuning/lib/python3.10/site-packages (from nltk==3.8.1) (1.2.0)\n",
      "Note: you may need to restart the kernel to use updated packages.\n",
      "Requirement already satisfied: scikit-learn==1.0.2 in /home/daniel/.pyenv/versions/3.10.9/envs/vecttuning/lib/python3.10/site-packages (1.0.2)\n",
      "Requirement already satisfied: threadpoolctl>=2.0.0 in /home/daniel/.pyenv/versions/3.10.9/envs/vecttuning/lib/python3.10/site-packages (from scikit-learn==1.0.2) (3.1.0)\n",
      "Requirement already satisfied: joblib>=0.11 in /home/daniel/.pyenv/versions/3.10.9/envs/vecttuning/lib/python3.10/site-packages (from scikit-learn==1.0.2) (1.2.0)\n",
      "Requirement already satisfied: scipy>=1.1.0 in /home/daniel/.pyenv/versions/3.10.9/envs/vecttuning/lib/python3.10/site-packages (from scikit-learn==1.0.2) (1.10.0)\n",
      "Requirement already satisfied: numpy>=1.14.6 in /home/daniel/.pyenv/versions/3.10.9/envs/vecttuning/lib/python3.10/site-packages (from scikit-learn==1.0.2) (1.23.5)\n",
      "Note: you may need to restart the kernel to use updated packages.\n",
      "Requirement already satisfied: autoviml==0.1.710 in /home/daniel/.pyenv/versions/3.10.9/envs/vecttuning/lib/python3.10/site-packages (0.1.710)\n",
      "Requirement already satisfied: xlrd in /home/daniel/.pyenv/versions/3.10.9/envs/vecttuning/lib/python3.10/site-packages (from autoviml==0.1.710) (2.0.1)\n",
      "Requirement already satisfied: imbalanced-ensemble>=0.1.7 in /home/daniel/.pyenv/versions/3.10.9/envs/vecttuning/lib/python3.10/site-packages (from autoviml==0.1.710) (0.1.7)\n",
      "Requirement already satisfied: beautifulsoup4 in /home/daniel/.pyenv/versions/3.10.9/envs/vecttuning/lib/python3.10/site-packages (from autoviml==0.1.710) (4.11.1)\n",
      "Requirement already satisfied: ipython in /home/daniel/.pyenv/versions/3.10.9/envs/vecttuning/lib/python3.10/site-packages (from autoviml==0.1.710) (8.8.0)\n",
      "Requirement already satisfied: jupyter in /home/daniel/.pyenv/versions/3.10.9/envs/vecttuning/lib/python3.10/site-packages (from autoviml==0.1.710) (1.0.0)\n",
      "Requirement already satisfied: emoji in /home/daniel/.pyenv/versions/3.10.9/envs/vecttuning/lib/python3.10/site-packages (from autoviml==0.1.710) (2.2.0)\n",
      "Requirement already satisfied: imbalanced-learn>=0.7 in /home/daniel/.pyenv/versions/3.10.9/envs/vecttuning/lib/python3.10/site-packages (from autoviml==0.1.710) (0.10.1)\n",
      "Requirement already satisfied: regex in /home/daniel/.pyenv/versions/3.10.9/envs/vecttuning/lib/python3.10/site-packages (from autoviml==0.1.710) (2022.10.31)\n",
      "Requirement already satisfied: scikit-learn>=0.23.1 in /home/daniel/.pyenv/versions/3.10.9/envs/vecttuning/lib/python3.10/site-packages (from autoviml==0.1.710) (1.0.2)\n",
      "Requirement already satisfied: seaborn in /home/daniel/.pyenv/versions/3.10.9/envs/vecttuning/lib/python3.10/site-packages (from autoviml==0.1.710) (0.12.2)\n",
      "Requirement already satisfied: xgboost>=1.1.1 in /home/daniel/.pyenv/versions/3.10.9/envs/vecttuning/lib/python3.10/site-packages (from autoviml==0.1.710) (1.7.3)\n",
      "Requirement already satisfied: shap>=0.36.0 in /home/daniel/.pyenv/versions/3.10.9/envs/vecttuning/lib/python3.10/site-packages (from autoviml==0.1.710) (0.41.0)\n",
      "Requirement already satisfied: matplotlib in /home/daniel/.pyenv/versions/3.10.9/envs/vecttuning/lib/python3.10/site-packages (from autoviml==0.1.710) (3.6.3)\n",
      "Requirement already satisfied: textblob in /home/daniel/.pyenv/versions/3.10.9/envs/vecttuning/lib/python3.10/site-packages (from autoviml==0.1.710) (0.17.1)\n",
      "Requirement already satisfied: vaderSentiment in /home/daniel/.pyenv/versions/3.10.9/envs/vecttuning/lib/python3.10/site-packages (from autoviml==0.1.710) (3.3.2)\n",
      "Requirement already satisfied: pandas in /home/daniel/.pyenv/versions/3.10.9/envs/vecttuning/lib/python3.10/site-packages (from autoviml==0.1.710) (1.5.2)\n",
      "Requirement already satisfied: nltk in /home/daniel/.pyenv/versions/3.10.9/envs/vecttuning/lib/python3.10/site-packages (from autoviml==0.1.710) (3.8.1)\n",
      "Requirement already satisfied: catboost in /home/daniel/.pyenv/versions/3.10.9/envs/vecttuning/lib/python3.10/site-packages (from autoviml==0.1.710) (1.1.1)\n",
      "Requirement already satisfied: numpy>=1.16.0 in /home/daniel/.pyenv/versions/3.10.9/envs/vecttuning/lib/python3.10/site-packages (from imbalanced-ensemble>=0.1.7->autoviml==0.1.710) (1.23.5)\n",
      "Requirement already satisfied: scipy>=0.19.1 in /home/daniel/.pyenv/versions/3.10.9/envs/vecttuning/lib/python3.10/site-packages (from imbalanced-ensemble>=0.1.7->autoviml==0.1.710) (1.10.0)\n",
      "Requirement already satisfied: tqdm>=4.50.2 in /home/daniel/.pyenv/versions/3.10.9/envs/vecttuning/lib/python3.10/site-packages (from imbalanced-ensemble>=0.1.7->autoviml==0.1.710) (4.64.1)\n",
      "Requirement already satisfied: joblib>=1.1.1 in /home/daniel/.pyenv/versions/3.10.9/envs/vecttuning/lib/python3.10/site-packages (from imbalanced-learn>=0.7->autoviml==0.1.710) (1.2.0)\n",
      "Requirement already satisfied: threadpoolctl>=2.0.0 in /home/daniel/.pyenv/versions/3.10.9/envs/vecttuning/lib/python3.10/site-packages (from imbalanced-learn>=0.7->autoviml==0.1.710) (3.1.0)\n",
      "Requirement already satisfied: packaging>=20.0 in /home/daniel/.pyenv/versions/3.10.9/envs/vecttuning/lib/python3.10/site-packages (from matplotlib->autoviml==0.1.710) (23.0)\n",
      "Requirement already satisfied: pyparsing>=2.2.1 in /home/daniel/.pyenv/versions/3.10.9/envs/vecttuning/lib/python3.10/site-packages (from matplotlib->autoviml==0.1.710) (3.0.9)\n",
      "Requirement already satisfied: contourpy>=1.0.1 in /home/daniel/.pyenv/versions/3.10.9/envs/vecttuning/lib/python3.10/site-packages (from matplotlib->autoviml==0.1.710) (1.0.6)\n",
      "Requirement already satisfied: kiwisolver>=1.0.1 in /home/daniel/.pyenv/versions/3.10.9/envs/vecttuning/lib/python3.10/site-packages (from matplotlib->autoviml==0.1.710) (1.4.4)\n",
      "Requirement already satisfied: cycler>=0.10 in /home/daniel/.pyenv/versions/3.10.9/envs/vecttuning/lib/python3.10/site-packages (from matplotlib->autoviml==0.1.710) (0.11.0)\n",
      "Requirement already satisfied: python-dateutil>=2.7 in /home/daniel/.pyenv/versions/3.10.9/envs/vecttuning/lib/python3.10/site-packages (from matplotlib->autoviml==0.1.710) (2.8.2)\n",
      "Requirement already satisfied: fonttools>=4.22.0 in /home/daniel/.pyenv/versions/3.10.9/envs/vecttuning/lib/python3.10/site-packages (from matplotlib->autoviml==0.1.710) (4.38.0)\n",
      "Requirement already satisfied: pillow>=6.2.0 in /home/daniel/.pyenv/versions/3.10.9/envs/vecttuning/lib/python3.10/site-packages (from matplotlib->autoviml==0.1.710) (9.4.0)\n",
      "Requirement already satisfied: pytz>=2020.1 in /home/daniel/.pyenv/versions/3.10.9/envs/vecttuning/lib/python3.10/site-packages (from pandas->autoviml==0.1.710) (2022.7)\n",
      "Requirement already satisfied: cloudpickle in /home/daniel/.pyenv/versions/3.10.9/envs/vecttuning/lib/python3.10/site-packages (from shap>=0.36.0->autoviml==0.1.710) (2.2.0)\n",
      "Requirement already satisfied: slicer==0.0.7 in /home/daniel/.pyenv/versions/3.10.9/envs/vecttuning/lib/python3.10/site-packages (from shap>=0.36.0->autoviml==0.1.710) (0.0.7)\n",
      "Requirement already satisfied: numba in /home/daniel/.pyenv/versions/3.10.9/envs/vecttuning/lib/python3.10/site-packages (from shap>=0.36.0->autoviml==0.1.710) (0.56.4)\n",
      "Requirement already satisfied: soupsieve>1.2 in /home/daniel/.pyenv/versions/3.10.9/envs/vecttuning/lib/python3.10/site-packages (from beautifulsoup4->autoviml==0.1.710) (2.3.2.post1)\n",
      "Requirement already satisfied: plotly in /home/daniel/.pyenv/versions/3.10.9/envs/vecttuning/lib/python3.10/site-packages (from catboost->autoviml==0.1.710) (5.11.0)\n",
      "Requirement already satisfied: graphviz in /home/daniel/.pyenv/versions/3.10.9/envs/vecttuning/lib/python3.10/site-packages (from catboost->autoviml==0.1.710) (0.20.1)\n",
      "Requirement already satisfied: six in /home/daniel/.pyenv/versions/3.10.9/envs/vecttuning/lib/python3.10/site-packages (from catboost->autoviml==0.1.710) (1.16.0)\n",
      "Requirement already satisfied: matplotlib-inline in /home/daniel/.pyenv/versions/3.10.9/envs/vecttuning/lib/python3.10/site-packages (from ipython->autoviml==0.1.710) (0.1.6)\n",
      "Requirement already satisfied: backcall in /home/daniel/.pyenv/versions/3.10.9/envs/vecttuning/lib/python3.10/site-packages (from ipython->autoviml==0.1.710) (0.2.0)\n",
      "Requirement already satisfied: pexpect>4.3 in /home/daniel/.pyenv/versions/3.10.9/envs/vecttuning/lib/python3.10/site-packages (from ipython->autoviml==0.1.710) (4.8.0)\n",
      "Requirement already satisfied: jedi>=0.16 in /home/daniel/.pyenv/versions/3.10.9/envs/vecttuning/lib/python3.10/site-packages (from ipython->autoviml==0.1.710) (0.18.2)\n",
      "Requirement already satisfied: decorator in /home/daniel/.pyenv/versions/3.10.9/envs/vecttuning/lib/python3.10/site-packages (from ipython->autoviml==0.1.710) (5.1.1)\n",
      "Requirement already satisfied: pickleshare in /home/daniel/.pyenv/versions/3.10.9/envs/vecttuning/lib/python3.10/site-packages (from ipython->autoviml==0.1.710) (0.7.5)\n",
      "Requirement already satisfied: prompt-toolkit<3.1.0,>=3.0.11 in /home/daniel/.pyenv/versions/3.10.9/envs/vecttuning/lib/python3.10/site-packages (from ipython->autoviml==0.1.710) (3.0.36)\n",
      "Requirement already satisfied: pygments>=2.4.0 in /home/daniel/.pyenv/versions/3.10.9/envs/vecttuning/lib/python3.10/site-packages (from ipython->autoviml==0.1.710) (2.14.0)\n",
      "Requirement already satisfied: stack-data in /home/daniel/.pyenv/versions/3.10.9/envs/vecttuning/lib/python3.10/site-packages (from ipython->autoviml==0.1.710) (0.6.2)\n",
      "Requirement already satisfied: traitlets>=5 in /home/daniel/.pyenv/versions/3.10.9/envs/vecttuning/lib/python3.10/site-packages (from ipython->autoviml==0.1.710) (5.8.1)\n",
      "Requirement already satisfied: nbconvert in /home/daniel/.pyenv/versions/3.10.9/envs/vecttuning/lib/python3.10/site-packages (from jupyter->autoviml==0.1.710) (7.2.7)\n",
      "Requirement already satisfied: ipywidgets in /home/daniel/.pyenv/versions/3.10.9/envs/vecttuning/lib/python3.10/site-packages (from jupyter->autoviml==0.1.710) (8.0.4)\n",
      "Requirement already satisfied: jupyter-console in /home/daniel/.pyenv/versions/3.10.9/envs/vecttuning/lib/python3.10/site-packages (from jupyter->autoviml==0.1.710) (6.4.4)\n",
      "Requirement already satisfied: ipykernel in /home/daniel/.pyenv/versions/3.10.9/envs/vecttuning/lib/python3.10/site-packages (from jupyter->autoviml==0.1.710) (6.20.1)\n",
      "Requirement already satisfied: qtconsole in /home/daniel/.pyenv/versions/3.10.9/envs/vecttuning/lib/python3.10/site-packages (from jupyter->autoviml==0.1.710) (5.4.0)\n",
      "Requirement already satisfied: notebook in /home/daniel/.pyenv/versions/3.10.9/envs/vecttuning/lib/python3.10/site-packages (from jupyter->autoviml==0.1.710) (6.5.2)\n",
      "Requirement already satisfied: click in /home/daniel/.pyenv/versions/3.10.9/envs/vecttuning/lib/python3.10/site-packages (from nltk->autoviml==0.1.710) (8.1.3)\n",
      "Requirement already satisfied: requests in /home/daniel/.pyenv/versions/3.10.9/envs/vecttuning/lib/python3.10/site-packages (from vaderSentiment->autoviml==0.1.710) (2.28.2)\n",
      "Requirement already satisfied: parso<0.9.0,>=0.8.0 in /home/daniel/.pyenv/versions/3.10.9/envs/vecttuning/lib/python3.10/site-packages (from jedi>=0.16->ipython->autoviml==0.1.710) (0.8.3)\n",
      "Requirement already satisfied: ptyprocess>=0.5 in /home/daniel/.pyenv/versions/3.10.9/envs/vecttuning/lib/python3.10/site-packages (from pexpect>4.3->ipython->autoviml==0.1.710) (0.7.0)\n",
      "Requirement already satisfied: wcwidth in /home/daniel/.pyenv/versions/3.10.9/envs/vecttuning/lib/python3.10/site-packages (from prompt-toolkit<3.1.0,>=3.0.11->ipython->autoviml==0.1.710) (0.2.5)\n",
      "Requirement already satisfied: jupyter-client>=6.1.12 in /home/daniel/.pyenv/versions/3.10.9/envs/vecttuning/lib/python3.10/site-packages (from ipykernel->jupyter->autoviml==0.1.710) (7.4.8)\n",
      "Requirement already satisfied: pyzmq>=17 in /home/daniel/.pyenv/versions/3.10.9/envs/vecttuning/lib/python3.10/site-packages (from ipykernel->jupyter->autoviml==0.1.710) (25.0.0)\n",
      "Requirement already satisfied: comm>=0.1.1 in /home/daniel/.pyenv/versions/3.10.9/envs/vecttuning/lib/python3.10/site-packages (from ipykernel->jupyter->autoviml==0.1.710) (0.1.2)\n",
      "Requirement already satisfied: tornado>=6.1 in /home/daniel/.pyenv/versions/3.10.9/envs/vecttuning/lib/python3.10/site-packages (from ipykernel->jupyter->autoviml==0.1.710) (6.2)\n",
      "Requirement already satisfied: debugpy>=1.0 in /home/daniel/.pyenv/versions/3.10.9/envs/vecttuning/lib/python3.10/site-packages (from ipykernel->jupyter->autoviml==0.1.710) (1.6.5)\n",
      "Requirement already satisfied: psutil in /home/daniel/.pyenv/versions/3.10.9/envs/vecttuning/lib/python3.10/site-packages (from ipykernel->jupyter->autoviml==0.1.710) (5.9.4)\n",
      "Requirement already satisfied: nest-asyncio in /home/daniel/.pyenv/versions/3.10.9/envs/vecttuning/lib/python3.10/site-packages (from ipykernel->jupyter->autoviml==0.1.710) (1.5.6)\n",
      "Requirement already satisfied: jupyterlab-widgets~=3.0 in /home/daniel/.pyenv/versions/3.10.9/envs/vecttuning/lib/python3.10/site-packages (from ipywidgets->jupyter->autoviml==0.1.710) (3.0.5)\n",
      "Requirement already satisfied: widgetsnbextension~=4.0 in /home/daniel/.pyenv/versions/3.10.9/envs/vecttuning/lib/python3.10/site-packages (from ipywidgets->jupyter->autoviml==0.1.710) (4.0.5)\n",
      "Requirement already satisfied: nbclient>=0.5.0 in /home/daniel/.pyenv/versions/3.10.9/envs/vecttuning/lib/python3.10/site-packages (from nbconvert->jupyter->autoviml==0.1.710) (0.7.2)\n",
      "Requirement already satisfied: markupsafe>=2.0 in /home/daniel/.pyenv/versions/3.10.9/envs/vecttuning/lib/python3.10/site-packages (from nbconvert->jupyter->autoviml==0.1.710) (2.1.1)\n",
      "Requirement already satisfied: jupyter-core>=4.7 in /home/daniel/.pyenv/versions/3.10.9/envs/vecttuning/lib/python3.10/site-packages (from nbconvert->jupyter->autoviml==0.1.710) (5.1.3)\n",
      "Requirement already satisfied: tinycss2 in /home/daniel/.pyenv/versions/3.10.9/envs/vecttuning/lib/python3.10/site-packages (from nbconvert->jupyter->autoviml==0.1.710) (1.2.1)\n",
      "Requirement already satisfied: mistune<3,>=2.0.3 in /home/daniel/.pyenv/versions/3.10.9/envs/vecttuning/lib/python3.10/site-packages (from nbconvert->jupyter->autoviml==0.1.710) (2.0.4)\n",
      "Requirement already satisfied: defusedxml in /home/daniel/.pyenv/versions/3.10.9/envs/vecttuning/lib/python3.10/site-packages (from nbconvert->jupyter->autoviml==0.1.710) (0.7.1)\n",
      "Requirement already satisfied: pandocfilters>=1.4.1 in /home/daniel/.pyenv/versions/3.10.9/envs/vecttuning/lib/python3.10/site-packages (from nbconvert->jupyter->autoviml==0.1.710) (1.5.0)\n",
      "Requirement already satisfied: jupyterlab-pygments in /home/daniel/.pyenv/versions/3.10.9/envs/vecttuning/lib/python3.10/site-packages (from nbconvert->jupyter->autoviml==0.1.710) (0.2.2)\n",
      "Requirement already satisfied: bleach in /home/daniel/.pyenv/versions/3.10.9/envs/vecttuning/lib/python3.10/site-packages (from nbconvert->jupyter->autoviml==0.1.710) (5.0.1)\n",
      "Requirement already satisfied: jinja2>=3.0 in /home/daniel/.pyenv/versions/3.10.9/envs/vecttuning/lib/python3.10/site-packages (from nbconvert->jupyter->autoviml==0.1.710) (3.1.2)\n",
      "Requirement already satisfied: nbformat>=5.1 in /home/daniel/.pyenv/versions/3.10.9/envs/vecttuning/lib/python3.10/site-packages (from nbconvert->jupyter->autoviml==0.1.710) (5.7.3)\n",
      "Requirement already satisfied: prometheus-client in /home/daniel/.pyenv/versions/3.10.9/envs/vecttuning/lib/python3.10/site-packages (from notebook->jupyter->autoviml==0.1.710) (0.15.0)\n",
      "Requirement already satisfied: ipython-genutils in /home/daniel/.pyenv/versions/3.10.9/envs/vecttuning/lib/python3.10/site-packages (from notebook->jupyter->autoviml==0.1.710) (0.2.0)\n",
      "Requirement already satisfied: argon2-cffi in /home/daniel/.pyenv/versions/3.10.9/envs/vecttuning/lib/python3.10/site-packages (from notebook->jupyter->autoviml==0.1.710) (21.3.0)\n",
      "Requirement already satisfied: Send2Trash>=1.8.0 in /home/daniel/.pyenv/versions/3.10.9/envs/vecttuning/lib/python3.10/site-packages (from notebook->jupyter->autoviml==0.1.710) (1.8.0)\n",
      "Requirement already satisfied: nbclassic>=0.4.7 in /home/daniel/.pyenv/versions/3.10.9/envs/vecttuning/lib/python3.10/site-packages (from notebook->jupyter->autoviml==0.1.710) (0.4.8)\n",
      "Requirement already satisfied: terminado>=0.8.3 in /home/daniel/.pyenv/versions/3.10.9/envs/vecttuning/lib/python3.10/site-packages (from notebook->jupyter->autoviml==0.1.710) (0.17.1)\n",
      "Requirement already satisfied: llvmlite<0.40,>=0.39.0dev0 in /home/daniel/.pyenv/versions/3.10.9/envs/vecttuning/lib/python3.10/site-packages (from numba->shap>=0.36.0->autoviml==0.1.710) (0.39.1)\n",
      "Requirement already satisfied: setuptools in /home/daniel/.pyenv/versions/3.10.9/envs/vecttuning/lib/python3.10/site-packages (from numba->shap>=0.36.0->autoviml==0.1.710) (65.5.0)\n",
      "Requirement already satisfied: tenacity>=6.2.0 in /home/daniel/.pyenv/versions/3.10.9/envs/vecttuning/lib/python3.10/site-packages (from plotly->catboost->autoviml==0.1.710) (8.1.0)\n",
      "Requirement already satisfied: qtpy>=2.0.1 in /home/daniel/.pyenv/versions/3.10.9/envs/vecttuning/lib/python3.10/site-packages (from qtconsole->jupyter->autoviml==0.1.710) (2.3.0)\n",
      "Requirement already satisfied: idna<4,>=2.5 in /home/daniel/.pyenv/versions/3.10.9/envs/vecttuning/lib/python3.10/site-packages (from requests->vaderSentiment->autoviml==0.1.710) (3.4)\n",
      "Requirement already satisfied: certifi>=2017.4.17 in /home/daniel/.pyenv/versions/3.10.9/envs/vecttuning/lib/python3.10/site-packages (from requests->vaderSentiment->autoviml==0.1.710) (2022.12.7)\n",
      "Requirement already satisfied: charset-normalizer<4,>=2 in /home/daniel/.pyenv/versions/3.10.9/envs/vecttuning/lib/python3.10/site-packages (from requests->vaderSentiment->autoviml==0.1.710) (3.0.1)\n",
      "Requirement already satisfied: urllib3<1.27,>=1.21.1 in /home/daniel/.pyenv/versions/3.10.9/envs/vecttuning/lib/python3.10/site-packages (from requests->vaderSentiment->autoviml==0.1.710) (1.26.14)\n",
      "Requirement already satisfied: pure-eval in /home/daniel/.pyenv/versions/3.10.9/envs/vecttuning/lib/python3.10/site-packages (from stack-data->ipython->autoviml==0.1.710) (0.2.2)\n",
      "Requirement already satisfied: executing>=1.2.0 in /home/daniel/.pyenv/versions/3.10.9/envs/vecttuning/lib/python3.10/site-packages (from stack-data->ipython->autoviml==0.1.710) (1.2.0)\n",
      "Requirement already satisfied: asttokens>=2.1.0 in /home/daniel/.pyenv/versions/3.10.9/envs/vecttuning/lib/python3.10/site-packages (from stack-data->ipython->autoviml==0.1.710) (2.2.1)\n",
      "Requirement already satisfied: entrypoints in /home/daniel/.pyenv/versions/3.10.9/envs/vecttuning/lib/python3.10/site-packages (from jupyter-client>=6.1.12->ipykernel->jupyter->autoviml==0.1.710) (0.4)\n",
      "Requirement already satisfied: platformdirs>=2.5 in /home/daniel/.pyenv/versions/3.10.9/envs/vecttuning/lib/python3.10/site-packages (from jupyter-core>=4.7->nbconvert->jupyter->autoviml==0.1.710) (2.6.2)\n",
      "Requirement already satisfied: jupyter-server>=1.8 in /home/daniel/.pyenv/versions/3.10.9/envs/vecttuning/lib/python3.10/site-packages (from nbclassic>=0.4.7->notebook->jupyter->autoviml==0.1.710) (2.0.6)\n",
      "Requirement already satisfied: notebook-shim>=0.1.0 in /home/daniel/.pyenv/versions/3.10.9/envs/vecttuning/lib/python3.10/site-packages (from nbclassic>=0.4.7->notebook->jupyter->autoviml==0.1.710) (0.2.2)\n",
      "Requirement already satisfied: fastjsonschema in /home/daniel/.pyenv/versions/3.10.9/envs/vecttuning/lib/python3.10/site-packages (from nbformat>=5.1->nbconvert->jupyter->autoviml==0.1.710) (2.16.2)\n",
      "Requirement already satisfied: jsonschema>=2.6 in /home/daniel/.pyenv/versions/3.10.9/envs/vecttuning/lib/python3.10/site-packages (from nbformat>=5.1->nbconvert->jupyter->autoviml==0.1.710) (4.17.3)\n",
      "Requirement already satisfied: argon2-cffi-bindings in /home/daniel/.pyenv/versions/3.10.9/envs/vecttuning/lib/python3.10/site-packages (from argon2-cffi->notebook->jupyter->autoviml==0.1.710) (21.2.0)\n",
      "Requirement already satisfied: webencodings in /home/daniel/.pyenv/versions/3.10.9/envs/vecttuning/lib/python3.10/site-packages (from bleach->nbconvert->jupyter->autoviml==0.1.710) (0.5.1)\n",
      "Requirement already satisfied: attrs>=17.4.0 in /home/daniel/.pyenv/versions/3.10.9/envs/vecttuning/lib/python3.10/site-packages (from jsonschema>=2.6->nbformat>=5.1->nbconvert->jupyter->autoviml==0.1.710) (22.2.0)\n",
      "Requirement already satisfied: pyrsistent!=0.17.0,!=0.17.1,!=0.17.2,>=0.14.0 in /home/daniel/.pyenv/versions/3.10.9/envs/vecttuning/lib/python3.10/site-packages (from jsonschema>=2.6->nbformat>=5.1->nbconvert->jupyter->autoviml==0.1.710) (0.19.3)\n",
      "Requirement already satisfied: jupyter-events>=0.4.0 in /home/daniel/.pyenv/versions/3.10.9/envs/vecttuning/lib/python3.10/site-packages (from jupyter-server>=1.8->nbclassic>=0.4.7->notebook->jupyter->autoviml==0.1.710) (0.6.3)\n",
      "Requirement already satisfied: websocket-client in /home/daniel/.pyenv/versions/3.10.9/envs/vecttuning/lib/python3.10/site-packages (from jupyter-server>=1.8->nbclassic>=0.4.7->notebook->jupyter->autoviml==0.1.710) (1.4.2)\n",
      "Requirement already satisfied: anyio<4,>=3.1.0 in /home/daniel/.pyenv/versions/3.10.9/envs/vecttuning/lib/python3.10/site-packages (from jupyter-server>=1.8->nbclassic>=0.4.7->notebook->jupyter->autoviml==0.1.710) (3.6.2)\n",
      "Requirement already satisfied: jupyter-server-terminals in /home/daniel/.pyenv/versions/3.10.9/envs/vecttuning/lib/python3.10/site-packages (from jupyter-server>=1.8->nbclassic>=0.4.7->notebook->jupyter->autoviml==0.1.710) (0.4.4)\n",
      "Requirement already satisfied: cffi>=1.0.1 in /home/daniel/.pyenv/versions/3.10.9/envs/vecttuning/lib/python3.10/site-packages (from argon2-cffi-bindings->argon2-cffi->notebook->jupyter->autoviml==0.1.710) (1.15.1)\n",
      "Requirement already satisfied: sniffio>=1.1 in /home/daniel/.pyenv/versions/3.10.9/envs/vecttuning/lib/python3.10/site-packages (from anyio<4,>=3.1.0->jupyter-server>=1.8->nbclassic>=0.4.7->notebook->jupyter->autoviml==0.1.710) (1.3.0)\n",
      "Requirement already satisfied: pycparser in /home/daniel/.pyenv/versions/3.10.9/envs/vecttuning/lib/python3.10/site-packages (from cffi>=1.0.1->argon2-cffi-bindings->argon2-cffi->notebook->jupyter->autoviml==0.1.710) (2.21)\n",
      "Requirement already satisfied: rfc3986-validator>=0.1.1 in /home/daniel/.pyenv/versions/3.10.9/envs/vecttuning/lib/python3.10/site-packages (from jupyter-events>=0.4.0->jupyter-server>=1.8->nbclassic>=0.4.7->notebook->jupyter->autoviml==0.1.710) (0.1.1)\n",
      "Requirement already satisfied: rfc3339-validator in /home/daniel/.pyenv/versions/3.10.9/envs/vecttuning/lib/python3.10/site-packages (from jupyter-events>=0.4.0->jupyter-server>=1.8->nbclassic>=0.4.7->notebook->jupyter->autoviml==0.1.710) (0.1.4)\n",
      "Requirement already satisfied: python-json-logger>=2.0.4 in /home/daniel/.pyenv/versions/3.10.9/envs/vecttuning/lib/python3.10/site-packages (from jupyter-events>=0.4.0->jupyter-server>=1.8->nbclassic>=0.4.7->notebook->jupyter->autoviml==0.1.710) (2.0.4)\n",
      "Requirement already satisfied: pyyaml>=5.3 in /home/daniel/.pyenv/versions/3.10.9/envs/vecttuning/lib/python3.10/site-packages (from jupyter-events>=0.4.0->jupyter-server>=1.8->nbclassic>=0.4.7->notebook->jupyter->autoviml==0.1.710) (6.0)\n",
      "Requirement already satisfied: webcolors>=1.11 in /home/daniel/.pyenv/versions/3.10.9/envs/vecttuning/lib/python3.10/site-packages (from jsonschema>=2.6->nbformat>=5.1->nbconvert->jupyter->autoviml==0.1.710) (1.12)\n",
      "Requirement already satisfied: isoduration in /home/daniel/.pyenv/versions/3.10.9/envs/vecttuning/lib/python3.10/site-packages (from jsonschema>=2.6->nbformat>=5.1->nbconvert->jupyter->autoviml==0.1.710) (20.11.0)\n",
      "Requirement already satisfied: fqdn in /home/daniel/.pyenv/versions/3.10.9/envs/vecttuning/lib/python3.10/site-packages (from jsonschema>=2.6->nbformat>=5.1->nbconvert->jupyter->autoviml==0.1.710) (1.5.1)\n",
      "Requirement already satisfied: jsonpointer>1.13 in /home/daniel/.pyenv/versions/3.10.9/envs/vecttuning/lib/python3.10/site-packages (from jsonschema>=2.6->nbformat>=5.1->nbconvert->jupyter->autoviml==0.1.710) (2.3)\n",
      "Requirement already satisfied: uri-template in /home/daniel/.pyenv/versions/3.10.9/envs/vecttuning/lib/python3.10/site-packages (from jsonschema>=2.6->nbformat>=5.1->nbconvert->jupyter->autoviml==0.1.710) (1.2.0)\n",
      "Requirement already satisfied: arrow>=0.15.0 in /home/daniel/.pyenv/versions/3.10.9/envs/vecttuning/lib/python3.10/site-packages (from isoduration->jsonschema>=2.6->nbformat>=5.1->nbconvert->jupyter->autoviml==0.1.710) (1.2.3)\n",
      "Note: you may need to restart the kernel to use updated packages.\n",
      "Requirement already satisfied: lightgbm==3.3.4 in /home/daniel/.pyenv/versions/3.10.9/envs/vecttuning/lib/python3.10/site-packages (3.3.4)\n",
      "Requirement already satisfied: numpy in /home/daniel/.pyenv/versions/3.10.9/envs/vecttuning/lib/python3.10/site-packages (from lightgbm==3.3.4) (1.23.5)\n",
      "Requirement already satisfied: wheel in /home/daniel/.pyenv/versions/3.10.9/envs/vecttuning/lib/python3.10/site-packages (from lightgbm==3.3.4) (0.38.4)\n",
      "Requirement already satisfied: scikit-learn!=0.22.0 in /home/daniel/.pyenv/versions/3.10.9/envs/vecttuning/lib/python3.10/site-packages (from lightgbm==3.3.4) (1.0.2)\n",
      "Requirement already satisfied: scipy in /home/daniel/.pyenv/versions/3.10.9/envs/vecttuning/lib/python3.10/site-packages (from lightgbm==3.3.4) (1.10.0)\n",
      "Requirement already satisfied: joblib>=0.11 in /home/daniel/.pyenv/versions/3.10.9/envs/vecttuning/lib/python3.10/site-packages (from scikit-learn!=0.22.0->lightgbm==3.3.4) (1.2.0)\n",
      "Requirement already satisfied: threadpoolctl>=2.0.0 in /home/daniel/.pyenv/versions/3.10.9/envs/vecttuning/lib/python3.10/site-packages (from scikit-learn!=0.22.0->lightgbm==3.3.4) (3.1.0)\n",
      "Note: you may need to restart the kernel to use updated packages.\n",
      "Requirement already satisfied: lxml==4.9.2 in /home/daniel/.pyenv/versions/3.10.9/envs/vecttuning/lib/python3.10/site-packages (4.9.2)\n",
      "Note: you may need to restart the kernel to use updated packages.\n"
     ]
    }
   ],
   "source": [
    "# To perform data manipulation\n",
    "%pip install pandas==1.5.2\n",
    "\n",
    "# To monitor progress in long tasks\n",
    "%pip install tqdm==4.64.1\n",
    "\n",
    "# Pyarrow is used by pandas to save/load parquet files\n",
    "%pip install pyarrow==10.0.1\n",
    "\n",
    "# To process natural text\n",
    "%pip install nltk==3.8.1\n",
    "\n",
    "# We will use Auto_ViML to train the model using NLP and AutoML.\n",
    "# lightgbm and lxml are required by autoviml, as well as version 1.0.2 of scikit-learn\n",
    "%pip install scikit-learn==1.0.2\n",
    "%pip install autoviml==0.1.710\n",
    "%pip install lightgbm==3.3.4\n",
    "%pip install lxml==4.9.2"
   ]
  },
  {
   "attachments": {},
   "cell_type": "markdown",
   "metadata": {},
   "source": [
    "Now let's import the necessary modules"
   ]
  },
  {
   "cell_type": "code",
   "execution_count": 10,
   "metadata": {},
   "outputs": [
    {
     "name": "stderr",
     "output_type": "stream",
     "text": [
      "[nltk_data] Downloading package stopwords to /home/daniel/nltk_data...\n",
      "[nltk_data]   Package stopwords is already up-to-date!\n",
      "[nltk_data] Downloading package punkt to /home/daniel/nltk_data...\n",
      "[nltk_data]   Package punkt is already up-to-date!\n"
     ]
    }
   ],
   "source": [
    "import pandas as pd # For data processing\n",
    "\n",
    "import nltk # For text processing\n",
    "nltk.download('stopwords') # Stop words\n",
    "nltk.download('punkt') # Tokenizer\n",
    "english_stop_words = set(nltk.corpus.stopwords.words('english')) # Saving the stopwords in a list\n",
    "\n",
    "from tqdm import tqdm # To monitor progress in large tasks\n",
    "tqdm.pandas() # Configure tqdm to work with pandas\n",
    "\n",
    "from sklearn.model_selection import train_test_split # To split train/test data\n",
    "from sklearn.utils import resample # To balance the dataset\n",
    "\n",
    "from autoviml.Auto_NLP import Auto_NLP # To train our model using AutoML and NLP\n"
   ]
  },
  {
   "attachments": {},
   "cell_type": "markdown",
   "metadata": {},
   "source": [
    "Let's load our dataset, making sure there are no duplicated rows"
   ]
  },
  {
   "cell_type": "code",
   "execution_count": 11,
   "metadata": {},
   "outputs": [
    {
     "name": "stdout",
     "output_type": "stream",
     "text": [
      "Number of rows: 452284\n",
      "Number of duplicated: 0\n"
     ]
    },
    {
     "data": {
      "text/html": [
       "<div>\n",
       "<style scoped>\n",
       "    .dataframe tbody tr th:only-of-type {\n",
       "        vertical-align: middle;\n",
       "    }\n",
       "\n",
       "    .dataframe tbody tr th {\n",
       "        vertical-align: top;\n",
       "    }\n",
       "\n",
       "    .dataframe thead th {\n",
       "        text-align: right;\n",
       "    }\n",
       "</style>\n",
       "<table border=\"1\" class=\"dataframe\">\n",
       "  <thead>\n",
       "    <tr style=\"text-align: right;\">\n",
       "      <th></th>\n",
       "      <th>index</th>\n",
       "      <th>_id</th>\n",
       "      <th>revision_hash</th>\n",
       "      <th>message</th>\n",
       "      <th>isBugfix</th>\n",
       "    </tr>\n",
       "  </thead>\n",
       "  <tbody>\n",
       "    <tr>\n",
       "      <th>0</th>\n",
       "      <td>0</td>\n",
       "      <td>5bef24dc83ad2f56ca1ca7cd</td>\n",
       "      <td>64185d21b51d1ed32c419f443f804ae2e09ee5f8</td>\n",
       "      <td>The the patrol.</td>\n",
       "      <td>False</td>\n",
       "    </tr>\n",
       "    <tr>\n",
       "      <th>1</th>\n",
       "      <td>1</td>\n",
       "      <td>5bef24dd83ad2f56ca1ca7d3</td>\n",
       "      <td>37ab026c576c8841f378cc2376ca02c478567e84</td>\n",
       "      <td>Cleanup in commons-rdf-rdf4j to close PMD and FindBugs warnings\\n</td>\n",
       "      <td>False</td>\n",
       "    </tr>\n",
       "    <tr>\n",
       "      <th>2</th>\n",
       "      <td>2</td>\n",
       "      <td>5bef24dd83ad2f56cb1ca7cd</td>\n",
       "      <td>092c465f996f3a4a6acf3f65aeb76f768e702289</td>\n",
       "      <td>COMMONSRDF-49: Make AbstractRDFParser serializable\\n\\nMerge commit 'refs/pull/43/head' of https://github.com/apache/commons-rdf\\n\\nContributed by @ajs6f\\n\\nThis closes #43\\n</td>\n",
       "      <td>False</td>\n",
       "    </tr>\n",
       "    <tr>\n",
       "      <th>3</th>\n",
       "      <td>3</td>\n",
       "      <td>5bef24dd83ad2f56cc1ca7cd</td>\n",
       "      <td>6123c7308ed533b870370c6a234ce140368ccc4e</td>\n",
       "      <td>ensure site build works with newest checkstyle plugin\\n</td>\n",
       "      <td>False</td>\n",
       "    </tr>\n",
       "    <tr>\n",
       "      <th>4</th>\n",
       "      <td>4</td>\n",
       "      <td>5bef24dd83ad2f56cc1ca7d4</td>\n",
       "      <td>25af8121afb778efa20d73e1f10c073ad1917e59</td>\n",
       "      <td>[maven-release-plugin] prepare for next development iteration\\n</td>\n",
       "      <td>False</td>\n",
       "    </tr>\n",
       "  </tbody>\n",
       "</table>\n",
       "</div>"
      ],
      "text/plain": [
       "   index                       _id                             revision_hash  \\\n",
       "0      0  5bef24dc83ad2f56ca1ca7cd  64185d21b51d1ed32c419f443f804ae2e09ee5f8   \n",
       "1      1  5bef24dd83ad2f56ca1ca7d3  37ab026c576c8841f378cc2376ca02c478567e84   \n",
       "2      2  5bef24dd83ad2f56cb1ca7cd  092c465f996f3a4a6acf3f65aeb76f768e702289   \n",
       "3      3  5bef24dd83ad2f56cc1ca7cd  6123c7308ed533b870370c6a234ce140368ccc4e   \n",
       "4      4  5bef24dd83ad2f56cc1ca7d4  25af8121afb778efa20d73e1f10c073ad1917e59   \n",
       "\n",
       "                                                                                                                                                                         message  \\\n",
       "0                                                                                                                                                                The the patrol.   \n",
       "1                                                                                                              Cleanup in commons-rdf-rdf4j to close PMD and FindBugs warnings\\n   \n",
       "2  COMMONSRDF-49: Make AbstractRDFParser serializable\\n\\nMerge commit 'refs/pull/43/head' of https://github.com/apache/commons-rdf\\n\\nContributed by @ajs6f\\n\\nThis closes #43\\n   \n",
       "3                                                                                                                        ensure site build works with newest checkstyle plugin\\n   \n",
       "4                                                                                                                [maven-release-plugin] prepare for next development iteration\\n   \n",
       "\n",
       "   isBugfix  \n",
       "0     False  \n",
       "1     False  \n",
       "2     False  \n",
       "3     False  \n",
       "4     False  "
      ]
     },
     "execution_count": 11,
     "metadata": {},
     "output_type": "execute_result"
    }
   ],
   "source": [
    "df_commits_annotated = pd.read_parquet('commits_annotated.parquet.gzip')\n",
    "print(f'Number of rows: {df_commits_annotated.shape[0]}')\n",
    "print(f'Number of duplicated: {df_commits_annotated.revision_hash.duplicated().sum()}')\n",
    "df_commits_annotated.head()"
   ]
  },
  {
   "attachments": {},
   "cell_type": "markdown",
   "metadata": {},
   "source": [
    "We only need columns 'message' and 'isBugfix'. Let's drop the others"
   ]
  },
  {
   "cell_type": "code",
   "execution_count": 12,
   "metadata": {},
   "outputs": [
    {
     "data": {
      "text/html": [
       "<div>\n",
       "<style scoped>\n",
       "    .dataframe tbody tr th:only-of-type {\n",
       "        vertical-align: middle;\n",
       "    }\n",
       "\n",
       "    .dataframe tbody tr th {\n",
       "        vertical-align: top;\n",
       "    }\n",
       "\n",
       "    .dataframe thead th {\n",
       "        text-align: right;\n",
       "    }\n",
       "</style>\n",
       "<table border=\"1\" class=\"dataframe\">\n",
       "  <thead>\n",
       "    <tr style=\"text-align: right;\">\n",
       "      <th></th>\n",
       "      <th>index</th>\n",
       "      <th>message</th>\n",
       "      <th>isBugfix</th>\n",
       "    </tr>\n",
       "  </thead>\n",
       "  <tbody>\n",
       "    <tr>\n",
       "      <th>0</th>\n",
       "      <td>0</td>\n",
       "      <td>The the patrol.</td>\n",
       "      <td>False</td>\n",
       "    </tr>\n",
       "    <tr>\n",
       "      <th>1</th>\n",
       "      <td>1</td>\n",
       "      <td>Cleanup in commons-rdf-rdf4j to close PMD and FindBugs warnings\\n</td>\n",
       "      <td>False</td>\n",
       "    </tr>\n",
       "    <tr>\n",
       "      <th>2</th>\n",
       "      <td>2</td>\n",
       "      <td>COMMONSRDF-49: Make AbstractRDFParser serializable\\n\\nMerge commit 'refs/pull/43/head' of https://github.com/apache/commons-rdf\\n\\nContributed by @ajs6f\\n\\nThis closes #43\\n</td>\n",
       "      <td>False</td>\n",
       "    </tr>\n",
       "    <tr>\n",
       "      <th>3</th>\n",
       "      <td>3</td>\n",
       "      <td>ensure site build works with newest checkstyle plugin\\n</td>\n",
       "      <td>False</td>\n",
       "    </tr>\n",
       "    <tr>\n",
       "      <th>4</th>\n",
       "      <td>4</td>\n",
       "      <td>[maven-release-plugin] prepare for next development iteration\\n</td>\n",
       "      <td>False</td>\n",
       "    </tr>\n",
       "  </tbody>\n",
       "</table>\n",
       "</div>"
      ],
      "text/plain": [
       "   index  \\\n",
       "0      0   \n",
       "1      1   \n",
       "2      2   \n",
       "3      3   \n",
       "4      4   \n",
       "\n",
       "                                                                                                                                                                         message  \\\n",
       "0                                                                                                                                                                The the patrol.   \n",
       "1                                                                                                              Cleanup in commons-rdf-rdf4j to close PMD and FindBugs warnings\\n   \n",
       "2  COMMONSRDF-49: Make AbstractRDFParser serializable\\n\\nMerge commit 'refs/pull/43/head' of https://github.com/apache/commons-rdf\\n\\nContributed by @ajs6f\\n\\nThis closes #43\\n   \n",
       "3                                                                                                                        ensure site build works with newest checkstyle plugin\\n   \n",
       "4                                                                                                                [maven-release-plugin] prepare for next development iteration\\n   \n",
       "\n",
       "   isBugfix  \n",
       "0     False  \n",
       "1     False  \n",
       "2     False  \n",
       "3     False  \n",
       "4     False  "
      ]
     },
     "execution_count": 12,
     "metadata": {},
     "output_type": "execute_result"
    }
   ],
   "source": [
    "df_commits_annotated.drop(columns=['_id','revision_hash'], inplace=True)\n",
    "df_commits_annotated.head()"
   ]
  },
  {
   "attachments": {},
   "cell_type": "markdown",
   "metadata": {},
   "source": [
    "Now let's try to balance the dataset. As it can be seen, it is highly imbalanced."
   ]
  },
  {
   "cell_type": "code",
   "execution_count": 13,
   "metadata": {},
   "outputs": [
    {
     "data": {
      "text/plain": [
       "False    449379\n",
       "True       2905\n",
       "Name: isBugfix, dtype: int64"
      ]
     },
     "execution_count": 13,
     "metadata": {},
     "output_type": "execute_result"
    }
   ],
   "source": [
    "df_commits_count = df_commits_annotated['isBugfix'].value_counts()\n",
    "df_commits_count"
   ]
  },
  {
   "attachments": {},
   "cell_type": "markdown",
   "metadata": {},
   "source": [
    "Let's downsample the majority class. It's okay, since we still have almost 3K \"True\" values."
   ]
  },
  {
   "cell_type": "code",
   "execution_count": 14,
   "metadata": {},
   "outputs": [
    {
     "data": {
      "text/plain": [
       "False    2905\n",
       "True     2905\n",
       "Name: isBugfix, dtype: int64"
      ]
     },
     "execution_count": 14,
     "metadata": {},
     "output_type": "execute_result"
    }
   ],
   "source": [
    "df_majority = df_commits_annotated[df_commits_annotated.isBugfix==False]\n",
    "df_minority = df_commits_annotated[df_commits_annotated.isBugfix==True]\n",
    "\n",
    "count_minority = df_commits_count[1] # Number of elements in minority class\n",
    "\n",
    "df_majority_downsampled = resample(df_majority,\n",
    "                                    replace=False,\n",
    "                                    n_samples=count_minority,\n",
    "                                    random_state=42)\n",
    "\n",
    "df_commits_annotated = pd.concat([df_majority_downsampled, df_minority])\n",
    "\n",
    "df_commits_annotated['isBugfix'].value_counts()"
   ]
  },
  {
   "attachments": {},
   "cell_type": "markdown",
   "metadata": {},
   "source": [
    "Now let's preprocess our text. First, we will lowercase and remove stopwords. This will be our 'input_feature' column"
   ]
  },
  {
   "cell_type": "code",
   "execution_count": 15,
   "metadata": {},
   "outputs": [
    {
     "name": "stderr",
     "output_type": "stream",
     "text": [
      "100%|██████████| 5810/5810 [00:02<00:00, 2605.35it/s]\n"
     ]
    },
    {
     "data": {
      "text/html": [
       "<div>\n",
       "<style scoped>\n",
       "    .dataframe tbody tr th:only-of-type {\n",
       "        vertical-align: middle;\n",
       "    }\n",
       "\n",
       "    .dataframe tbody tr th {\n",
       "        vertical-align: top;\n",
       "    }\n",
       "\n",
       "    .dataframe thead th {\n",
       "        text-align: right;\n",
       "    }\n",
       "</style>\n",
       "<table border=\"1\" class=\"dataframe\">\n",
       "  <thead>\n",
       "    <tr style=\"text-align: right;\">\n",
       "      <th></th>\n",
       "      <th>index</th>\n",
       "      <th>message</th>\n",
       "      <th>isBugfix</th>\n",
       "      <th>input_feature</th>\n",
       "    </tr>\n",
       "  </thead>\n",
       "  <tbody>\n",
       "    <tr>\n",
       "      <th>151859</th>\n",
       "      <td>151859</td>\n",
       "      <td>Update installation for impatient\\n</td>\n",
       "      <td>False</td>\n",
       "      <td>update installation impatient</td>\n",
       "    </tr>\n",
       "    <tr>\n",
       "      <th>332572</th>\n",
       "      <td>332572</td>\n",
       "      <td>Added example for using the reverse mapping tool\\n\\ngit-svn-id: https://svn.apache.org/repos/asf/incubator/openjpa/trunk@530939 13f79535-47bb-0310-9956-ffa450edef68\\n</td>\n",
       "      <td>False</td>\n",
       "      <td>added example using reverse mapping tool git-svn-id : https : //svn.apache.org/repos/asf/incubator/openjpa/trunk @ 530939 13f79535-47bb-0310-9956-ffa450edef68</td>\n",
       "    </tr>\n",
       "    <tr>\n",
       "      <th>196656</th>\n",
       "      <td>196656</td>\n",
       "      <td>PDFBOX-2883: remove COSDocument constructors using boolean 'useScratchFiles' parameter and ensure to have an equivalent constructor using MemoryUsageSetting object; default is using main memory only (as before)\\n\\ngit-svn-id: https://svn.apache.org/repos/asf/pdfbox/trunk@1705688 13f79535-47bb-0310-9956-ffa450edef68\\n</td>\n",
       "      <td>False</td>\n",
       "      <td>pdfbox-2883 : remove cosdocument constructors using boolean 'usescratchfiles ' parameter ensure equivalent constructor using memoryusagesetting object ; default using main memory ( ) git-svn-id : https : //svn.apache.org/repos/asf/pdfbox/trunk @ 1705688 13f79535-47bb-0310-9956-ffa450edef68</td>\n",
       "    </tr>\n",
       "    <tr>\n",
       "      <th>395182</th>\n",
       "      <td>395182</td>\n",
       "      <td>Added #else formatting test.\\nPR:\\nObtained from:\\nSubmitted by:\\nReviewed by:\\n\\n\\ngit-svn-id: https://svn.apache.org/repos/asf/jakarta/velocity/trunk@73892 13f79535-47bb-0310-9956-ffa450edef68\\n</td>\n",
       "      <td>False</td>\n",
       "      <td>added # else formatting test . pr : obtained : submitted : reviewed : git-svn-id : https : //svn.apache.org/repos/asf/jakarta/velocity/trunk @ 73892 13f79535-47bb-0310-9956-ffa450edef68</td>\n",
       "    </tr>\n",
       "    <tr>\n",
       "      <th>141552</th>\n",
       "      <td>141552</td>\n",
       "      <td>KAFKA-3740: Part I: expose StreamConfig properties in ProcessorContext\\n\\nThis is the part I of the work to add the StreamsConfig to ProcessorContext.\\n\\nWe need to access StreamsConfig in the ProcessorContext so other components (e.g. RocksDBWindowStore or LRUCache can retrieve config parameter from application)\\n\\nAuthor: Henry Cai &lt;hcai@pinterest.com&gt;\\n\\nReviewers: Guozhang Wang &lt;wangguoz@gmail.com&gt;\\n\\nCloses #1553 from HenryCaiHaiying/config\\n</td>\n",
       "      <td>False</td>\n",
       "      <td>kafka-3740 : part : expose streamconfig properties processorcontext part work add streamsconfig processorcontext . need access streamsconfig processorcontext components ( e.g . rocksdbwindowstore lrucache retrieve config parameter application ) author : henry cai &lt; hcai @ pinterest.com &gt; reviewers : guozhang wang &lt; wangguoz @ gmail.com &gt; closes # 1553 henrycaihaiying/config</td>\n",
       "    </tr>\n",
       "  </tbody>\n",
       "</table>\n",
       "</div>"
      ],
      "text/plain": [
       "         index  \\\n",
       "151859  151859   \n",
       "332572  332572   \n",
       "196656  196656   \n",
       "395182  395182   \n",
       "141552  141552   \n",
       "\n",
       "                                                                                                                                                                                                                                                                                                                                                                                                                                                                    message  \\\n",
       "151859                                                                                                                                                                                                                                                                                                                                                                                                                                  Update installation for impatient\\n   \n",
       "332572                                                                                                                                                                                                                                                                                               Added example for using the reverse mapping tool\\n\\ngit-svn-id: https://svn.apache.org/repos/asf/incubator/openjpa/trunk@530939 13f79535-47bb-0310-9956-ffa450edef68\\n   \n",
       "196656                                                                                                                                       PDFBOX-2883: remove COSDocument constructors using boolean 'useScratchFiles' parameter and ensure to have an equivalent constructor using MemoryUsageSetting object; default is using main memory only (as before)\\n\\ngit-svn-id: https://svn.apache.org/repos/asf/pdfbox/trunk@1705688 13f79535-47bb-0310-9956-ffa450edef68\\n   \n",
       "395182                                                                                                                                                                                                                                                                 Added #else formatting test.\\nPR:\\nObtained from:\\nSubmitted by:\\nReviewed by:\\n\\n\\ngit-svn-id: https://svn.apache.org/repos/asf/jakarta/velocity/trunk@73892 13f79535-47bb-0310-9956-ffa450edef68\\n   \n",
       "141552  KAFKA-3740: Part I: expose StreamConfig properties in ProcessorContext\\n\\nThis is the part I of the work to add the StreamsConfig to ProcessorContext.\\n\\nWe need to access StreamsConfig in the ProcessorContext so other components (e.g. RocksDBWindowStore or LRUCache can retrieve config parameter from application)\\n\\nAuthor: Henry Cai <hcai@pinterest.com>\\n\\nReviewers: Guozhang Wang <wangguoz@gmail.com>\\n\\nCloses #1553 from HenryCaiHaiying/config\\n   \n",
       "\n",
       "        isBugfix  \\\n",
       "151859     False   \n",
       "332572     False   \n",
       "196656     False   \n",
       "395182     False   \n",
       "141552     False   \n",
       "\n",
       "                                                                                                                                                                                                                                                                                                                                                                                   input_feature  \n",
       "151859                                                                                                                                                                                                                                                                                                                                                             update installation impatient  \n",
       "332572                                                                                                                                                                                                                            added example using reverse mapping tool git-svn-id : https : //svn.apache.org/repos/asf/incubator/openjpa/trunk @ 530939 13f79535-47bb-0310-9956-ffa450edef68  \n",
       "196656                                                                                        pdfbox-2883 : remove cosdocument constructors using boolean 'usescratchfiles ' parameter ensure equivalent constructor using memoryusagesetting object ; default using main memory ( ) git-svn-id : https : //svn.apache.org/repos/asf/pdfbox/trunk @ 1705688 13f79535-47bb-0310-9956-ffa450edef68  \n",
       "395182                                                                                                                                                                                                 added # else formatting test . pr : obtained : submitted : reviewed : git-svn-id : https : //svn.apache.org/repos/asf/jakarta/velocity/trunk @ 73892 13f79535-47bb-0310-9956-ffa450edef68  \n",
       "141552  kafka-3740 : part : expose streamconfig properties processorcontext part work add streamsconfig processorcontext . need access streamsconfig processorcontext components ( e.g . rocksdbwindowstore lrucache retrieve config parameter application ) author : henry cai < hcai @ pinterest.com > reviewers : guozhang wang < wangguoz @ gmail.com > closes # 1553 henrycaihaiying/config  "
      ]
     },
     "execution_count": 15,
     "metadata": {},
     "output_type": "execute_result"
    }
   ],
   "source": [
    "def lower_case_and_remove_stopwords(text):\n",
    "    return ' '.join([word for word in nltk.tokenize.word_tokenize(text) if word not in (english_stop_words)])\n",
    "\n",
    "df_commits_annotated['input_feature'] = df_commits_annotated['message']\\\n",
    "    .str.lower().progress_apply(lower_case_and_remove_stopwords)\n",
    "df_commits_annotated.head()"
   ]
  },
  {
   "attachments": {},
   "cell_type": "markdown",
   "metadata": {},
   "source": [
    "Now our 'isBugfix' column needs to be converted from boolean to int: True=1, False=0. This will be our 'target' column"
   ]
  },
  {
   "cell_type": "code",
   "execution_count": 16,
   "metadata": {},
   "outputs": [
    {
     "name": "stderr",
     "output_type": "stream",
     "text": [
      "100%|██████████| 5810/5810 [00:00<00:00, 523454.62it/s]\n"
     ]
    },
    {
     "data": {
      "text/html": [
       "<div>\n",
       "<style scoped>\n",
       "    .dataframe tbody tr th:only-of-type {\n",
       "        vertical-align: middle;\n",
       "    }\n",
       "\n",
       "    .dataframe tbody tr th {\n",
       "        vertical-align: top;\n",
       "    }\n",
       "\n",
       "    .dataframe thead th {\n",
       "        text-align: right;\n",
       "    }\n",
       "</style>\n",
       "<table border=\"1\" class=\"dataframe\">\n",
       "  <thead>\n",
       "    <tr style=\"text-align: right;\">\n",
       "      <th></th>\n",
       "      <th>index</th>\n",
       "      <th>message</th>\n",
       "      <th>isBugfix</th>\n",
       "      <th>input_feature</th>\n",
       "      <th>target</th>\n",
       "    </tr>\n",
       "  </thead>\n",
       "  <tbody>\n",
       "    <tr>\n",
       "      <th>151859</th>\n",
       "      <td>151859</td>\n",
       "      <td>Update installation for impatient\\n</td>\n",
       "      <td>False</td>\n",
       "      <td>update installation impatient</td>\n",
       "      <td>0</td>\n",
       "    </tr>\n",
       "    <tr>\n",
       "      <th>332572</th>\n",
       "      <td>332572</td>\n",
       "      <td>Added example for using the reverse mapping tool\\n\\ngit-svn-id: https://svn.apache.org/repos/asf/incubator/openjpa/trunk@530939 13f79535-47bb-0310-9956-ffa450edef68\\n</td>\n",
       "      <td>False</td>\n",
       "      <td>added example using reverse mapping tool git-svn-id : https : //svn.apache.org/repos/asf/incubator/openjpa/trunk @ 530939 13f79535-47bb-0310-9956-ffa450edef68</td>\n",
       "      <td>0</td>\n",
       "    </tr>\n",
       "    <tr>\n",
       "      <th>196656</th>\n",
       "      <td>196656</td>\n",
       "      <td>PDFBOX-2883: remove COSDocument constructors using boolean 'useScratchFiles' parameter and ensure to have an equivalent constructor using MemoryUsageSetting object; default is using main memory only (as before)\\n\\ngit-svn-id: https://svn.apache.org/repos/asf/pdfbox/trunk@1705688 13f79535-47bb-0310-9956-ffa450edef68\\n</td>\n",
       "      <td>False</td>\n",
       "      <td>pdfbox-2883 : remove cosdocument constructors using boolean 'usescratchfiles ' parameter ensure equivalent constructor using memoryusagesetting object ; default using main memory ( ) git-svn-id : https : //svn.apache.org/repos/asf/pdfbox/trunk @ 1705688 13f79535-47bb-0310-9956-ffa450edef68</td>\n",
       "      <td>0</td>\n",
       "    </tr>\n",
       "    <tr>\n",
       "      <th>395182</th>\n",
       "      <td>395182</td>\n",
       "      <td>Added #else formatting test.\\nPR:\\nObtained from:\\nSubmitted by:\\nReviewed by:\\n\\n\\ngit-svn-id: https://svn.apache.org/repos/asf/jakarta/velocity/trunk@73892 13f79535-47bb-0310-9956-ffa450edef68\\n</td>\n",
       "      <td>False</td>\n",
       "      <td>added # else formatting test . pr : obtained : submitted : reviewed : git-svn-id : https : //svn.apache.org/repos/asf/jakarta/velocity/trunk @ 73892 13f79535-47bb-0310-9956-ffa450edef68</td>\n",
       "      <td>0</td>\n",
       "    </tr>\n",
       "    <tr>\n",
       "      <th>141552</th>\n",
       "      <td>141552</td>\n",
       "      <td>KAFKA-3740: Part I: expose StreamConfig properties in ProcessorContext\\n\\nThis is the part I of the work to add the StreamsConfig to ProcessorContext.\\n\\nWe need to access StreamsConfig in the ProcessorContext so other components (e.g. RocksDBWindowStore or LRUCache can retrieve config parameter from application)\\n\\nAuthor: Henry Cai &lt;hcai@pinterest.com&gt;\\n\\nReviewers: Guozhang Wang &lt;wangguoz@gmail.com&gt;\\n\\nCloses #1553 from HenryCaiHaiying/config\\n</td>\n",
       "      <td>False</td>\n",
       "      <td>kafka-3740 : part : expose streamconfig properties processorcontext part work add streamsconfig processorcontext . need access streamsconfig processorcontext components ( e.g . rocksdbwindowstore lrucache retrieve config parameter application ) author : henry cai &lt; hcai @ pinterest.com &gt; reviewers : guozhang wang &lt; wangguoz @ gmail.com &gt; closes # 1553 henrycaihaiying/config</td>\n",
       "      <td>0</td>\n",
       "    </tr>\n",
       "  </tbody>\n",
       "</table>\n",
       "</div>"
      ],
      "text/plain": [
       "         index  \\\n",
       "151859  151859   \n",
       "332572  332572   \n",
       "196656  196656   \n",
       "395182  395182   \n",
       "141552  141552   \n",
       "\n",
       "                                                                                                                                                                                                                                                                                                                                                                                                                                                                    message  \\\n",
       "151859                                                                                                                                                                                                                                                                                                                                                                                                                                  Update installation for impatient\\n   \n",
       "332572                                                                                                                                                                                                                                                                                               Added example for using the reverse mapping tool\\n\\ngit-svn-id: https://svn.apache.org/repos/asf/incubator/openjpa/trunk@530939 13f79535-47bb-0310-9956-ffa450edef68\\n   \n",
       "196656                                                                                                                                       PDFBOX-2883: remove COSDocument constructors using boolean 'useScratchFiles' parameter and ensure to have an equivalent constructor using MemoryUsageSetting object; default is using main memory only (as before)\\n\\ngit-svn-id: https://svn.apache.org/repos/asf/pdfbox/trunk@1705688 13f79535-47bb-0310-9956-ffa450edef68\\n   \n",
       "395182                                                                                                                                                                                                                                                                 Added #else formatting test.\\nPR:\\nObtained from:\\nSubmitted by:\\nReviewed by:\\n\\n\\ngit-svn-id: https://svn.apache.org/repos/asf/jakarta/velocity/trunk@73892 13f79535-47bb-0310-9956-ffa450edef68\\n   \n",
       "141552  KAFKA-3740: Part I: expose StreamConfig properties in ProcessorContext\\n\\nThis is the part I of the work to add the StreamsConfig to ProcessorContext.\\n\\nWe need to access StreamsConfig in the ProcessorContext so other components (e.g. RocksDBWindowStore or LRUCache can retrieve config parameter from application)\\n\\nAuthor: Henry Cai <hcai@pinterest.com>\\n\\nReviewers: Guozhang Wang <wangguoz@gmail.com>\\n\\nCloses #1553 from HenryCaiHaiying/config\\n   \n",
       "\n",
       "        isBugfix  \\\n",
       "151859     False   \n",
       "332572     False   \n",
       "196656     False   \n",
       "395182     False   \n",
       "141552     False   \n",
       "\n",
       "                                                                                                                                                                                                                                                                                                                                                                                   input_feature  \\\n",
       "151859                                                                                                                                                                                                                                                                                                                                                             update installation impatient   \n",
       "332572                                                                                                                                                                                                                            added example using reverse mapping tool git-svn-id : https : //svn.apache.org/repos/asf/incubator/openjpa/trunk @ 530939 13f79535-47bb-0310-9956-ffa450edef68   \n",
       "196656                                                                                        pdfbox-2883 : remove cosdocument constructors using boolean 'usescratchfiles ' parameter ensure equivalent constructor using memoryusagesetting object ; default using main memory ( ) git-svn-id : https : //svn.apache.org/repos/asf/pdfbox/trunk @ 1705688 13f79535-47bb-0310-9956-ffa450edef68   \n",
       "395182                                                                                                                                                                                                 added # else formatting test . pr : obtained : submitted : reviewed : git-svn-id : https : //svn.apache.org/repos/asf/jakarta/velocity/trunk @ 73892 13f79535-47bb-0310-9956-ffa450edef68   \n",
       "141552  kafka-3740 : part : expose streamconfig properties processorcontext part work add streamsconfig processorcontext . need access streamsconfig processorcontext components ( e.g . rocksdbwindowstore lrucache retrieve config parameter application ) author : henry cai < hcai @ pinterest.com > reviewers : guozhang wang < wangguoz @ gmail.com > closes # 1553 henrycaihaiying/config   \n",
       "\n",
       "        target  \n",
       "151859       0  \n",
       "332572       0  \n",
       "196656       0  \n",
       "395182       0  \n",
       "141552       0  "
      ]
     },
     "execution_count": 16,
     "metadata": {},
     "output_type": "execute_result"
    }
   ],
   "source": [
    "df_commits_annotated['target'] = df_commits_annotated['isBugfix']\\\n",
    "    .progress_apply(lambda x: 1 if x else 0)\n",
    "df_commits_annotated.head()"
   ]
  },
  {
   "attachments": {},
   "cell_type": "markdown",
   "metadata": {},
   "source": [
    "Now we will start the training process. First we split the data into train/test"
   ]
  },
  {
   "cell_type": "code",
   "execution_count": 17,
   "metadata": {},
   "outputs": [],
   "source": [
    "train, test = train_test_split(df_commits_annotated, test_size=0.33, random_state=42)"
   ]
  },
  {
   "attachments": {},
   "cell_type": "markdown",
   "metadata": {},
   "source": [
    "The we ask Auto_NLP to find the best model for us.\n",
    "On my machine (a core i7-3770 CPU @ 3.40GHz with no GPU and 12Gb of RAM) this takes around 2 minutes."
   ]
  },
  {
   "cell_type": "code",
   "execution_count": 18,
   "metadata": {},
   "outputs": [
    {
     "name": "stderr",
     "output_type": "stream",
     "text": [
      "[nltk_data] Downloading collection 'popular'\n",
      "[nltk_data]    | \n",
      "[nltk_data]    | Downloading package cmudict to\n",
      "[nltk_data]    |     /home/daniel/nltk_data...\n",
      "[nltk_data]    |   Package cmudict is already up-to-date!\n",
      "[nltk_data]    | Downloading package gazetteers to\n",
      "[nltk_data]    |     /home/daniel/nltk_data...\n",
      "[nltk_data]    |   Package gazetteers is already up-to-date!\n",
      "[nltk_data]    | Downloading package genesis to\n",
      "[nltk_data]    |     /home/daniel/nltk_data...\n",
      "[nltk_data]    |   Package genesis is already up-to-date!\n",
      "[nltk_data]    | Downloading package gutenberg to\n",
      "[nltk_data]    |     /home/daniel/nltk_data...\n",
      "[nltk_data]    |   Package gutenberg is already up-to-date!\n",
      "[nltk_data]    | Downloading package inaugural to\n",
      "[nltk_data]    |     /home/daniel/nltk_data...\n",
      "[nltk_data]    |   Package inaugural is already up-to-date!\n",
      "[nltk_data]    | Downloading package movie_reviews to\n",
      "[nltk_data]    |     /home/daniel/nltk_data...\n",
      "[nltk_data]    |   Package movie_reviews is already up-to-date!\n",
      "[nltk_data]    | Downloading package names to\n",
      "[nltk_data]    |     /home/daniel/nltk_data...\n",
      "[nltk_data]    |   Package names is already up-to-date!\n",
      "[nltk_data]    | Downloading package shakespeare to\n",
      "[nltk_data]    |     /home/daniel/nltk_data...\n",
      "[nltk_data]    |   Package shakespeare is already up-to-date!\n",
      "[nltk_data]    | Downloading package stopwords to\n",
      "[nltk_data]    |     /home/daniel/nltk_data...\n",
      "[nltk_data]    |   Package stopwords is already up-to-date!\n",
      "[nltk_data]    | Downloading package treebank to\n",
      "[nltk_data]    |     /home/daniel/nltk_data...\n",
      "[nltk_data]    |   Package treebank is already up-to-date!\n",
      "[nltk_data]    | Downloading package twitter_samples to\n",
      "[nltk_data]    |     /home/daniel/nltk_data...\n",
      "[nltk_data]    |   Package twitter_samples is already up-to-date!\n",
      "[nltk_data]    | Downloading package omw to /home/daniel/nltk_data...\n",
      "[nltk_data]    |   Package omw is already up-to-date!\n",
      "[nltk_data]    | Downloading package omw-1.4 to\n",
      "[nltk_data]    |     /home/daniel/nltk_data...\n",
      "[nltk_data]    |   Package omw-1.4 is already up-to-date!\n",
      "[nltk_data]    | Downloading package wordnet to\n",
      "[nltk_data]    |     /home/daniel/nltk_data...\n",
      "[nltk_data]    |   Package wordnet is already up-to-date!\n",
      "[nltk_data]    | Downloading package wordnet2021 to\n",
      "[nltk_data]    |     /home/daniel/nltk_data...\n",
      "[nltk_data]    |   Package wordnet2021 is already up-to-date!\n",
      "[nltk_data]    | Downloading package wordnet31 to\n",
      "[nltk_data]    |     /home/daniel/nltk_data...\n",
      "[nltk_data]    |   Package wordnet31 is already up-to-date!\n",
      "[nltk_data]    | Downloading package wordnet_ic to\n",
      "[nltk_data]    |     /home/daniel/nltk_data...\n",
      "[nltk_data]    |   Package wordnet_ic is already up-to-date!\n",
      "[nltk_data]    | Downloading package words to\n",
      "[nltk_data]    |     /home/daniel/nltk_data...\n",
      "[nltk_data]    |   Package words is already up-to-date!\n",
      "[nltk_data]    | Downloading package maxent_ne_chunker to\n",
      "[nltk_data]    |     /home/daniel/nltk_data...\n",
      "[nltk_data]    |   Package maxent_ne_chunker is already up-to-date!\n",
      "[nltk_data]    | Downloading package punkt to\n",
      "[nltk_data]    |     /home/daniel/nltk_data...\n",
      "[nltk_data]    |   Package punkt is already up-to-date!\n",
      "[nltk_data]    | Downloading package snowball_data to\n",
      "[nltk_data]    |     /home/daniel/nltk_data...\n",
      "[nltk_data]    |   Package snowball_data is already up-to-date!\n",
      "[nltk_data]    | Downloading package averaged_perceptron_tagger to\n",
      "[nltk_data]    |     /home/daniel/nltk_data...\n",
      "[nltk_data]    |   Package averaged_perceptron_tagger is already up-\n",
      "[nltk_data]    |       to-date!\n",
      "[nltk_data]    | \n",
      "[nltk_data]  Done downloading collection popular\n"
     ]
    },
    {
     "name": "stdout",
     "output_type": "stream",
     "text": [
      "Auto NLP processing on NLP Column: input_feature\n",
      "Shape of Train Data: 3892 rows\n",
      "    Shape of Test Data: 1918 rows\n",
      "    Added 9 summary columns for counts of words and characters in each row\n",
      "Cleaning text in Train data for input_feature column\n",
      "    Faster text processing using clean_tweets function, since top_num_features exceeds 300\n",
      "Train data Text cleaning completed. Time taken = 3 seconds\n",
      "\n",
      "For target = target\n",
      "\n",
      "    For class = 0\n",
      "Top 200 n-grams\n",
      ": ['fix', 'test', 'ad', 'add', 'updat', 'merg', 'remov', 'branch', 'use', 'releas', 'trunk', 'file', 'prepar', 'version', 'chang', 'close', 'mavenreleaseplugin', 'svnapacheorgreposasfincubatorjspwikitrunk', 'code', 'new', 'commit', 'develop', 'pdfbox', 'support', 'javadoc', 'work', 'class', 'storm', 'move', 'x', 'method', 'jcr', 'error', 'set', 'nt', 'patch', 'issu', 'name', 'type', 'log', 'svnapacheorgreposasfmavencomponentstrunk', 'creat', 'phoenix', 'svnapacheorgreposasfpdfboxtrunk', 'iter', 'make', 'bug', 'document', 'next', 'case', 'review', 'tag', 'refactor', 'comment', 'minor', 'build', 'plugin', 'derbi', 'svnapacheorgreposasfincubatorjenaimportjenasvnarqtrunk', 'improv', 'fail', 'svnapacheorgreposasfincubatorjenaimportjenacvsjena', 'svnapacheorgreposasfsisbranchesjdk', 'svnapacheorgreposasfjackrabbittrunk', 'messag', 'except', 'master', 'correct', 'cleanup', 'licens', 'need', 'gener', 'page', 'configur', 'depend', 'check', 'allow', 'typo', 'request', 'miss', 'pr', 'project', 'warn', 'svnapacheorgreposasfdbderbycodetrunk', 'api', 'pull', 'svnapacheorgreposasfarchivatrunk', 'note', 'unus', 'instead', 'implement', 'author', 'tabl', 'rc', 'svnapacheorgreposasfxercesjavatrunk', 'import', 'renam', 'return', 'submit', 'unit', 'null', 'properti', 'changelog', 'jdk', 'signedoffbi', 'call', 'uima', 'pom', 'handl', 'format', 'appli', 'port', 'jar', 'svnapacheorgreposasfdirectorystudiotrunk', 'tika', 'snapshot', 'ww', 'data', 'svnapacheorgreposasfactivemqtrunk', 'avoid', 'paramet', 'svnapacheorgreposasfstrutsstrut', 'maven', 'svnapacheorgreposasfcommonspropermathtrunk', 'initi', 'svnapacheorgreposasfincubatoractivemqtrunk', 'svnapacheorgreposasfopenwebbeanstrunk', 'kylin', 'svnapacheorgreposasfincubatorjenaimportjenasvnsdbtrunk', 'upgrad', 'tez', 'jame', 'also', 'merg branch', 'trunk f', 'http svnapacheorgreposasfincubatorjspwikitrunk', 'svnapacheorgreposasfincubatorjspwikitrunk f', 'mavenreleaseplugin prepar', 'http svnapacheorgreposasfmavencomponentstrunk', 'svnapacheorgreposasfmavencomponentstrunk f', 'http svnapacheorgreposasfpdfboxtrunk', 'svnapacheorgreposasfpdfboxtrunk f', 'http svnapacheorgreposasfdbderbycodetrunk', 'svnapacheorgreposasfdbderbycodetrunk f', 'http svnapacheorgreposasfjackrabbittrunk', 'svnapacheorgreposasfjackrabbittrunk f', 'x f', 'http svnapacheorgreposasfsisbranchesjdk', 'svnapacheorgreposasfsisbranchesjdk f', 'http svnapacheorgreposasfincubatorjenaimportjenacvsjena', 'svnapacheorgreposasfincubatorjenaimportjenacvsjena trunk', 'prepar releas', 'pull request', 'http svnapacheorgreposasfarchivatrunk', 'svnapacheorgreposasfarchivatrunk f', 'unit test', 'http svnapacheorgreposasfxercesjavatrunk', 'svnapacheorgreposasfxercesjavatrunk f', 'develop iter', 'next develop', 'prepar next', 'branch master', 'merg pull', 'http svnapacheorgreposasfopenwebbeanstrunk', 'svnapacheorgreposasfopenwebbeanstrunk f', 'test gitsvnid', 'trunk f bb', 'gitsvnid http svnapacheorgreposasfincubatorjspwikitrunk', 'http svnapacheorgreposasfincubatorjspwikitrunk f', 'svnapacheorgreposasfincubatorjspwikitrunk f bb', 'gitsvnid http svnapacheorgreposasfdbderbycodetrunk', 'http svnapacheorgreposasfdbderbycodetrunk f', 'svnapacheorgreposasfdbderbycodetrunk f bb', 'gitsvnid http svnapacheorgreposasfpdfboxtrunk', 'http svnapacheorgreposasfpdfboxtrunk f', 'svnapacheorgreposasfpdfboxtrunk f bb', 'gitsvnid http svnapacheorgreposasfmavencomponentstrunk', 'http svnapacheorgreposasfmavencomponentstrunk f', 'svnapacheorgreposasfmavencomponentstrunk f bb', 'gitsvnid http svnapacheorgreposasfjackrabbittrunk', 'http svnapacheorgreposasfjackrabbittrunk f', 'svnapacheorgreposasfjackrabbittrunk f bb', 'merg pull request', 'x f bb', 'merg branch master', 'gitsvnid http svnapacheorgreposasfxercesjavatrunk', 'http svnapacheorgreposasfxercesjavatrunk f', 'svnapacheorgreposasfxercesjavatrunk f bb', 'gitsvnid http svnapacheorgreposasfsisbranchesjdk', 'http svnapacheorgreposasfsisbranchesjdk f', 'svnapacheorgreposasfsisbranchesjdk f bb', 'next develop iter', 'gitsvnid http svnapacheorgreposasfincubatorjenaimportjenacvsjena', 'http svnapacheorgreposasfincubatorjenaimportjenacvsjena trunk', 'svnapacheorgreposasfincubatorjenaimportjenacvsjena trunk f', 'mavenreleaseplugin prepar next', 'prepar next develop', 'mavenreleaseplugin prepar releas', 'gitsvnid http svnapacheorgreposasfarchivatrunk']\n",
      "    Top n-grams that are most frequent in this class are: 199\n",
      "\n",
      "    For class = 1\n",
      "Top 200 n-grams\n",
      ": ['fix', 'ivi', 'math', 'svnapacheorgreposasfantivycoretrunk', 'thank', 'use', 'svnapacheorgreposasfwebserviceswss', 'wss', 'configur', 'patch', 'svnapacheorgreposasfcommonspropermathtrunk', 'compress', 'giraph', 'test', 'close', 'jira', 'net', 'jtrunk', 'lang', 'ad', 'nt', 'opennlp', 'handl', 'appli', 'method', 'vf', 'file', 'gora', 'xfix', 'svnapacheorgreposasfincubatorivytrunk', 'fail', 'work', 'svnapacheorgreposasfcommonspropernettrunk', 'return', 'chang', 'svnapacheorgreposasfcommonsproperconfigurationtrunk', 'valu', 'branch', 'svnapacheorgreposasfcommonspropercompresstrunk', 'set', 'add', 'case', 'check', 'correctli', 'svnapacheorgreposasfcommonspropervfstrunk', 'jbranch', 'resolv', 'x', 'santuario', 'error', 'bug', 'svnapacheorgreposasfcommonsproperlangtrunk', 'attribut', 'io', 'collect', 'commit', 'report', 'support', 'valid', 'svnapacheorgreposasfcommonsproperiotrunk', 'npe', 'svnapacheorgreposasfopennlptrunk', 'remov', 'throw', 'problem', 'properli', 'issu', 'updat', 'null', 'name', 'merg', 'nullpointerexcept', 'jc', 'svnapacheorgreposasfincubatorivycoretrunk', 'except', 'type', 'class', 'trunk', 'call', 'instead', 'depend', 'wrong', 'properti', 'follow', 'provid', 'dbcp', 'svnapacheorgreposasfcommonsproperconfigurationbranchesconfigur', 'svnapacheorgreposasfgoratrunk', 'port', 'allow', 'pars', 'new', 'svnapacheorgreposasfsantuarioxmlsecurityjavatrunk', 'also', 'author', 'code', 'string', 'caus', 'parquet', 'squash', 'backport', 'svnapacheorgreposasfcommonsproperjcstrunk', 'default', 'svnapacheorgreposasfcommonspropervalidatortrunk', 'incorrect', 'key', 'svnapacheorgreposasfcommonspropernetbranchesnet', 'pass', 'implement', 'unit', 'element', 'cach', 'gener', 'entri', 'scxml', 'read', 'contain', 'input', 'majakabiljo', 'initi', 'empti', 'broken', 'experiment', 'improv', 'make', 'version', 'svnapacheorgreposasfcommonspropercollectionstrunk', 'correct', 'avoid', 'overflow', 'creat', 'svnapacheorgreposasfcommonsproperdbcptrunk', 'object', 'ivi gitsvnid', 'http svnapacheorgreposasfantivycoretrunk', 'svnapacheorgreposasfantivycoretrunk f', 'http svnapacheorgreposasfcommonspropermathtrunk', 'svnapacheorgreposasfcommonspropermathtrunk f', 'http svnapacheorgreposasfwebserviceswss', 'jira math', 'http svnapacheorgreposasfcommonspropernettrunk', 'svnapacheorgreposasfcommonspropernettrunk f', 'jtrunk f', 'svnapacheorgreposasfwebserviceswss jtrunk', 'http svnapacheorgreposasfcommonspropercompresstrunk', 'svnapacheorgreposasfcommonspropercompresstrunk f', 'math gitsvnid', 'http svnapacheorgreposasfcommonsproperconfigurationtrunk', 'svnapacheorgreposasfcommonsproperconfigurationtrunk f', 'http svnapacheorgreposasfincubatorivytrunk', 'svnapacheorgreposasfincubatorivytrunk f', 'http svnapacheorgreposasfcommonsproperlangtrunk', 'svnapacheorgreposasfcommonsproperlangtrunk f', 'xfix f', 'ivi thank', 'http svnapacheorgreposasfcommonspropervfstrunk', 'svnapacheorgreposasfcommonspropervfstrunk f', 'http svnapacheorgreposasfopennlptrunk', 'svnapacheorgreposasfopennlptrunk f', 'http svnapacheorgreposasfcommonsproperiotrunk', 'svnapacheorgreposasfcommonsproperiotrunk f', 'http svnapacheorgreposasfincubatorivycoretrunk', 'svnapacheorgreposasfincubatorivycoretrunk f', 'svnapacheorgreposasfwebserviceswss jbranch', 'jbranch xfix', 'patch gitsvnid', 'gitsvnid http svnapacheorgreposasfantivycoretrunk', 'http svnapacheorgreposasfantivycoretrunk f', 'svnapacheorgreposasfantivycoretrunk f bb', 'ivi gitsvnid http', 'gitsvnid http svnapacheorgreposasfcommonspropermathtrunk', 'http svnapacheorgreposasfcommonspropermathtrunk f', 'svnapacheorgreposasfcommonspropermathtrunk f bb', 'gitsvnid http svnapacheorgreposasfwebserviceswss', 'http svnapacheorgreposasfwebserviceswss jtrunk', 'jtrunk f bb', 'svnapacheorgreposasfwebserviceswss jtrunk f', 'gitsvnid http svnapacheorgreposasfcommonspropernettrunk', 'http svnapacheorgreposasfcommonspropernettrunk f', 'svnapacheorgreposasfcommonspropernettrunk f bb', 'gitsvnid http svnapacheorgreposasfcommonspropercompresstrunk', 'http svnapacheorgreposasfcommonspropercompresstrunk f', 'svnapacheorgreposasfcommonspropercompresstrunk f bb', 'gitsvnid http svnapacheorgreposasfcommonsproperconfigurationtrunk', 'http svnapacheorgreposasfcommonsproperconfigurationtrunk f', 'svnapacheorgreposasfcommonsproperconfigurationtrunk f bb', 'math gitsvnid http', 'gitsvnid http svnapacheorgreposasfincubatorivytrunk', 'http svnapacheorgreposasfincubatorivytrunk f', 'svnapacheorgreposasfincubatorivytrunk f bb', 'gitsvnid http svnapacheorgreposasfcommonsproperlangtrunk', 'http svnapacheorgreposasfcommonsproperlangtrunk f', 'svnapacheorgreposasfcommonsproperlangtrunk f bb', 'jira math gitsvnid', 'squash follow commit', 'gitsvnid http svnapacheorgreposasfcommonspropervfstrunk', 'http svnapacheorgreposasfcommonspropervfstrunk f', 'svnapacheorgreposasfcommonspropervfstrunk f bb', 'gitsvnid http svnapacheorgreposasfcommonsproperiotrunk']\n",
      "    Top n-grams that are most frequent in this class are: 199\n",
      "Time Taken = 0 seconds\n",
      "##################    THIS IS FOR BUILD_MODEL = TRUE           #################\n",
      "Building Model and Pipeline for NLP column = input_feature. This will take time...\n",
      "       Class  -> Counts -> Percent\n",
      "           0:    1927  ->   49.5%\n",
      "           1:    1965  ->   50.5%\n",
      "    Selected the maximum number of features limit = 5000\n",
      "Performing RandomizedSearchCV across 30 params. Optimizing for accuracy\n",
      "    Using train data = (3308,) and Cross Validation data = (584,)\n",
      "Using a Calibrated Classifier in this Multi_Classification dataset to improve results...\n",
      "Since top_num_features = 300, selecting Random Forest Classifier model. If you need different model, decrease it <300.\n",
      "Training completed. Time taken for training = 1.9 minutes\n",
      "Best Params of NLP pipeline are: {'selectkbest__k': 920, 'tfidfvectorizer__binary': False, 'tfidfvectorizer__encoding': 'latin-1', 'tfidfvectorizer__max_df': 0.23622995216793718}\n"
     ]
    },
    {
     "data": {
      "text/html": [
       "<style>.container { width:95% !important; }</style>"
      ],
      "text/plain": [
       "<IPython.core.display.HTML object>"
      ]
     },
     "metadata": {},
     "output_type": "display_data"
    },
    {
     "data": {
      "image/png": "[encoded data removed]",
      "text/plain": [
       "<Figure size 1200x800 with 2 Axes>"
      ]
     },
     "metadata": {},
     "output_type": "display_data"
    },
    {
     "data": {
      "text/html": [
       "<style>.container { width:95% !important; }</style>"
      ],
      "text/plain": [
       "<IPython.core.display.HTML object>"
      ]
     },
     "metadata": {},
     "output_type": "display_data"
    },
    {
     "data": {
      "image/png": "[encoded data removed]",
      "text/plain": [
       "<Figure size 1200x800 with 2 Axes>"
      ]
     },
     "metadata": {},
     "output_type": "display_data"
    },
    {
     "name": "stdout",
     "output_type": "stream",
     "text": [
      "  Now transforming Train data to return as output...\n",
      "  Transforming Test data to return as output...\n",
      "Training best Auto_NLP Pipeline on full Train data...will be faster since best params are known\n",
      "    Returning best Auto_NLP pipeline to transform and make predictions on test data...\n",
      "Training completed. Time taken for Auto_NLP = 2.2 minutes\n"
     ]
    }
   ],
   "source": [
    "train_x, test_x, final, predicted = Auto_NLP('input_feature', \n",
    "                                            train,\n",
    "                                            test,\n",
    "                                            'target',\n",
    "                                            score_type='weighted-f1',\n",
    "                                            modeltype='Classification',\n",
    "                                            verbose=0,\n",
    "                                            build_model=True)"
   ]
  },
  {
   "attachments": {},
   "cell_type": "markdown",
   "metadata": {},
   "source": [
    "Now let's get the parameters for the best pipeline"
   ]
  },
  {
   "cell_type": "code",
   "execution_count": 28,
   "metadata": {},
   "outputs": [
    {
     "data": {
      "text/plain": [
       "{'memory': None,\n",
       " 'steps': [('functiontransformer',\n",
       "   FunctionTransformer(func=<function Auto_NLP.<locals>.<lambda> at 0x7fafbe85da20>)),\n",
       "  ('tfidfvectorizer',\n",
       "   TfidfVectorizer(encoding='latin-1', max_df=0.23622995216793718,\n",
       "                   max_features=920, min_df=2, ngram_range=(1, 3),\n",
       "                   sublinear_tf=True, token_pattern='\\\\w{1,}')),\n",
       "  ('selectkbest',\n",
       "   SelectKBest(k=920, score_func=<function chi2 at 0x7fb0326b09d0>)),\n",
       "  ('calibratedclassifiercv',\n",
       "   CalibratedClassifierCV(base_estimator=RandomForestClassifier(n_estimators=200,\n",
       "                                                                n_jobs=-1,\n",
       "                                                                random_state=99),\n",
       "                          cv=3, method='isotonic'))],\n",
       " 'verbose': False,\n",
       " 'functiontransformer': FunctionTransformer(func=<function Auto_NLP.<locals>.<lambda> at 0x7fafbe85da20>),\n",
       " 'tfidfvectorizer': TfidfVectorizer(encoding='latin-1', max_df=0.23622995216793718,\n",
       "                 max_features=920, min_df=2, ngram_range=(1, 3),\n",
       "                 sublinear_tf=True, token_pattern='\\\\w{1,}'),\n",
       " 'selectkbest': SelectKBest(k=920, score_func=<function chi2 at 0x7fb0326b09d0>),\n",
       " 'calibratedclassifiercv': CalibratedClassifierCV(base_estimator=RandomForestClassifier(n_estimators=200,\n",
       "                                                              n_jobs=-1,\n",
       "                                                              random_state=99),\n",
       "                        cv=3, method='isotonic'),\n",
       " 'functiontransformer__accept_sparse': False,\n",
       " 'functiontransformer__check_inverse': True,\n",
       " 'functiontransformer__func': <function autoviml.Auto_NLP.Auto_NLP.<locals>.<lambda>(x)>,\n",
       " 'functiontransformer__inv_kw_args': None,\n",
       " 'functiontransformer__inverse_func': None,\n",
       " 'functiontransformer__kw_args': None,\n",
       " 'functiontransformer__validate': False,\n",
       " 'tfidfvectorizer__analyzer': 'word',\n",
       " 'tfidfvectorizer__binary': False,\n",
       " 'tfidfvectorizer__decode_error': 'strict',\n",
       " 'tfidfvectorizer__dtype': numpy.float64,\n",
       " 'tfidfvectorizer__encoding': 'latin-1',\n",
       " 'tfidfvectorizer__input': 'content',\n",
       " 'tfidfvectorizer__lowercase': True,\n",
       " 'tfidfvectorizer__max_df': 0.23622995216793718,\n",
       " 'tfidfvectorizer__max_features': 920,\n",
       " 'tfidfvectorizer__min_df': 2,\n",
       " 'tfidfvectorizer__ngram_range': (1, 3),\n",
       " 'tfidfvectorizer__norm': 'l2',\n",
       " 'tfidfvectorizer__preprocessor': None,\n",
       " 'tfidfvectorizer__smooth_idf': True,\n",
       " 'tfidfvectorizer__stop_words': None,\n",
       " 'tfidfvectorizer__strip_accents': None,\n",
       " 'tfidfvectorizer__sublinear_tf': True,\n",
       " 'tfidfvectorizer__token_pattern': '\\\\w{1,}',\n",
       " 'tfidfvectorizer__tokenizer': None,\n",
       " 'tfidfvectorizer__use_idf': True,\n",
       " 'tfidfvectorizer__vocabulary': None,\n",
       " 'selectkbest__k': 920,\n",
       " 'selectkbest__score_func': <function sklearn.feature_selection._univariate_selection.chi2(X, y)>,\n",
       " 'calibratedclassifiercv__base_estimator__bootstrap': True,\n",
       " 'calibratedclassifiercv__base_estimator__ccp_alpha': 0.0,\n",
       " 'calibratedclassifiercv__base_estimator__class_weight': None,\n",
       " 'calibratedclassifiercv__base_estimator__criterion': 'gini',\n",
       " 'calibratedclassifiercv__base_estimator__max_depth': None,\n",
       " 'calibratedclassifiercv__base_estimator__max_features': 'auto',\n",
       " 'calibratedclassifiercv__base_estimator__max_leaf_nodes': None,\n",
       " 'calibratedclassifiercv__base_estimator__max_samples': None,\n",
       " 'calibratedclassifiercv__base_estimator__min_impurity_decrease': 0.0,\n",
       " 'calibratedclassifiercv__base_estimator__min_samples_leaf': 1,\n",
       " 'calibratedclassifiercv__base_estimator__min_samples_split': 2,\n",
       " 'calibratedclassifiercv__base_estimator__min_weight_fraction_leaf': 0.0,\n",
       " 'calibratedclassifiercv__base_estimator__n_estimators': 200,\n",
       " 'calibratedclassifiercv__base_estimator__n_jobs': -1,\n",
       " 'calibratedclassifiercv__base_estimator__oob_score': False,\n",
       " 'calibratedclassifiercv__base_estimator__random_state': 99,\n",
       " 'calibratedclassifiercv__base_estimator__verbose': 0,\n",
       " 'calibratedclassifiercv__base_estimator__warm_start': False,\n",
       " 'calibratedclassifiercv__base_estimator': RandomForestClassifier(n_estimators=200, n_jobs=-1, random_state=99),\n",
       " 'calibratedclassifiercv__cv': 3,\n",
       " 'calibratedclassifiercv__ensemble': True,\n",
       " 'calibratedclassifiercv__method': 'isotonic',\n",
       " 'calibratedclassifiercv__n_jobs': None}"
      ]
     },
     "execution_count": 28,
     "metadata": {},
     "output_type": "execute_result"
    }
   ],
   "source": [
    "final.get_params()"
   ]
  },
  {
   "attachments": {},
   "cell_type": "markdown",
   "metadata": {},
   "source": [
    "We are only interested in the best parameters for the vectorizer, which is the second step"
   ]
  },
  {
   "cell_type": "code",
   "execution_count": 29,
   "metadata": {},
   "outputs": [
    {
     "name": "stdout",
     "output_type": "stream",
     "text": [
      "TfidfVectorizer(encoding='latin-1', max_df=0.23622995216793718,\n",
      "                max_features=920, min_df=2, ngram_range=(1, 3),\n",
      "                sublinear_tf=True, token_pattern='\\\\w{1,}')\n"
     ]
    }
   ],
   "source": [
    "print(final.get_params()['steps'][1][1])"
   ]
  }
 ],
 "metadata": {
  "kernelspec": {
   "display_name": "vecttuning",
   "language": "python",
   "name": "python3"
  },
  "language_info": {
   "codemirror_mode": {
    "name": "ipython",
    "version": 3
   },
   "file_extension": ".py",
   "mimetype": "text/x-python",
   "name": "python",
   "nbconvert_exporter": "python",
   "pygments_lexer": "ipython3",
   "version": "3.10.9 (main, Jan 10 2023, 16:19:05) [GCC 9.4.0]"
  },
  "orig_nbformat": 4,
  "vscode": {
   "interpreter": {
    "hash": "deccdabab5bf3f138e235883fae173b604e112e5b1ddcabec493d9364ac2b9db"
   }
  }
 },
 "nbformat": 4,
 "nbformat_minor": 2
}
