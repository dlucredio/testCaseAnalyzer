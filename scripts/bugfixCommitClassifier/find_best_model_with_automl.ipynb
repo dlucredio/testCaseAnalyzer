{
 "cells": [
  {
   "attachments": {},
   "cell_type": "markdown",
   "metadata": {},
   "source": [
    "This notebook is used to find the best model for the dataset using auto_sklearn.\n",
    "\n",
    "Tested in a clean environment with Python 3.10.9"
   ]
  },
  {
   "attachments": {},
   "cell_type": "markdown",
   "metadata": {},
   "source": [
    "These are the packages we used"
   ]
  },
  {
   "cell_type": "code",
   "execution_count": 1,
   "metadata": {},
   "outputs": [
    {
     "name": "stdout",
     "output_type": "stream",
     "text": [
      "Requirement already satisfied: pandas==1.5.2 in /home/daniel/.pyenv/versions/3.10.9/envs/findbestmodel/lib/python3.10/site-packages (1.5.2)\n",
      "Requirement already satisfied: pytz>=2020.1 in /home/daniel/.pyenv/versions/3.10.9/envs/findbestmodel/lib/python3.10/site-packages (from pandas==1.5.2) (2022.7)\n",
      "Requirement already satisfied: numpy>=1.21.0 in /home/daniel/.pyenv/versions/3.10.9/envs/findbestmodel/lib/python3.10/site-packages (from pandas==1.5.2) (1.24.1)\n",
      "Requirement already satisfied: python-dateutil>=2.8.1 in /home/daniel/.pyenv/versions/3.10.9/envs/findbestmodel/lib/python3.10/site-packages (from pandas==1.5.2) (2.8.2)\n",
      "Requirement already satisfied: six>=1.5 in /home/daniel/.pyenv/versions/3.10.9/envs/findbestmodel/lib/python3.10/site-packages (from python-dateutil>=2.8.1->pandas==1.5.2) (1.16.0)\n",
      "Note: you may need to restart the kernel to use updated packages.\n",
      "Requirement already satisfied: tqdm==4.64.1 in /home/daniel/.pyenv/versions/3.10.9/envs/findbestmodel/lib/python3.10/site-packages (4.64.1)\n",
      "Note: you may need to restart the kernel to use updated packages.\n",
      "Requirement already satisfied: pyarrow==10.0.1 in /home/daniel/.pyenv/versions/3.10.9/envs/findbestmodel/lib/python3.10/site-packages (10.0.1)\n",
      "Requirement already satisfied: numpy>=1.16.6 in /home/daniel/.pyenv/versions/3.10.9/envs/findbestmodel/lib/python3.10/site-packages (from pyarrow==10.0.1) (1.24.1)\n",
      "Note: you may need to restart the kernel to use updated packages.\n",
      "Requirement already satisfied: nltk==3.8.1 in /home/daniel/.pyenv/versions/3.10.9/envs/findbestmodel/lib/python3.10/site-packages (3.8.1)\n",
      "Requirement already satisfied: tqdm in /home/daniel/.pyenv/versions/3.10.9/envs/findbestmodel/lib/python3.10/site-packages (from nltk==3.8.1) (4.64.1)\n",
      "Requirement already satisfied: regex>=2021.8.3 in /home/daniel/.pyenv/versions/3.10.9/envs/findbestmodel/lib/python3.10/site-packages (from nltk==3.8.1) (2022.10.31)\n",
      "Requirement already satisfied: joblib in /home/daniel/.pyenv/versions/3.10.9/envs/findbestmodel/lib/python3.10/site-packages (from nltk==3.8.1) (1.2.0)\n",
      "Requirement already satisfied: click in /home/daniel/.pyenv/versions/3.10.9/envs/findbestmodel/lib/python3.10/site-packages (from nltk==3.8.1) (8.1.3)\n",
      "Note: you may need to restart the kernel to use updated packages.\n",
      "Requirement already satisfied: auto-sklearn==0.15.0 in /home/daniel/.pyenv/versions/3.10.9/envs/findbestmodel/lib/python3.10/site-packages (0.15.0)\n",
      "Requirement already satisfied: setuptools in /home/daniel/.pyenv/versions/3.10.9/envs/findbestmodel/lib/python3.10/site-packages (from auto-sklearn==0.15.0) (65.5.0)\n",
      "Requirement already satisfied: dask>=2021.12 in /home/daniel/.pyenv/versions/3.10.9/envs/findbestmodel/lib/python3.10/site-packages (from auto-sklearn==0.15.0) (2022.12.1)\n",
      "Requirement already satisfied: scikit-learn<0.25.0,>=0.24.0 in /home/daniel/.pyenv/versions/3.10.9/envs/findbestmodel/lib/python3.10/site-packages (from auto-sklearn==0.15.0) (0.24.2)\n",
      "Requirement already satisfied: joblib in /home/daniel/.pyenv/versions/3.10.9/envs/findbestmodel/lib/python3.10/site-packages (from auto-sklearn==0.15.0) (1.2.0)\n",
      "Requirement already satisfied: distro in /home/daniel/.pyenv/versions/3.10.9/envs/findbestmodel/lib/python3.10/site-packages (from auto-sklearn==0.15.0) (1.8.0)\n",
      "Requirement already satisfied: typing-extensions in /home/daniel/.pyenv/versions/3.10.9/envs/findbestmodel/lib/python3.10/site-packages (from auto-sklearn==0.15.0) (4.4.0)\n",
      "Requirement already satisfied: pandas>=1.0 in /home/daniel/.pyenv/versions/3.10.9/envs/findbestmodel/lib/python3.10/site-packages (from auto-sklearn==0.15.0) (1.5.2)\n",
      "Requirement already satisfied: liac-arff in /home/daniel/.pyenv/versions/3.10.9/envs/findbestmodel/lib/python3.10/site-packages (from auto-sklearn==0.15.0) (2.5.0)\n",
      "Requirement already satisfied: distributed>=2012.12 in /home/daniel/.pyenv/versions/3.10.9/envs/findbestmodel/lib/python3.10/site-packages (from auto-sklearn==0.15.0) (2022.12.1)\n",
      "Requirement already satisfied: scipy>=1.7.0 in /home/daniel/.pyenv/versions/3.10.9/envs/findbestmodel/lib/python3.10/site-packages (from auto-sklearn==0.15.0) (1.10.0)\n",
      "Requirement already satisfied: pyyaml in /home/daniel/.pyenv/versions/3.10.9/envs/findbestmodel/lib/python3.10/site-packages (from auto-sklearn==0.15.0) (6.0)\n",
      "Requirement already satisfied: threadpoolctl in /home/daniel/.pyenv/versions/3.10.9/envs/findbestmodel/lib/python3.10/site-packages (from auto-sklearn==0.15.0) (3.1.0)\n",
      "Requirement already satisfied: pyrfr<0.9,>=0.8.1 in /home/daniel/.pyenv/versions/3.10.9/envs/findbestmodel/lib/python3.10/site-packages (from auto-sklearn==0.15.0) (0.8.3)\n",
      "Requirement already satisfied: smac<1.3,>=1.2 in /home/daniel/.pyenv/versions/3.10.9/envs/findbestmodel/lib/python3.10/site-packages (from auto-sklearn==0.15.0) (1.2)\n",
      "Requirement already satisfied: pynisher<0.7,>=0.6.3 in /home/daniel/.pyenv/versions/3.10.9/envs/findbestmodel/lib/python3.10/site-packages (from auto-sklearn==0.15.0) (0.6.4)\n",
      "Requirement already satisfied: ConfigSpace<0.5,>=0.4.21 in /home/daniel/.pyenv/versions/3.10.9/envs/findbestmodel/lib/python3.10/site-packages (from auto-sklearn==0.15.0) (0.4.21)\n",
      "Requirement already satisfied: numpy>=1.9.0 in /home/daniel/.pyenv/versions/3.10.9/envs/findbestmodel/lib/python3.10/site-packages (from auto-sklearn==0.15.0) (1.24.1)\n",
      "Requirement already satisfied: pyparsing in /home/daniel/.pyenv/versions/3.10.9/envs/findbestmodel/lib/python3.10/site-packages (from ConfigSpace<0.5,>=0.4.21->auto-sklearn==0.15.0) (3.0.9)\n",
      "Requirement already satisfied: cython in /home/daniel/.pyenv/versions/3.10.9/envs/findbestmodel/lib/python3.10/site-packages (from ConfigSpace<0.5,>=0.4.21->auto-sklearn==0.15.0) (0.29.33)\n",
      "Requirement already satisfied: click>=7.0 in /home/daniel/.pyenv/versions/3.10.9/envs/findbestmodel/lib/python3.10/site-packages (from dask>=2021.12->auto-sklearn==0.15.0) (8.1.3)\n",
      "Requirement already satisfied: toolz>=0.8.2 in /home/daniel/.pyenv/versions/3.10.9/envs/findbestmodel/lib/python3.10/site-packages (from dask>=2021.12->auto-sklearn==0.15.0) (0.12.0)\n",
      "Requirement already satisfied: packaging>=20.0 in /home/daniel/.pyenv/versions/3.10.9/envs/findbestmodel/lib/python3.10/site-packages (from dask>=2021.12->auto-sklearn==0.15.0) (23.0)\n",
      "Requirement already satisfied: partd>=0.3.10 in /home/daniel/.pyenv/versions/3.10.9/envs/findbestmodel/lib/python3.10/site-packages (from dask>=2021.12->auto-sklearn==0.15.0) (1.3.0)\n",
      "Requirement already satisfied: fsspec>=0.6.0 in /home/daniel/.pyenv/versions/3.10.9/envs/findbestmodel/lib/python3.10/site-packages (from dask>=2021.12->auto-sklearn==0.15.0) (2022.11.0)\n",
      "Requirement already satisfied: cloudpickle>=1.1.1 in /home/daniel/.pyenv/versions/3.10.9/envs/findbestmodel/lib/python3.10/site-packages (from dask>=2021.12->auto-sklearn==0.15.0) (2.2.0)\n",
      "Requirement already satisfied: jinja2 in /home/daniel/.pyenv/versions/3.10.9/envs/findbestmodel/lib/python3.10/site-packages (from distributed>=2012.12->auto-sklearn==0.15.0) (3.1.2)\n",
      "Requirement already satisfied: urllib3 in /home/daniel/.pyenv/versions/3.10.9/envs/findbestmodel/lib/python3.10/site-packages (from distributed>=2012.12->auto-sklearn==0.15.0) (1.26.14)\n",
      "Requirement already satisfied: zict>=0.1.3 in /home/daniel/.pyenv/versions/3.10.9/envs/findbestmodel/lib/python3.10/site-packages (from distributed>=2012.12->auto-sklearn==0.15.0) (2.2.0)\n",
      "Requirement already satisfied: psutil>=5.0 in /home/daniel/.pyenv/versions/3.10.9/envs/findbestmodel/lib/python3.10/site-packages (from distributed>=2012.12->auto-sklearn==0.15.0) (5.9.4)\n",
      "Requirement already satisfied: locket>=1.0.0 in /home/daniel/.pyenv/versions/3.10.9/envs/findbestmodel/lib/python3.10/site-packages (from distributed>=2012.12->auto-sklearn==0.15.0) (1.0.0)\n",
      "Requirement already satisfied: msgpack>=0.6.0 in /home/daniel/.pyenv/versions/3.10.9/envs/findbestmodel/lib/python3.10/site-packages (from distributed>=2012.12->auto-sklearn==0.15.0) (1.0.4)\n",
      "Requirement already satisfied: sortedcontainers!=2.0.0,!=2.0.1 in /home/daniel/.pyenv/versions/3.10.9/envs/findbestmodel/lib/python3.10/site-packages (from distributed>=2012.12->auto-sklearn==0.15.0) (2.4.0)\n",
      "Requirement already satisfied: tblib>=1.6.0 in /home/daniel/.pyenv/versions/3.10.9/envs/findbestmodel/lib/python3.10/site-packages (from distributed>=2012.12->auto-sklearn==0.15.0) (1.7.0)\n",
      "Requirement already satisfied: tornado>=6.0.3 in /home/daniel/.pyenv/versions/3.10.9/envs/findbestmodel/lib/python3.10/site-packages (from distributed>=2012.12->auto-sklearn==0.15.0) (6.2)\n",
      "Requirement already satisfied: pytz>=2020.1 in /home/daniel/.pyenv/versions/3.10.9/envs/findbestmodel/lib/python3.10/site-packages (from pandas>=1.0->auto-sklearn==0.15.0) (2022.7)\n",
      "Requirement already satisfied: python-dateutil>=2.8.1 in /home/daniel/.pyenv/versions/3.10.9/envs/findbestmodel/lib/python3.10/site-packages (from pandas>=1.0->auto-sklearn==0.15.0) (2.8.2)\n",
      "Requirement already satisfied: emcee>=3.0.0 in /home/daniel/.pyenv/versions/3.10.9/envs/findbestmodel/lib/python3.10/site-packages (from smac<1.3,>=1.2->auto-sklearn==0.15.0) (3.1.3)\n",
      "Requirement already satisfied: six>=1.5 in /home/daniel/.pyenv/versions/3.10.9/envs/findbestmodel/lib/python3.10/site-packages (from python-dateutil>=2.8.1->pandas>=1.0->auto-sklearn==0.15.0) (1.16.0)\n",
      "Requirement already satisfied: heapdict in /home/daniel/.pyenv/versions/3.10.9/envs/findbestmodel/lib/python3.10/site-packages (from zict>=0.1.3->distributed>=2012.12->auto-sklearn==0.15.0) (1.0.1)\n",
      "Requirement already satisfied: MarkupSafe>=2.0 in /home/daniel/.pyenv/versions/3.10.9/envs/findbestmodel/lib/python3.10/site-packages (from jinja2->distributed>=2012.12->auto-sklearn==0.15.0) (2.1.1)\n",
      "Note: you may need to restart the kernel to use updated packages.\n",
      "Requirement already satisfied: seaborn==0.12.2 in /home/daniel/.pyenv/versions/3.10.9/envs/findbestmodel/lib/python3.10/site-packages (0.12.2)\n",
      "Requirement already satisfied: matplotlib!=3.6.1,>=3.1 in /home/daniel/.pyenv/versions/3.10.9/envs/findbestmodel/lib/python3.10/site-packages (from seaborn==0.12.2) (3.6.2)\n",
      "Requirement already satisfied: numpy!=1.24.0,>=1.17 in /home/daniel/.pyenv/versions/3.10.9/envs/findbestmodel/lib/python3.10/site-packages (from seaborn==0.12.2) (1.24.1)\n",
      "Requirement already satisfied: pandas>=0.25 in /home/daniel/.pyenv/versions/3.10.9/envs/findbestmodel/lib/python3.10/site-packages (from seaborn==0.12.2) (1.5.2)\n",
      "Requirement already satisfied: cycler>=0.10 in /home/daniel/.pyenv/versions/3.10.9/envs/findbestmodel/lib/python3.10/site-packages (from matplotlib!=3.6.1,>=3.1->seaborn==0.12.2) (0.11.0)\n",
      "Requirement already satisfied: contourpy>=1.0.1 in /home/daniel/.pyenv/versions/3.10.9/envs/findbestmodel/lib/python3.10/site-packages (from matplotlib!=3.6.1,>=3.1->seaborn==0.12.2) (1.0.6)\n",
      "Requirement already satisfied: kiwisolver>=1.0.1 in /home/daniel/.pyenv/versions/3.10.9/envs/findbestmodel/lib/python3.10/site-packages (from matplotlib!=3.6.1,>=3.1->seaborn==0.12.2) (1.4.4)\n",
      "Requirement already satisfied: python-dateutil>=2.7 in /home/daniel/.pyenv/versions/3.10.9/envs/findbestmodel/lib/python3.10/site-packages (from matplotlib!=3.6.1,>=3.1->seaborn==0.12.2) (2.8.2)\n",
      "Requirement already satisfied: fonttools>=4.22.0 in /home/daniel/.pyenv/versions/3.10.9/envs/findbestmodel/lib/python3.10/site-packages (from matplotlib!=3.6.1,>=3.1->seaborn==0.12.2) (4.38.0)\n",
      "Requirement already satisfied: pillow>=6.2.0 in /home/daniel/.pyenv/versions/3.10.9/envs/findbestmodel/lib/python3.10/site-packages (from matplotlib!=3.6.1,>=3.1->seaborn==0.12.2) (9.4.0)\n",
      "Requirement already satisfied: packaging>=20.0 in /home/daniel/.pyenv/versions/3.10.9/envs/findbestmodel/lib/python3.10/site-packages (from matplotlib!=3.6.1,>=3.1->seaborn==0.12.2) (23.0)\n",
      "Requirement already satisfied: pyparsing>=2.2.1 in /home/daniel/.pyenv/versions/3.10.9/envs/findbestmodel/lib/python3.10/site-packages (from matplotlib!=3.6.1,>=3.1->seaborn==0.12.2) (3.0.9)\n",
      "Requirement already satisfied: pytz>=2020.1 in /home/daniel/.pyenv/versions/3.10.9/envs/findbestmodel/lib/python3.10/site-packages (from pandas>=0.25->seaborn==0.12.2) (2022.7)\n",
      "Requirement already satisfied: six>=1.5 in /home/daniel/.pyenv/versions/3.10.9/envs/findbestmodel/lib/python3.10/site-packages (from python-dateutil>=2.7->matplotlib!=3.6.1,>=3.1->seaborn==0.12.2) (1.16.0)\n",
      "Note: you may need to restart the kernel to use updated packages.\n",
      "Requirement already satisfied: matplotlib==3.6.2 in /home/daniel/.pyenv/versions/3.10.9/envs/findbestmodel/lib/python3.10/site-packages (3.6.2)\n",
      "Requirement already satisfied: fonttools>=4.22.0 in /home/daniel/.pyenv/versions/3.10.9/envs/findbestmodel/lib/python3.10/site-packages (from matplotlib==3.6.2) (4.38.0)\n",
      "Requirement already satisfied: cycler>=0.10 in /home/daniel/.pyenv/versions/3.10.9/envs/findbestmodel/lib/python3.10/site-packages (from matplotlib==3.6.2) (0.11.0)\n",
      "Requirement already satisfied: python-dateutil>=2.7 in /home/daniel/.pyenv/versions/3.10.9/envs/findbestmodel/lib/python3.10/site-packages (from matplotlib==3.6.2) (2.8.2)\n",
      "Requirement already satisfied: contourpy>=1.0.1 in /home/daniel/.pyenv/versions/3.10.9/envs/findbestmodel/lib/python3.10/site-packages (from matplotlib==3.6.2) (1.0.6)\n",
      "Requirement already satisfied: kiwisolver>=1.0.1 in /home/daniel/.pyenv/versions/3.10.9/envs/findbestmodel/lib/python3.10/site-packages (from matplotlib==3.6.2) (1.4.4)\n",
      "Requirement already satisfied: numpy>=1.19 in /home/daniel/.pyenv/versions/3.10.9/envs/findbestmodel/lib/python3.10/site-packages (from matplotlib==3.6.2) (1.24.1)\n",
      "Requirement already satisfied: packaging>=20.0 in /home/daniel/.pyenv/versions/3.10.9/envs/findbestmodel/lib/python3.10/site-packages (from matplotlib==3.6.2) (23.0)\n",
      "Requirement already satisfied: pillow>=6.2.0 in /home/daniel/.pyenv/versions/3.10.9/envs/findbestmodel/lib/python3.10/site-packages (from matplotlib==3.6.2) (9.4.0)\n",
      "Requirement already satisfied: pyparsing>=2.2.1 in /home/daniel/.pyenv/versions/3.10.9/envs/findbestmodel/lib/python3.10/site-packages (from matplotlib==3.6.2) (3.0.9)\n",
      "Requirement already satisfied: six>=1.5 in /home/daniel/.pyenv/versions/3.10.9/envs/findbestmodel/lib/python3.10/site-packages (from python-dateutil>=2.7->matplotlib==3.6.2) (1.16.0)\n",
      "Note: you may need to restart the kernel to use updated packages.\n"
     ]
    }
   ],
   "source": [
    "# To perform data manipulation\n",
    "%pip install pandas==1.5.2\n",
    "\n",
    "# To monitor progress in long tasks\n",
    "%pip install tqdm==4.64.1\n",
    "\n",
    "# Pyarrow is used by pandas to save/load parquet files\n",
    "%pip install pyarrow==10.0.1\n",
    "\n",
    "# To process natural text\n",
    "%pip install nltk==3.8.1\n",
    "\n",
    "# We will try to find the best model for the dataset using auto-sklearn\n",
    "%pip install auto-sklearn==0.15.0\n",
    "\n",
    "# To visualize confusion matrix and plot other data\n",
    "%pip install seaborn==0.12.2\n",
    "%pip install matplotlib==3.6.2"
   ]
  },
  {
   "attachments": {},
   "cell_type": "markdown",
   "metadata": {},
   "source": [
    "Now let's import the necessary modules"
   ]
  },
  {
   "cell_type": "code",
   "execution_count": 2,
   "metadata": {},
   "outputs": [
    {
     "name": "stderr",
     "output_type": "stream",
     "text": [
      "[nltk_data] Downloading package stopwords to /home/daniel/nltk_data...\n",
      "[nltk_data]   Package stopwords is already up-to-date!\n",
      "[nltk_data] Downloading package punkt to /home/daniel/nltk_data...\n",
      "[nltk_data]   Package punkt is already up-to-date!\n"
     ]
    }
   ],
   "source": [
    "import pandas as pd # For data processing\n",
    "\n",
    "import nltk # For text processing\n",
    "nltk.download('stopwords') # Stop words\n",
    "nltk.download('punkt') # Tokenizer\n",
    "english_stop_words = set(nltk.corpus.stopwords.words('english')) # Saving the stopwords in a list\n",
    "\n",
    "from tqdm import tqdm # To monitor progress in large tasks\n",
    "tqdm.pandas() # Configure tqdm to work with pandas\n",
    "\n",
    "from sklearn.feature_extraction.text import TfidfVectorizer, CountVectorizer # To make sklearn work with text features\n",
    "from sklearn.model_selection import train_test_split # To split train/test data\n",
    "from sklearn.utils import resample # To balance the dataset\n",
    "\n",
    "import autosklearn.classification # To find a model automatically\n",
    "from sklearn.metrics import classification_report # To determine the quality of our models\n",
    "from sklearn.metrics import confusion_matrix  # To determine the quality of our models\n",
    "import seaborn as sns # To see the confusion matrix\n",
    "import matplotlib.pyplot as plt # To see the confusion matrix"
   ]
  },
  {
   "attachments": {},
   "cell_type": "markdown",
   "metadata": {},
   "source": [
    "Let's load our dataset, making sure there are no duplicated rows"
   ]
  },
  {
   "cell_type": "code",
   "execution_count": 3,
   "metadata": {},
   "outputs": [
    {
     "name": "stdout",
     "output_type": "stream",
     "text": [
      "Number of rows: 452284\n",
      "Number of duplicated: 0\n"
     ]
    },
    {
     "data": {
      "text/html": [
       "<div>\n",
       "<style scoped>\n",
       "    .dataframe tbody tr th:only-of-type {\n",
       "        vertical-align: middle;\n",
       "    }\n",
       "\n",
       "    .dataframe tbody tr th {\n",
       "        vertical-align: top;\n",
       "    }\n",
       "\n",
       "    .dataframe thead th {\n",
       "        text-align: right;\n",
       "    }\n",
       "</style>\n",
       "<table border=\"1\" class=\"dataframe\">\n",
       "  <thead>\n",
       "    <tr style=\"text-align: right;\">\n",
       "      <th></th>\n",
       "      <th>index</th>\n",
       "      <th>_id</th>\n",
       "      <th>revision_hash</th>\n",
       "      <th>message</th>\n",
       "      <th>isBugfix</th>\n",
       "    </tr>\n",
       "  </thead>\n",
       "  <tbody>\n",
       "    <tr>\n",
       "      <th>0</th>\n",
       "      <td>0</td>\n",
       "      <td>5bef24dc83ad2f56ca1ca7cd</td>\n",
       "      <td>64185d21b51d1ed32c419f443f804ae2e09ee5f8</td>\n",
       "      <td>The the patrol.</td>\n",
       "      <td>False</td>\n",
       "    </tr>\n",
       "    <tr>\n",
       "      <th>1</th>\n",
       "      <td>1</td>\n",
       "      <td>5bef24dd83ad2f56ca1ca7d3</td>\n",
       "      <td>37ab026c576c8841f378cc2376ca02c478567e84</td>\n",
       "      <td>Cleanup in commons-rdf-rdf4j to close PMD and ...</td>\n",
       "      <td>False</td>\n",
       "    </tr>\n",
       "    <tr>\n",
       "      <th>2</th>\n",
       "      <td>2</td>\n",
       "      <td>5bef24dd83ad2f56cb1ca7cd</td>\n",
       "      <td>092c465f996f3a4a6acf3f65aeb76f768e702289</td>\n",
       "      <td>COMMONSRDF-49: Make AbstractRDFParser serializ...</td>\n",
       "      <td>False</td>\n",
       "    </tr>\n",
       "    <tr>\n",
       "      <th>3</th>\n",
       "      <td>3</td>\n",
       "      <td>5bef24dd83ad2f56cc1ca7cd</td>\n",
       "      <td>6123c7308ed533b870370c6a234ce140368ccc4e</td>\n",
       "      <td>ensure site build works with newest checkstyle...</td>\n",
       "      <td>False</td>\n",
       "    </tr>\n",
       "    <tr>\n",
       "      <th>4</th>\n",
       "      <td>4</td>\n",
       "      <td>5bef24dd83ad2f56cc1ca7d4</td>\n",
       "      <td>25af8121afb778efa20d73e1f10c073ad1917e59</td>\n",
       "      <td>[maven-release-plugin] prepare for next develo...</td>\n",
       "      <td>False</td>\n",
       "    </tr>\n",
       "  </tbody>\n",
       "</table>\n",
       "</div>"
      ],
      "text/plain": [
       "   index                       _id                             revision_hash  \\\n",
       "0      0  5bef24dc83ad2f56ca1ca7cd  64185d21b51d1ed32c419f443f804ae2e09ee5f8   \n",
       "1      1  5bef24dd83ad2f56ca1ca7d3  37ab026c576c8841f378cc2376ca02c478567e84   \n",
       "2      2  5bef24dd83ad2f56cb1ca7cd  092c465f996f3a4a6acf3f65aeb76f768e702289   \n",
       "3      3  5bef24dd83ad2f56cc1ca7cd  6123c7308ed533b870370c6a234ce140368ccc4e   \n",
       "4      4  5bef24dd83ad2f56cc1ca7d4  25af8121afb778efa20d73e1f10c073ad1917e59   \n",
       "\n",
       "                                             message  isBugfix  \n",
       "0                                    The the patrol.     False  \n",
       "1  Cleanup in commons-rdf-rdf4j to close PMD and ...     False  \n",
       "2  COMMONSRDF-49: Make AbstractRDFParser serializ...     False  \n",
       "3  ensure site build works with newest checkstyle...     False  \n",
       "4  [maven-release-plugin] prepare for next develo...     False  "
      ]
     },
     "execution_count": 3,
     "metadata": {},
     "output_type": "execute_result"
    }
   ],
   "source": [
    "df_commits_annotated = pd.read_parquet('commits_annotated.parquet.gzip')\n",
    "print(f'Number of rows: {df_commits_annotated.shape[0]}')\n",
    "print(f'Number of duplicated: {df_commits_annotated.revision_hash.duplicated().sum()}')\n",
    "df_commits_annotated.head()"
   ]
  },
  {
   "attachments": {},
   "cell_type": "markdown",
   "metadata": {},
   "source": [
    "We only need columns 'message' and 'isBugfix'. Let's drop the others"
   ]
  },
  {
   "cell_type": "code",
   "execution_count": 4,
   "metadata": {},
   "outputs": [
    {
     "data": {
      "text/html": [
       "<div>\n",
       "<style scoped>\n",
       "    .dataframe tbody tr th:only-of-type {\n",
       "        vertical-align: middle;\n",
       "    }\n",
       "\n",
       "    .dataframe tbody tr th {\n",
       "        vertical-align: top;\n",
       "    }\n",
       "\n",
       "    .dataframe thead th {\n",
       "        text-align: right;\n",
       "    }\n",
       "</style>\n",
       "<table border=\"1\" class=\"dataframe\">\n",
       "  <thead>\n",
       "    <tr style=\"text-align: right;\">\n",
       "      <th></th>\n",
       "      <th>index</th>\n",
       "      <th>message</th>\n",
       "      <th>isBugfix</th>\n",
       "    </tr>\n",
       "  </thead>\n",
       "  <tbody>\n",
       "    <tr>\n",
       "      <th>0</th>\n",
       "      <td>0</td>\n",
       "      <td>The the patrol.</td>\n",
       "      <td>False</td>\n",
       "    </tr>\n",
       "    <tr>\n",
       "      <th>1</th>\n",
       "      <td>1</td>\n",
       "      <td>Cleanup in commons-rdf-rdf4j to close PMD and ...</td>\n",
       "      <td>False</td>\n",
       "    </tr>\n",
       "    <tr>\n",
       "      <th>2</th>\n",
       "      <td>2</td>\n",
       "      <td>COMMONSRDF-49: Make AbstractRDFParser serializ...</td>\n",
       "      <td>False</td>\n",
       "    </tr>\n",
       "    <tr>\n",
       "      <th>3</th>\n",
       "      <td>3</td>\n",
       "      <td>ensure site build works with newest checkstyle...</td>\n",
       "      <td>False</td>\n",
       "    </tr>\n",
       "    <tr>\n",
       "      <th>4</th>\n",
       "      <td>4</td>\n",
       "      <td>[maven-release-plugin] prepare for next develo...</td>\n",
       "      <td>False</td>\n",
       "    </tr>\n",
       "  </tbody>\n",
       "</table>\n",
       "</div>"
      ],
      "text/plain": [
       "   index                                            message  isBugfix\n",
       "0      0                                    The the patrol.     False\n",
       "1      1  Cleanup in commons-rdf-rdf4j to close PMD and ...     False\n",
       "2      2  COMMONSRDF-49: Make AbstractRDFParser serializ...     False\n",
       "3      3  ensure site build works with newest checkstyle...     False\n",
       "4      4  [maven-release-plugin] prepare for next develo...     False"
      ]
     },
     "execution_count": 4,
     "metadata": {},
     "output_type": "execute_result"
    }
   ],
   "source": [
    "df_commits_annotated.drop(columns=['_id','revision_hash'], inplace=True)\n",
    "df_commits_annotated.head()"
   ]
  },
  {
   "attachments": {},
   "cell_type": "markdown",
   "metadata": {},
   "source": [
    "Now let's try to balance the dataset. As it can be seen, it is highly imbalanced."
   ]
  },
  {
   "cell_type": "code",
   "execution_count": 5,
   "metadata": {},
   "outputs": [
    {
     "data": {
      "text/plain": [
       "False    449379\n",
       "True       2905\n",
       "Name: isBugfix, dtype: int64"
      ]
     },
     "execution_count": 5,
     "metadata": {},
     "output_type": "execute_result"
    }
   ],
   "source": [
    "df_commits_count = df_commits_annotated['isBugfix'].value_counts()\n",
    "df_commits_count"
   ]
  },
  {
   "attachments": {},
   "cell_type": "markdown",
   "metadata": {},
   "source": [
    "Let's downsample the majority class. It's okay, since we still have almost 3K \"True\" values."
   ]
  },
  {
   "cell_type": "code",
   "execution_count": 6,
   "metadata": {},
   "outputs": [
    {
     "data": {
      "text/plain": [
       "False    2905\n",
       "True     2905\n",
       "Name: isBugfix, dtype: int64"
      ]
     },
     "execution_count": 6,
     "metadata": {},
     "output_type": "execute_result"
    }
   ],
   "source": [
    "df_majority = df_commits_annotated[df_commits_annotated.isBugfix==False]\n",
    "df_minority = df_commits_annotated[df_commits_annotated.isBugfix==True]\n",
    "\n",
    "count_minority = df_commits_count[1] # Number of elements in minority class\n",
    "\n",
    "df_majority_downsampled = resample(df_majority,\n",
    "                                    replace=False,\n",
    "                                    n_samples=count_minority,\n",
    "                                    random_state=42)\n",
    "\n",
    "df_commits_annotated = pd.concat([df_majority_downsampled, df_minority])\n",
    "\n",
    "df_commits_annotated['isBugfix'].value_counts()"
   ]
  },
  {
   "attachments": {},
   "cell_type": "markdown",
   "metadata": {},
   "source": [
    "Now let's preprocess our text. First, we will lowercase and remove stopwords. This will be our 'input_feature' column"
   ]
  },
  {
   "cell_type": "code",
   "execution_count": 7,
   "metadata": {},
   "outputs": [
    {
     "name": "stderr",
     "output_type": "stream",
     "text": [
      "100%|██████████| 5810/5810 [00:02<00:00, 2572.83it/s]\n"
     ]
    },
    {
     "data": {
      "text/html": [
       "<div>\n",
       "<style scoped>\n",
       "    .dataframe tbody tr th:only-of-type {\n",
       "        vertical-align: middle;\n",
       "    }\n",
       "\n",
       "    .dataframe tbody tr th {\n",
       "        vertical-align: top;\n",
       "    }\n",
       "\n",
       "    .dataframe thead th {\n",
       "        text-align: right;\n",
       "    }\n",
       "</style>\n",
       "<table border=\"1\" class=\"dataframe\">\n",
       "  <thead>\n",
       "    <tr style=\"text-align: right;\">\n",
       "      <th></th>\n",
       "      <th>index</th>\n",
       "      <th>message</th>\n",
       "      <th>isBugfix</th>\n",
       "      <th>input_feature</th>\n",
       "    </tr>\n",
       "  </thead>\n",
       "  <tbody>\n",
       "    <tr>\n",
       "      <th>151859</th>\n",
       "      <td>151859</td>\n",
       "      <td>Update installation for impatient\\n</td>\n",
       "      <td>False</td>\n",
       "      <td>update installation impatient</td>\n",
       "    </tr>\n",
       "    <tr>\n",
       "      <th>332572</th>\n",
       "      <td>332572</td>\n",
       "      <td>Added example for using the reverse mapping to...</td>\n",
       "      <td>False</td>\n",
       "      <td>added example using reverse mapping tool git-s...</td>\n",
       "    </tr>\n",
       "    <tr>\n",
       "      <th>196656</th>\n",
       "      <td>196656</td>\n",
       "      <td>PDFBOX-2883: remove COSDocument constructors u...</td>\n",
       "      <td>False</td>\n",
       "      <td>pdfbox-2883 : remove cosdocument constructors ...</td>\n",
       "    </tr>\n",
       "    <tr>\n",
       "      <th>395182</th>\n",
       "      <td>395182</td>\n",
       "      <td>Added #else formatting test.\\nPR:\\nObtained fr...</td>\n",
       "      <td>False</td>\n",
       "      <td>added # else formatting test . pr : obtained :...</td>\n",
       "    </tr>\n",
       "    <tr>\n",
       "      <th>141552</th>\n",
       "      <td>141552</td>\n",
       "      <td>KAFKA-3740: Part I: expose StreamConfig proper...</td>\n",
       "      <td>False</td>\n",
       "      <td>kafka-3740 : part : expose streamconfig proper...</td>\n",
       "    </tr>\n",
       "  </tbody>\n",
       "</table>\n",
       "</div>"
      ],
      "text/plain": [
       "         index                                            message  isBugfix  \\\n",
       "151859  151859                Update installation for impatient\\n     False   \n",
       "332572  332572  Added example for using the reverse mapping to...     False   \n",
       "196656  196656  PDFBOX-2883: remove COSDocument constructors u...     False   \n",
       "395182  395182  Added #else formatting test.\\nPR:\\nObtained fr...     False   \n",
       "141552  141552  KAFKA-3740: Part I: expose StreamConfig proper...     False   \n",
       "\n",
       "                                            input_feature  \n",
       "151859                      update installation impatient  \n",
       "332572  added example using reverse mapping tool git-s...  \n",
       "196656  pdfbox-2883 : remove cosdocument constructors ...  \n",
       "395182  added # else formatting test . pr : obtained :...  \n",
       "141552  kafka-3740 : part : expose streamconfig proper...  "
      ]
     },
     "execution_count": 7,
     "metadata": {},
     "output_type": "execute_result"
    }
   ],
   "source": [
    "def lower_case_and_remove_stopwords(text):\n",
    "    return ' '.join([word for word in nltk.tokenize.word_tokenize(text) if word not in (english_stop_words)])\n",
    "\n",
    "df_commits_annotated['input_feature'] = df_commits_annotated['message']\\\n",
    "    .str.lower().progress_apply(lower_case_and_remove_stopwords)\n",
    "df_commits_annotated.head()\n"
   ]
  },
  {
   "attachments": {},
   "cell_type": "markdown",
   "metadata": {},
   "source": [
    "Now our 'isBugfix' column needs to be converted from boolean to int: True=1, False=0. This will be our 'target' column"
   ]
  },
  {
   "cell_type": "code",
   "execution_count": 8,
   "metadata": {},
   "outputs": [
    {
     "name": "stderr",
     "output_type": "stream",
     "text": [
      "100%|██████████| 5810/5810 [00:00<00:00, 607597.33it/s]\n"
     ]
    },
    {
     "data": {
      "text/html": [
       "<div>\n",
       "<style scoped>\n",
       "    .dataframe tbody tr th:only-of-type {\n",
       "        vertical-align: middle;\n",
       "    }\n",
       "\n",
       "    .dataframe tbody tr th {\n",
       "        vertical-align: top;\n",
       "    }\n",
       "\n",
       "    .dataframe thead th {\n",
       "        text-align: right;\n",
       "    }\n",
       "</style>\n",
       "<table border=\"1\" class=\"dataframe\">\n",
       "  <thead>\n",
       "    <tr style=\"text-align: right;\">\n",
       "      <th></th>\n",
       "      <th>index</th>\n",
       "      <th>message</th>\n",
       "      <th>isBugfix</th>\n",
       "      <th>input_feature</th>\n",
       "      <th>target</th>\n",
       "    </tr>\n",
       "  </thead>\n",
       "  <tbody>\n",
       "    <tr>\n",
       "      <th>151859</th>\n",
       "      <td>151859</td>\n",
       "      <td>Update installation for impatient\\n</td>\n",
       "      <td>False</td>\n",
       "      <td>update installation impatient</td>\n",
       "      <td>0</td>\n",
       "    </tr>\n",
       "    <tr>\n",
       "      <th>332572</th>\n",
       "      <td>332572</td>\n",
       "      <td>Added example for using the reverse mapping to...</td>\n",
       "      <td>False</td>\n",
       "      <td>added example using reverse mapping tool git-s...</td>\n",
       "      <td>0</td>\n",
       "    </tr>\n",
       "    <tr>\n",
       "      <th>196656</th>\n",
       "      <td>196656</td>\n",
       "      <td>PDFBOX-2883: remove COSDocument constructors u...</td>\n",
       "      <td>False</td>\n",
       "      <td>pdfbox-2883 : remove cosdocument constructors ...</td>\n",
       "      <td>0</td>\n",
       "    </tr>\n",
       "    <tr>\n",
       "      <th>395182</th>\n",
       "      <td>395182</td>\n",
       "      <td>Added #else formatting test.\\nPR:\\nObtained fr...</td>\n",
       "      <td>False</td>\n",
       "      <td>added # else formatting test . pr : obtained :...</td>\n",
       "      <td>0</td>\n",
       "    </tr>\n",
       "    <tr>\n",
       "      <th>141552</th>\n",
       "      <td>141552</td>\n",
       "      <td>KAFKA-3740: Part I: expose StreamConfig proper...</td>\n",
       "      <td>False</td>\n",
       "      <td>kafka-3740 : part : expose streamconfig proper...</td>\n",
       "      <td>0</td>\n",
       "    </tr>\n",
       "  </tbody>\n",
       "</table>\n",
       "</div>"
      ],
      "text/plain": [
       "         index                                            message  isBugfix  \\\n",
       "151859  151859                Update installation for impatient\\n     False   \n",
       "332572  332572  Added example for using the reverse mapping to...     False   \n",
       "196656  196656  PDFBOX-2883: remove COSDocument constructors u...     False   \n",
       "395182  395182  Added #else formatting test.\\nPR:\\nObtained fr...     False   \n",
       "141552  141552  KAFKA-3740: Part I: expose StreamConfig proper...     False   \n",
       "\n",
       "                                            input_feature  target  \n",
       "151859                      update installation impatient       0  \n",
       "332572  added example using reverse mapping tool git-s...       0  \n",
       "196656  pdfbox-2883 : remove cosdocument constructors ...       0  \n",
       "395182  added # else formatting test . pr : obtained :...       0  \n",
       "141552  kafka-3740 : part : expose streamconfig proper...       0  "
      ]
     },
     "execution_count": 8,
     "metadata": {},
     "output_type": "execute_result"
    }
   ],
   "source": [
    "df_commits_annotated['target'] = df_commits_annotated['isBugfix']\\\n",
    "    .progress_apply(lambda x: 1 if x else 0)\n",
    "df_commits_annotated.head()"
   ]
  },
  {
   "attachments": {},
   "cell_type": "markdown",
   "metadata": {},
   "source": [
    "Now let's split the dataset into train and test, transforming the textual column into vectors in the way.\n",
    "\n",
    "We use a simple CountVectorizer first, and also a TF-IDF vectorizer. The TF-IDF Vectorizer parameters were copied from the results of [another notebook](find_vectorizer_parameters.ipynb)"
   ]
  },
  {
   "cell_type": "code",
   "execution_count": 9,
   "metadata": {},
   "outputs": [],
   "source": [
    "y = df_commits_annotated['target']\n",
    "\n",
    "vect_count = CountVectorizer()\n",
    "X_count = vect_count.fit_transform(df_commits_annotated['input_feature'])\n",
    "X_train_count, X_test_count, y_train_count, y_test_count = train_test_split(X_count, y, test_size=0.33, random_state=42)\n",
    "\n",
    "vect_tfidf = TfidfVectorizer(encoding='latin-1', max_df=0.23622995216793718,\n",
    "                max_features=920, min_df=2, ngram_range=(1, 3),\n",
    "                sublinear_tf=True, token_pattern='\\\\w{1,}')\n",
    "X_tfidf = vect_tfidf.fit_transform(df_commits_annotated['input_feature'])\n",
    "X_train_tfidf, X_test_tfidf, y_train_tfidf, y_test_tfidf = train_test_split(X_tfidf, y, test_size=0.33, random_state=42)\n",
    "\n"
   ]
  },
  {
   "attachments": {},
   "cell_type": "markdown",
   "metadata": {},
   "source": [
    "Finally we can ask autosklearn to find the best model with each vectorizer. First with count vectorizer, and next with TF-IDF"
   ]
  },
  {
   "cell_type": "code",
   "execution_count": 10,
   "metadata": {},
   "outputs": [
    {
     "data": {
      "text/plain": [
       "AutoSklearnClassifier(ensemble_class=<class 'autosklearn.ensembles.ensemble_selection.EnsembleSelection'>,\n",
       "                      memory_limit=8192, metric=f1, per_run_time_limit=360)"
      ]
     },
     "execution_count": 10,
     "metadata": {},
     "output_type": "execute_result"
    }
   ],
   "source": [
    "clf_count = autosklearn.classification.AutoSklearnClassifier(\n",
    "    time_left_for_this_task=3600,\n",
    "    memory_limit=8192,\n",
    "    metric=autosklearn.metrics.f1)\n",
    "clf_count.fit(X_train_count, y_train_count)"
   ]
  },
  {
   "cell_type": "code",
   "execution_count": 11,
   "metadata": {},
   "outputs": [
    {
     "data": {
      "text/plain": [
       "AutoSklearnClassifier(ensemble_class=<class 'autosklearn.ensembles.ensemble_selection.EnsembleSelection'>,\n",
       "                      memory_limit=8192, metric=f1, per_run_time_limit=360)"
      ]
     },
     "execution_count": 11,
     "metadata": {},
     "output_type": "execute_result"
    }
   ],
   "source": [
    "clf_tfidf = autosklearn.classification.AutoSklearnClassifier(\n",
    "    time_left_for_this_task=3600,\n",
    "    memory_limit=8192,\n",
    "    metric=autosklearn.metrics.f1)\n",
    "clf_tfidf.fit(X_train_tfidf, y_train_tfidf)"
   ]
  },
  {
   "attachments": {},
   "cell_type": "markdown",
   "metadata": {},
   "source": [
    "Which models were selected?"
   ]
  },
  {
   "cell_type": "code",
   "execution_count": 19,
   "metadata": {},
   "outputs": [
    {
     "data": {
      "text/plain": [
       "{7: {'model_id': 7,\n",
       "  'rank': 1,\n",
       "  'cost': 0.06987227648384675,\n",
       "  'ensemble_weight': 0.02,\n",
       "  'data_preprocessor': <autosklearn.pipeline.components.data_preprocessing.DataPreprocessorChoice at 0x7f89fe683490>,\n",
       "  'balancing': Balancing(random_state=1, strategy='weighting'),\n",
       "  'feature_preprocessor': <autosklearn.pipeline.components.feature_preprocessing.FeaturePreprocessorChoice at 0x7f89fe6833d0>,\n",
       "  'classifier': <autosklearn.pipeline.components.classification.ClassifierChoice at 0x7f89fe683f70>,\n",
       "  'sklearn_classifier': RandomForestClassifier(criterion='entropy', max_features=1278,\n",
       "                         min_samples_leaf=12, min_samples_split=19,\n",
       "                         n_estimators=512, n_jobs=1, random_state=1,\n",
       "                         warm_start=True)},\n",
       " 15: {'model_id': 15,\n",
       "  'rank': 2,\n",
       "  'cost': 0.042944785276073705,\n",
       "  'ensemble_weight': 0.12,\n",
       "  'data_preprocessor': <autosklearn.pipeline.components.data_preprocessing.DataPreprocessorChoice at 0x7f89ff340040>,\n",
       "  'balancing': Balancing(random_state=1),\n",
       "  'feature_preprocessor': <autosklearn.pipeline.components.feature_preprocessing.FeaturePreprocessorChoice at 0x7f89fe0ceb30>,\n",
       "  'classifier': <autosklearn.pipeline.components.classification.ClassifierChoice at 0x7f89fe0cfb20>,\n",
       "  'sklearn_classifier': PassiveAggressiveClassifier(C=0.14268277711454813, max_iter=32, random_state=1,\n",
       "                              tol=0.0002600768160857831, warm_start=True)},\n",
       " 19: {'model_id': 19,\n",
       "  'rank': 3,\n",
       "  'cost': 0.09272030651341001,\n",
       "  'ensemble_weight': 0.02,\n",
       "  'data_preprocessor': <autosklearn.pipeline.components.data_preprocessing.DataPreprocessorChoice at 0x7f89fe681e40>,\n",
       "  'balancing': Balancing(random_state=1, strategy='weighting'),\n",
       "  'feature_preprocessor': <autosklearn.pipeline.components.feature_preprocessing.FeaturePreprocessorChoice at 0x7f89fe14d180>,\n",
       "  'classifier': <autosklearn.pipeline.components.classification.ClassifierChoice at 0x7f89fd8befe0>,\n",
       "  'sklearn_classifier': MLPClassifier(activation='tanh', alpha=3.418119188543138e-05, beta_1=0.999,\n",
       "                beta_2=0.9, hidden_layer_sizes=(250,),\n",
       "                learning_rate_init=0.0008970341914597564, max_iter=32,\n",
       "                n_iter_no_change=32, random_state=1, validation_fraction=0.0,\n",
       "                verbose=0, warm_start=True)},\n",
       " 21: {'model_id': 21,\n",
       "  'rank': 4,\n",
       "  'cost': 0.038284839203675314,\n",
       "  'ensemble_weight': 0.02,\n",
       "  'data_preprocessor': <autosklearn.pipeline.components.data_preprocessing.DataPreprocessorChoice at 0x7f89fe683dc0>,\n",
       "  'balancing': Balancing(random_state=1, strategy='weighting'),\n",
       "  'feature_preprocessor': <autosklearn.pipeline.components.feature_preprocessing.FeaturePreprocessorChoice at 0x7f89fe00f4f0>,\n",
       "  'classifier': <autosklearn.pipeline.components.classification.ClassifierChoice at 0x7f89fd893970>,\n",
       "  'sklearn_classifier': ExtraTreesClassifier(max_features=322, min_samples_split=10, n_estimators=512,\n",
       "                       n_jobs=1, random_state=1, warm_start=True)},\n",
       " 26: {'model_id': 26,\n",
       "  'rank': 5,\n",
       "  'cost': 0.03196347031963476,\n",
       "  'ensemble_weight': 0.02,\n",
       "  'data_preprocessor': <autosklearn.pipeline.components.data_preprocessing.DataPreprocessorChoice at 0x7f89fde6a290>,\n",
       "  'balancing': Balancing(random_state=1),\n",
       "  'feature_preprocessor': <autosklearn.pipeline.components.feature_preprocessing.FeaturePreprocessorChoice at 0x7f89fe0a80a0>,\n",
       "  'classifier': <autosklearn.pipeline.components.classification.ClassifierChoice at 0x7f89fdedce50>,\n",
       "  'sklearn_classifier': RandomForestClassifier(max_features=18, min_samples_leaf=2, min_samples_split=3,\n",
       "                         n_estimators=512, n_jobs=1, random_state=1,\n",
       "                         warm_start=True)},\n",
       " 28: {'model_id': 28,\n",
       "  'rank': 6,\n",
       "  'cost': 0.6609756097560975,\n",
       "  'ensemble_weight': 0.08,\n",
       "  'data_preprocessor': <autosklearn.pipeline.components.data_preprocessing.DataPreprocessorChoice at 0x7f89fe14d900>,\n",
       "  'balancing': Balancing(random_state=1, strategy='weighting'),\n",
       "  'feature_preprocessor': <autosklearn.pipeline.components.feature_preprocessing.FeaturePreprocessorChoice at 0x7f89fd892080>,\n",
       "  'classifier': <autosklearn.pipeline.components.classification.ClassifierChoice at 0x7f89fdf8c670>,\n",
       "  'sklearn_classifier': BernoulliNB(alpha=0.4833738346891057, fit_prior=False)},\n",
       " 30: {'model_id': 30,\n",
       "  'rank': 7,\n",
       "  'cost': 0.05873261205564151,\n",
       "  'ensemble_weight': 0.08,\n",
       "  'data_preprocessor': <autosklearn.pipeline.components.data_preprocessing.DataPreprocessorChoice at 0x7f8aaf7221d0>,\n",
       "  'balancing': Balancing(random_state=1),\n",
       "  'feature_preprocessor': <autosklearn.pipeline.components.feature_preprocessing.FeaturePreprocessorChoice at 0x7f89fdf6a410>,\n",
       "  'classifier': <autosklearn.pipeline.components.classification.ClassifierChoice at 0x7f89fde04f10>,\n",
       "  'sklearn_classifier': AdaBoostClassifier(base_estimator=DecisionTreeClassifier(max_depth=5),\n",
       "                     learning_rate=0.15342212837783545, n_estimators=432,\n",
       "                     random_state=1)},\n",
       " 31: {'model_id': 31,\n",
       "  'rank': 8,\n",
       "  'cost': 0.03601532567049803,\n",
       "  'ensemble_weight': 0.04,\n",
       "  'data_preprocessor': <autosklearn.pipeline.components.data_preprocessing.DataPreprocessorChoice at 0x7f89fdf6bb80>,\n",
       "  'balancing': Balancing(random_state=1, strategy='weighting'),\n",
       "  'feature_preprocessor': <autosklearn.pipeline.components.feature_preprocessing.FeaturePreprocessorChoice at 0x7f89fde066b0>,\n",
       "  'classifier': <autosklearn.pipeline.components.classification.ClassifierChoice at 0x7f89fd8be680>,\n",
       "  'sklearn_classifier': RandomForestClassifier(max_features=12, n_estimators=512, n_jobs=1,\n",
       "                         random_state=1, warm_start=True)},\n",
       " 39: {'model_id': 39,\n",
       "  'rank': 9,\n",
       "  'cost': 0.12390670553935867,\n",
       "  'ensemble_weight': 0.02,\n",
       "  'data_preprocessor': <autosklearn.pipeline.components.data_preprocessing.DataPreprocessorChoice at 0x7f89fdf6a920>,\n",
       "  'balancing': Balancing(random_state=1, strategy='weighting'),\n",
       "  'feature_preprocessor': <autosklearn.pipeline.components.feature_preprocessing.FeaturePreprocessorChoice at 0x7f89fd8a9e70>,\n",
       "  'classifier': <autosklearn.pipeline.components.classification.ClassifierChoice at 0x7f89fe178c10>,\n",
       "  'sklearn_classifier': SGDClassifier(alpha=0.00010000000000000026, eta0=0.010000000000000014,\n",
       "                learning_rate='invscaling', loss='log', max_iter=512,\n",
       "                random_state=1, tol=0.00010000000000000009, warm_start=True)},\n",
       " 40: {'model_id': 40,\n",
       "  'rank': 10,\n",
       "  'cost': 0.2180312787488501,\n",
       "  'ensemble_weight': 0.02,\n",
       "  'data_preprocessor': <autosklearn.pipeline.components.data_preprocessing.DataPreprocessorChoice at 0x7f89fdf68490>,\n",
       "  'balancing': Balancing(random_state=1),\n",
       "  'feature_preprocessor': <autosklearn.pipeline.components.feature_preprocessing.FeaturePreprocessorChoice at 0x7f89fe17ab00>,\n",
       "  'classifier': <autosklearn.pipeline.components.classification.ClassifierChoice at 0x7f89fe179f90>,\n",
       "  'sklearn_classifier': KNeighborsClassifier(n_neighbors=18, weights='distance')},\n",
       " 43: {'model_id': 43,\n",
       "  'rank': 11,\n",
       "  'cost': 0.32135076252723316,\n",
       "  'ensemble_weight': 0.04,\n",
       "  'data_preprocessor': <autosklearn.pipeline.components.data_preprocessing.DataPreprocessorChoice at 0x7f89fdf8eec0>,\n",
       "  'balancing': Balancing(random_state=1),\n",
       "  'feature_preprocessor': <autosklearn.pipeline.components.feature_preprocessing.FeaturePreprocessorChoice at 0x7f89fe179d20>,\n",
       "  'classifier': <autosklearn.pipeline.components.classification.ClassifierChoice at 0x7f8aa512d2a0>,\n",
       "  'sklearn_classifier': RandomForestClassifier(max_features=1, n_estimators=512, n_jobs=1,\n",
       "                         random_state=1, warm_start=True)},\n",
       " 46: {'model_id': 46,\n",
       "  'rank': 12,\n",
       "  'cost': 0.09439754412893331,\n",
       "  'ensemble_weight': 0.02,\n",
       "  'data_preprocessor': <autosklearn.pipeline.components.data_preprocessing.DataPreprocessorChoice at 0x7f89fe0a83d0>,\n",
       "  'balancing': Balancing(random_state=1, strategy='weighting'),\n",
       "  'feature_preprocessor': <autosklearn.pipeline.components.feature_preprocessing.FeaturePreprocessorChoice at 0x7f8aa5257340>,\n",
       "  'classifier': <autosklearn.pipeline.components.classification.ClassifierChoice at 0x7f8a89dc4b80>,\n",
       "  'sklearn_classifier': RandomForestClassifier(criterion='entropy', max_features=9, min_samples_leaf=9,\n",
       "                         min_samples_split=3, n_estimators=512, n_jobs=1,\n",
       "                         random_state=1, warm_start=True)},\n",
       " 47: {'model_id': 47,\n",
       "  'rank': 13,\n",
       "  'cost': 0.03220858895705514,\n",
       "  'ensemble_weight': 0.04,\n",
       "  'data_preprocessor': <autosklearn.pipeline.components.data_preprocessing.DataPreprocessorChoice at 0x7f89fd7a8250>,\n",
       "  'balancing': Balancing(random_state=1),\n",
       "  'feature_preprocessor': <autosklearn.pipeline.components.feature_preprocessing.FeaturePreprocessorChoice at 0x7f8a89d6b520>,\n",
       "  'classifier': <autosklearn.pipeline.components.classification.ClassifierChoice at 0x7f8a8923d210>,\n",
       "  'sklearn_classifier': RandomForestClassifier(max_features=13, min_samples_split=6, n_estimators=512,\n",
       "                         n_jobs=1, random_state=1, warm_start=True)},\n",
       " 53: {'model_id': 53,\n",
       "  'rank': 14,\n",
       "  'cost': 0.19528371407516565,\n",
       "  'ensemble_weight': 0.12,\n",
       "  'data_preprocessor': <autosklearn.pipeline.components.data_preprocessing.DataPreprocessorChoice at 0x7f89fe17a470>,\n",
       "  'balancing': Balancing(random_state=1),\n",
       "  'feature_preprocessor': <autosklearn.pipeline.components.feature_preprocessing.FeaturePreprocessorChoice at 0x7f8a89c8e860>,\n",
       "  'classifier': <autosklearn.pipeline.components.classification.ClassifierChoice at 0x7f8a89c8ee60>,\n",
       "  'sklearn_classifier': ExtraTreesClassifier(bootstrap=True, max_features=23, min_samples_leaf=3,\n",
       "                       min_samples_split=19, n_estimators=512, n_jobs=1,\n",
       "                       random_state=1, warm_start=True)},\n",
       " 55: {'model_id': 55,\n",
       "  'rank': 15,\n",
       "  'cost': 0.32746113989637304,\n",
       "  'ensemble_weight': 0.34,\n",
       "  'data_preprocessor': <autosklearn.pipeline.components.data_preprocessing.DataPreprocessorChoice at 0x7f8aa5256800>,\n",
       "  'balancing': Balancing(random_state=1),\n",
       "  'feature_preprocessor': <autosklearn.pipeline.components.feature_preprocessing.FeaturePreprocessorChoice at 0x7f8a892af100>,\n",
       "  'classifier': <autosklearn.pipeline.components.classification.ClassifierChoice at 0x7f8a892afa00>,\n",
       "  'sklearn_classifier': ExtraTreesClassifier(criterion='entropy', max_features=2, min_samples_leaf=8,\n",
       "                       min_samples_split=20, n_estimators=512, n_jobs=1,\n",
       "                       random_state=1, warm_start=True)}}"
      ]
     },
     "execution_count": 19,
     "metadata": {},
     "output_type": "execute_result"
    }
   ],
   "source": [
    "clf_count.show_models()"
   ]
  },
  {
   "cell_type": "code",
   "execution_count": 18,
   "metadata": {},
   "outputs": [
    {
     "data": {
      "text/plain": [
       "{2: {'model_id': 2,\n",
       "  'rank': 1,\n",
       "  'cost': 0.04719101123595515,\n",
       "  'ensemble_weight': 0.02,\n",
       "  'data_preprocessor': <autosklearn.pipeline.components.data_preprocessing.DataPreprocessorChoice at 0x7f89fe1786d0>,\n",
       "  'balancing': Balancing(random_state=1),\n",
       "  'feature_preprocessor': <autosklearn.pipeline.components.feature_preprocessing.FeaturePreprocessorChoice at 0x7f8a8923e1a0>,\n",
       "  'classifier': <autosklearn.pipeline.components.classification.ClassifierChoice at 0x7f8a89d68b80>,\n",
       "  'sklearn_classifier': RandomForestClassifier(max_features=30, n_estimators=512, n_jobs=1,\n",
       "                         random_state=1, warm_start=True)},\n",
       " 24: {'model_id': 24,\n",
       "  'rank': 2,\n",
       "  'cost': 0.041474654377880116,\n",
       "  'ensemble_weight': 0.02,\n",
       "  'data_preprocessor': <autosklearn.pipeline.components.data_preprocessing.DataPreprocessorChoice at 0x7f89ff341a50>,\n",
       "  'balancing': Balancing(random_state=1),\n",
       "  'feature_preprocessor': <autosklearn.pipeline.components.feature_preprocessing.FeaturePreprocessorChoice at 0x7f8a84703a90>,\n",
       "  'classifier': <autosklearn.pipeline.components.classification.ClassifierChoice at 0x7f8aa512e200>,\n",
       "  'sklearn_classifier': MLPClassifier(alpha=0.0033978989952146398, beta_1=0.999, beta_2=0.9,\n",
       "                hidden_layer_sizes=(160, 160),\n",
       "                learning_rate_init=0.0026242417321866145, max_iter=64,\n",
       "                n_iter_no_change=32, random_state=1, validation_fraction=0.0,\n",
       "                verbose=0, warm_start=True)},\n",
       " 44: {'model_id': 44,\n",
       "  'rank': 3,\n",
       "  'cost': 0.04977375565610853,\n",
       "  'ensemble_weight': 0.02,\n",
       "  'data_preprocessor': <autosklearn.pipeline.components.data_preprocessing.DataPreprocessorChoice at 0x7f89fe17a6b0>,\n",
       "  'balancing': Balancing(random_state=1),\n",
       "  'feature_preprocessor': <autosklearn.pipeline.components.feature_preprocessing.FeaturePreprocessorChoice at 0x7f8a84104310>,\n",
       "  'classifier': <autosklearn.pipeline.components.classification.ClassifierChoice at 0x7f8a84107550>,\n",
       "  'sklearn_classifier': RandomForestClassifier(criterion='entropy', max_features=86,\n",
       "                         min_samples_split=20, n_estimators=512, n_jobs=1,\n",
       "                         random_state=1, warm_start=True)},\n",
       " 52: {'model_id': 52,\n",
       "  'rank': 4,\n",
       "  'cost': 0.04552352048558428,\n",
       "  'ensemble_weight': 0.04,\n",
       "  'data_preprocessor': <autosklearn.pipeline.components.data_preprocessing.DataPreprocessorChoice at 0x7f8a89d68700>,\n",
       "  'balancing': Balancing(random_state=1),\n",
       "  'feature_preprocessor': <autosklearn.pipeline.components.feature_preprocessing.FeaturePreprocessorChoice at 0x7f8a842582e0>,\n",
       "  'classifier': <autosklearn.pipeline.components.classification.ClassifierChoice at 0x7f8a8425b5b0>,\n",
       "  'sklearn_classifier': MLPClassifier(activation='tanh', alpha=0.00012055904060428156, beta_1=0.999,\n",
       "                beta_2=0.9, hidden_layer_sizes=(32, 32),\n",
       "                learning_rate_init=0.001592893636236757, max_iter=128,\n",
       "                n_iter_no_change=32, random_state=1, validation_fraction=0.0,\n",
       "                verbose=0, warm_start=True)},\n",
       " 65: {'model_id': 65,\n",
       "  'rank': 5,\n",
       "  'cost': 0.04132231404958675,\n",
       "  'ensemble_weight': 0.04,\n",
       "  'data_preprocessor': <autosklearn.pipeline.components.data_preprocessing.DataPreprocessorChoice at 0x7f8a84703610>,\n",
       "  'balancing': Balancing(random_state=1),\n",
       "  'feature_preprocessor': <autosklearn.pipeline.components.feature_preprocessing.FeaturePreprocessorChoice at 0x7f89fd7aa2f0>,\n",
       "  'classifier': <autosklearn.pipeline.components.classification.ClassifierChoice at 0x7f8a83f360b0>,\n",
       "  'sklearn_classifier': LinearSVC(C=2.095912822616471, dual=False, intercept_scaling=1.0,\n",
       "            random_state=1, tol=7.913206838887845e-05)},\n",
       " 89: {'model_id': 89,\n",
       "  'rank': 6,\n",
       "  'cost': 0.04613095238095244,\n",
       "  'ensemble_weight': 0.04,\n",
       "  'data_preprocessor': <autosklearn.pipeline.components.data_preprocessing.DataPreprocessorChoice at 0x7f8a84107a00>,\n",
       "  'balancing': Balancing(random_state=1, strategy='weighting'),\n",
       "  'feature_preprocessor': <autosklearn.pipeline.components.feature_preprocessing.FeaturePreprocessorChoice at 0x7f8a83f37520>,\n",
       "  'classifier': <autosklearn.pipeline.components.classification.ClassifierChoice at 0x7f8a83f505e0>,\n",
       "  'sklearn_classifier': PassiveAggressiveClassifier(C=0.0031047642795753476, average=True,\n",
       "                              loss='squared_hinge', max_iter=512, random_state=1,\n",
       "                              tol=0.00020390202271339375, warm_start=True)},\n",
       " 92: {'model_id': 92,\n",
       "  'rank': 7,\n",
       "  'cost': 0.0453857791225416,\n",
       "  'ensemble_weight': 0.18,\n",
       "  'data_preprocessor': <autosklearn.pipeline.components.data_preprocessing.DataPreprocessorChoice at 0x7f8a83fefb80>,\n",
       "  'balancing': Balancing(random_state=1),\n",
       "  'feature_preprocessor': <autosklearn.pipeline.components.feature_preprocessing.FeaturePreprocessorChoice at 0x7f8a83f526e0>,\n",
       "  'classifier': <autosklearn.pipeline.components.classification.ClassifierChoice at 0x7f8a83f521d0>,\n",
       "  'sklearn_classifier': ExtraTreesClassifier(max_features=13, n_estimators=512, n_jobs=1,\n",
       "                       random_state=1, warm_start=True)},\n",
       " 107: {'model_id': 107,\n",
       "  'rank': 8,\n",
       "  'cost': 0.0436090225563911,\n",
       "  'ensemble_weight': 0.04,\n",
       "  'data_preprocessor': <autosklearn.pipeline.components.data_preprocessing.DataPreprocessorChoice at 0x7f8a88972fe0>,\n",
       "  'balancing': Balancing(random_state=1, strategy='weighting'),\n",
       "  'feature_preprocessor': <autosklearn.pipeline.components.feature_preprocessing.FeaturePreprocessorChoice at 0x7f8a841b27d0>,\n",
       "  'classifier': <autosklearn.pipeline.components.classification.ClassifierChoice at 0x7f8a841b02b0>,\n",
       "  'sklearn_classifier': RandomForestClassifier(max_features=15, min_samples_split=13, n_estimators=512,\n",
       "                         n_jobs=1, random_state=1, warm_start=True)},\n",
       " 108: {'model_id': 108,\n",
       "  'rank': 9,\n",
       "  'cost': 0.04097116843702575,\n",
       "  'ensemble_weight': 0.02,\n",
       "  'data_preprocessor': <autosklearn.pipeline.components.data_preprocessing.DataPreprocessorChoice at 0x7f8a83f379d0>,\n",
       "  'balancing': Balancing(random_state=1, strategy='weighting'),\n",
       "  'feature_preprocessor': <autosklearn.pipeline.components.feature_preprocessing.FeaturePreprocessorChoice at 0x7f89fe10e1a0>,\n",
       "  'classifier': <autosklearn.pipeline.components.classification.ClassifierChoice at 0x7f8a842fa110>,\n",
       "  'sklearn_classifier': LinearSVC(C=0.9622050602630398, class_weight='balanced', dual=False,\n",
       "            intercept_scaling=1.0, random_state=1, tol=6.928665849980575e-05)},\n",
       " 129: {'model_id': 129,\n",
       "  'rank': 10,\n",
       "  'cost': 0.04705003734129942,\n",
       "  'ensemble_weight': 0.02,\n",
       "  'data_preprocessor': <autosklearn.pipeline.components.data_preprocessing.DataPreprocessorChoice at 0x7f8a83f50ca0>,\n",
       "  'balancing': Balancing(random_state=1),\n",
       "  'feature_preprocessor': <autosklearn.pipeline.components.feature_preprocessing.FeaturePreprocessorChoice at 0x7f89fe0aa980>,\n",
       "  'classifier': <autosklearn.pipeline.components.classification.ClassifierChoice at 0x7f8a840ed780>,\n",
       "  'sklearn_classifier': LinearSVC(C=0.710626050450375, dual=False, intercept_scaling=1.0,\n",
       "            random_state=1, tol=7.573631697511229e-05)},\n",
       " 138: {'model_id': 138,\n",
       "  'rank': 11,\n",
       "  'cost': 0.04169825625473844,\n",
       "  'ensemble_weight': 0.12,\n",
       "  'data_preprocessor': <autosklearn.pipeline.components.data_preprocessing.DataPreprocessorChoice at 0x7f8a841b3400>,\n",
       "  'balancing': Balancing(random_state=1),\n",
       "  'feature_preprocessor': <autosklearn.pipeline.components.feature_preprocessing.FeaturePreprocessorChoice at 0x7f8a842fb610>,\n",
       "  'classifier': <autosklearn.pipeline.components.classification.ClassifierChoice at 0x7f89fde10220>,\n",
       "  'sklearn_classifier': LinearSVC(C=4.563209077479911, dual=False, intercept_scaling=1.0,\n",
       "            random_state=1, tol=0.059286308781735235)},\n",
       " 143: {'model_id': 143,\n",
       "  'rank': 12,\n",
       "  'cost': 0.0524714828897338,\n",
       "  'ensemble_weight': 0.08,\n",
       "  'data_preprocessor': <autosklearn.pipeline.components.data_preprocessing.DataPreprocessorChoice at 0x7f8a841b2f20>,\n",
       "  'balancing': Balancing(random_state=1, strategy='weighting'),\n",
       "  'feature_preprocessor': <autosklearn.pipeline.components.feature_preprocessing.FeaturePreprocessorChoice at 0x7f8a840ef3d0>,\n",
       "  'classifier': <autosklearn.pipeline.components.classification.ClassifierChoice at 0x7f8a840ec4f0>,\n",
       "  'sklearn_classifier': SVC(C=100.31643314942187, cache_size=4824.033854166667, class_weight='balanced',\n",
       "      gamma=0.08098362241049825, max_iter=-1.0, random_state=1, shrinking=False,\n",
       "      tol=0.012218093911669822)},\n",
       " 151: {'model_id': 151,\n",
       "  'rank': 13,\n",
       "  'cost': 0.03181818181818186,\n",
       "  'ensemble_weight': 0.04,\n",
       "  'data_preprocessor': <autosklearn.pipeline.components.data_preprocessing.DataPreprocessorChoice at 0x7f8a83fe8880>,\n",
       "  'balancing': Balancing(random_state=1, strategy='weighting'),\n",
       "  'feature_preprocessor': <autosklearn.pipeline.components.feature_preprocessing.FeaturePreprocessorChoice at 0x7f89fde10160>,\n",
       "  'classifier': <autosklearn.pipeline.components.classification.ClassifierChoice at 0x7f89fe2d1000>,\n",
       "  'sklearn_classifier': MLPClassifier(activation='tanh', alpha=2.5270996934979465e-05, beta_1=0.999,\n",
       "                beta_2=0.9, hidden_layer_sizes=(35,),\n",
       "                learning_rate_init=0.0009395018475394529, max_iter=128,\n",
       "                n_iter_no_change=32, random_state=1, validation_fraction=0.0,\n",
       "                verbose=0, warm_start=True)},\n",
       " 152: {'model_id': 152,\n",
       "  'rank': 14,\n",
       "  'cost': 0.04078549848942592,\n",
       "  'ensemble_weight': 0.02,\n",
       "  'data_preprocessor': <autosklearn.pipeline.components.data_preprocessing.DataPreprocessorChoice at 0x7f8a842fbb20>,\n",
       "  'balancing': Balancing(random_state=1, strategy='weighting'),\n",
       "  'feature_preprocessor': <autosklearn.pipeline.components.feature_preprocessing.FeaturePreprocessorChoice at 0x7f89fe2d2bc0>,\n",
       "  'classifier': <autosklearn.pipeline.components.classification.ClassifierChoice at 0x7f89fe2d1570>,\n",
       "  'sklearn_classifier': LinearSVC(C=0.7250445610712006, class_weight='balanced', dual=False,\n",
       "            intercept_scaling=1.0, random_state=1, tol=0.00010000000000000009)},\n",
       " 157: {'model_id': 157,\n",
       "  'rank': 15,\n",
       "  'cost': 0.04883546205860256,\n",
       "  'ensemble_weight': 0.06,\n",
       "  'data_preprocessor': <autosklearn.pipeline.components.data_preprocessing.DataPreprocessorChoice at 0x7f8a840ef970>,\n",
       "  'balancing': Balancing(random_state=1, strategy='weighting'),\n",
       "  'feature_preprocessor': <autosklearn.pipeline.components.feature_preprocessing.FeaturePreprocessorChoice at 0x7f8a88972da0>,\n",
       "  'classifier': <autosklearn.pipeline.components.classification.ClassifierChoice at 0x7f8a83feceb0>,\n",
       "  'sklearn_classifier': LinearSVC(C=1.0239448663858066, class_weight='balanced', dual=False,\n",
       "            intercept_scaling=1.0, random_state=1, tol=4.903451430479994e-05)},\n",
       " 162: {'model_id': 162,\n",
       "  'rank': 16,\n",
       "  'cost': 0.04406273338312172,\n",
       "  'ensemble_weight': 0.08,\n",
       "  'data_preprocessor': <autosklearn.pipeline.components.data_preprocessing.DataPreprocessorChoice at 0x7f89fde134c0>,\n",
       "  'balancing': Balancing(random_state=1),\n",
       "  'feature_preprocessor': <autosklearn.pipeline.components.feature_preprocessing.FeaturePreprocessorChoice at 0x7f8a83fef940>,\n",
       "  'classifier': <autosklearn.pipeline.components.classification.ClassifierChoice at 0x7f8a83fec910>,\n",
       "  'sklearn_classifier': PassiveAggressiveClassifier(C=0.010635634154615603, average=True, max_iter=256,\n",
       "                              random_state=1, tol=0.00024695100360123555,\n",
       "                              warm_start=True)},\n",
       " 166: {'model_id': 166,\n",
       "  'rank': 17,\n",
       "  'cost': 0.050458715596330306,\n",
       "  'ensemble_weight': 0.04,\n",
       "  'data_preprocessor': <autosklearn.pipeline.components.data_preprocessing.DataPreprocessorChoice at 0x7f89fe0abd00>,\n",
       "  'balancing': Balancing(random_state=1),\n",
       "  'feature_preprocessor': <autosklearn.pipeline.components.feature_preprocessing.FeaturePreprocessorChoice at 0x7f89fd8395d0>,\n",
       "  'classifier': <autosklearn.pipeline.components.classification.ClassifierChoice at 0x7f8a84107670>,\n",
       "  'sklearn_classifier': MLPClassifier(alpha=0.00010170988877550423, beta_1=0.999, beta_2=0.9,\n",
       "                hidden_layer_sizes=(240, 240),\n",
       "                learning_rate_init=0.0014748417471895194, max_iter=64,\n",
       "                n_iter_no_change=32, random_state=1, validation_fraction=0.0,\n",
       "                verbose=0, warm_start=True)},\n",
       " 168: {'model_id': 168,\n",
       "  'rank': 18,\n",
       "  'cost': 0.0402429764616552,\n",
       "  'ensemble_weight': 0.02,\n",
       "  'data_preprocessor': <autosklearn.pipeline.components.data_preprocessing.DataPreprocessorChoice at 0x7f89fde68790>,\n",
       "  'balancing': Balancing(random_state=1, strategy='weighting'),\n",
       "  'feature_preprocessor': <autosklearn.pipeline.components.feature_preprocessing.FeaturePreprocessorChoice at 0x7f89fe00d000>,\n",
       "  'classifier': <autosklearn.pipeline.components.classification.ClassifierChoice at 0x7f89fe14e470>,\n",
       "  'sklearn_classifier': LinearSVC(C=107.77499638730183, class_weight='balanced', dual=False,\n",
       "            intercept_scaling=1.0, random_state=1, tol=0.000347639158202417)},\n",
       " 170: {'model_id': 170,\n",
       "  'rank': 19,\n",
       "  'cost': 0.0450725744843391,\n",
       "  'ensemble_weight': 0.04,\n",
       "  'data_preprocessor': <autosklearn.pipeline.components.data_preprocessing.DataPreprocessorChoice at 0x7f8a83fecaf0>,\n",
       "  'balancing': Balancing(random_state=1),\n",
       "  'feature_preprocessor': <autosklearn.pipeline.components.feature_preprocessing.FeaturePreprocessorChoice at 0x7f8a84105660>,\n",
       "  'classifier': <autosklearn.pipeline.components.classification.ClassifierChoice at 0x7f8a84016080>,\n",
       "  'sklearn_classifier': LinearSVC(C=5.865156624427471, dual=False, intercept_scaling=1.0,\n",
       "            random_state=1, tol=0.08530364356497314)},\n",
       " 191: {'model_id': 191,\n",
       "  'rank': 20,\n",
       "  'cost': 0.04119850187265928,\n",
       "  'ensemble_weight': 0.04,\n",
       "  'data_preprocessor': <autosklearn.pipeline.components.data_preprocessing.DataPreprocessorChoice at 0x7f8a83fed780>,\n",
       "  'balancing': Balancing(random_state=1),\n",
       "  'feature_preprocessor': <autosklearn.pipeline.components.feature_preprocessing.FeaturePreprocessorChoice at 0x7f8a84017430>,\n",
       "  'classifier': <autosklearn.pipeline.components.classification.ClassifierChoice at 0x7f89fe0cde10>,\n",
       "  'sklearn_classifier': MLPClassifier(activation='tanh', alpha=8.13204462807034e-05, beta_1=0.999,\n",
       "                beta_2=0.9, early_stopping=True, hidden_layer_sizes=(21, 21),\n",
       "                learning_rate_init=0.0010000000000000002, max_iter=32,\n",
       "                n_iter_no_change=32, random_state=1, verbose=0, warm_start=True)},\n",
       " 192: {'model_id': 192,\n",
       "  'rank': 21,\n",
       "  'cost': 0.04012112036336102,\n",
       "  'ensemble_weight': 0.02,\n",
       "  'data_preprocessor': <autosklearn.pipeline.components.data_preprocessing.DataPreprocessorChoice at 0x7f8aa512e0e0>,\n",
       "  'balancing': Balancing(random_state=1),\n",
       "  'feature_preprocessor': <autosklearn.pipeline.components.feature_preprocessing.FeaturePreprocessorChoice at 0x7f8a84702e30>,\n",
       "  'classifier': <autosklearn.pipeline.components.classification.ClassifierChoice at 0x7f8a842269b0>,\n",
       "  'sklearn_classifier': MLPClassifier(alpha=0.00010000000000000026, beta_1=0.999, beta_2=0.9,\n",
       "                hidden_layer_sizes=(31, 31),\n",
       "                learning_rate_init=0.0016332147703112026, max_iter=128,\n",
       "                n_iter_no_change=32, random_state=1, validation_fraction=0.0,\n",
       "                verbose=0, warm_start=True)}}"
      ]
     },
     "execution_count": 18,
     "metadata": {},
     "output_type": "execute_result"
    }
   ],
   "source": [
    "clf_tfidf.show_models()"
   ]
  },
  {
   "attachments": {},
   "cell_type": "markdown",
   "metadata": {},
   "source": [
    "Let's see our classification scores"
   ]
  },
  {
   "cell_type": "code",
   "execution_count": 20,
   "metadata": {},
   "outputs": [
    {
     "name": "stdout",
     "output_type": "stream",
     "text": [
      "              precision    recall  f1-score   support\n",
      "\n",
      "           0       0.98      0.96      0.97       978\n",
      "           1       0.96      0.98      0.97       940\n",
      "\n",
      "    accuracy                           0.97      1918\n",
      "   macro avg       0.97      0.97      0.97      1918\n",
      "weighted avg       0.97      0.97      0.97      1918\n",
      "\n"
     ]
    }
   ],
   "source": [
    "y_pred_count = clf_count.predict(X_test_count)\n",
    "print(classification_report(y_test_count, y_pred_count))"
   ]
  },
  {
   "cell_type": "code",
   "execution_count": 15,
   "metadata": {},
   "outputs": [
    {
     "name": "stdout",
     "output_type": "stream",
     "text": [
      "              precision    recall  f1-score   support\n",
      "\n",
      "           0       0.99      0.94      0.96       978\n",
      "           1       0.94      0.99      0.96       940\n",
      "\n",
      "    accuracy                           0.96      1918\n",
      "   macro avg       0.96      0.96      0.96      1918\n",
      "weighted avg       0.96      0.96      0.96      1918\n",
      "\n"
     ]
    }
   ],
   "source": [
    "y_pred_tfidf = clf_tfidf.predict(X_test_tfidf)\n",
    "print(classification_report(y_test_tfidf, y_pred_tfidf))"
   ]
  },
  {
   "attachments": {},
   "cell_type": "markdown",
   "metadata": {},
   "source": [
    "What about the errors? Let's check the confusion matrix"
   ]
  },
  {
   "cell_type": "code",
   "execution_count": 16,
   "metadata": {},
   "outputs": [
    {
     "data": {
      "text/plain": [
       "<AxesSubplot: >"
      ]
     },
     "execution_count": 16,
     "metadata": {},
     "output_type": "execute_result"
    },
    {
     "data": {
      "image/png": "[encoded data removed]",
      "text/plain": [
       "<Figure size 640x480 with 2 Axes>"
      ]
     },
     "metadata": {},
     "output_type": "display_data"
    }
   ],
   "source": [
    "cf_matrix_count = confusion_matrix(y_test_count, y_pred_count)\n",
    "sns.heatmap(cf_matrix_count, annot=True, fmt='d', cmap='Blues')"
   ]
  },
  {
   "cell_type": "code",
   "execution_count": 17,
   "metadata": {},
   "outputs": [
    {
     "data": {
      "text/plain": [
       "<AxesSubplot: >"
      ]
     },
     "execution_count": 17,
     "metadata": {},
     "output_type": "execute_result"
    },
    {
     "data": {
      "image/png": "[encoded data removed]",
      "text/plain": [
       "<Figure size 640x480 with 2 Axes>"
      ]
     },
     "metadata": {},
     "output_type": "display_data"
    }
   ],
   "source": [
    "cf_matrix_tfidf = confusion_matrix(y_test_tfidf, y_pred_tfidf)\n",
    "sns.heatmap(cf_matrix_tfidf, annot=True, fmt='d', cmap='Blues')"
   ]
  }
 ],
 "metadata": {
  "kernelspec": {
   "display_name": "findbestmodel",
   "language": "python",
   "name": "python3"
  },
  "language_info": {
   "codemirror_mode": {
    "name": "ipython",
    "version": 3
   },
   "file_extension": ".py",
   "mimetype": "text/x-python",
   "name": "python",
   "nbconvert_exporter": "python",
   "pygments_lexer": "ipython3",
   "version": "3.10.9 (main, Jan 10 2023, 16:19:05) [GCC 9.4.0]"
  },
  "orig_nbformat": 4,
  "vscode": {
   "interpreter": {
    "hash": "bb4542da5527226c3ed1023637ad5c19372e542645c1cae479bd855f611c3e36"
   }
  }
 },
 "nbformat": 4,
 "nbformat_minor": 2
}
