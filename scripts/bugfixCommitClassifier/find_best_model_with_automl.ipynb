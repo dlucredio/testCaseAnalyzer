{
 "cells": [
  {
   "attachments": {},
   "cell_type": "markdown",
   "metadata": {},
   "source": [
    "This notebook is used to find the best model for the dataset using auto_sklearn.\n",
    "\n",
    "Tested in a clean environment with Python 3.10.9"
   ]
  },
  {
   "attachments": {},
   "cell_type": "markdown",
   "metadata": {},
   "source": [
    "These are the packages we used"
   ]
  },
  {
   "cell_type": "code",
   "execution_count": 13,
   "metadata": {},
   "outputs": [
    {
     "name": "stdout",
     "output_type": "stream",
     "text": [
      "Requirement already satisfied: pandas==1.5.2 in /home/daniel/.pyenv/versions/3.10.9/envs/findbestmodel/lib/python3.10/site-packages (1.5.2)\n",
      "Requirement already satisfied: python-dateutil>=2.8.1 in /home/daniel/.pyenv/versions/3.10.9/envs/findbestmodel/lib/python3.10/site-packages (from pandas==1.5.2) (2.8.2)\n",
      "Requirement already satisfied: pytz>=2020.1 in /home/daniel/.pyenv/versions/3.10.9/envs/findbestmodel/lib/python3.10/site-packages (from pandas==1.5.2) (2022.7)\n",
      "Requirement already satisfied: numpy>=1.21.0 in /home/daniel/.pyenv/versions/3.10.9/envs/findbestmodel/lib/python3.10/site-packages (from pandas==1.5.2) (1.24.1)\n",
      "Requirement already satisfied: six>=1.5 in /home/daniel/.pyenv/versions/3.10.9/envs/findbestmodel/lib/python3.10/site-packages (from python-dateutil>=2.8.1->pandas==1.5.2) (1.16.0)\n",
      "Note: you may need to restart the kernel to use updated packages.\n",
      "Requirement already satisfied: tqdm==4.64.1 in /home/daniel/.pyenv/versions/3.10.9/envs/findbestmodel/lib/python3.10/site-packages (4.64.1)\n",
      "Note: you may need to restart the kernel to use updated packages.\n",
      "Requirement already satisfied: pyarrow==10.0.1 in /home/daniel/.pyenv/versions/3.10.9/envs/findbestmodel/lib/python3.10/site-packages (10.0.1)\n",
      "Requirement already satisfied: numpy>=1.16.6 in /home/daniel/.pyenv/versions/3.10.9/envs/findbestmodel/lib/python3.10/site-packages (from pyarrow==10.0.1) (1.24.1)\n",
      "Note: you may need to restart the kernel to use updated packages.\n",
      "Requirement already satisfied: nltk==3.8.1 in /home/daniel/.pyenv/versions/3.10.9/envs/findbestmodel/lib/python3.10/site-packages (3.8.1)\n",
      "Requirement already satisfied: regex>=2021.8.3 in /home/daniel/.pyenv/versions/3.10.9/envs/findbestmodel/lib/python3.10/site-packages (from nltk==3.8.1) (2022.10.31)\n",
      "Requirement already satisfied: click in /home/daniel/.pyenv/versions/3.10.9/envs/findbestmodel/lib/python3.10/site-packages (from nltk==3.8.1) (8.1.3)\n",
      "Requirement already satisfied: joblib in /home/daniel/.pyenv/versions/3.10.9/envs/findbestmodel/lib/python3.10/site-packages (from nltk==3.8.1) (1.2.0)\n",
      "Requirement already satisfied: tqdm in /home/daniel/.pyenv/versions/3.10.9/envs/findbestmodel/lib/python3.10/site-packages (from nltk==3.8.1) (4.64.1)\n",
      "Note: you may need to restart the kernel to use updated packages.\n",
      "Requirement already satisfied: auto-sklearn==0.15.0 in /home/daniel/.pyenv/versions/3.10.9/envs/findbestmodel/lib/python3.10/site-packages (0.15.0)\n",
      "Requirement already satisfied: dask>=2021.12 in /home/daniel/.pyenv/versions/3.10.9/envs/findbestmodel/lib/python3.10/site-packages (from auto-sklearn==0.15.0) (2022.12.1)\n",
      "Requirement already satisfied: distributed>=2012.12 in /home/daniel/.pyenv/versions/3.10.9/envs/findbestmodel/lib/python3.10/site-packages (from auto-sklearn==0.15.0) (2022.12.1)\n",
      "Requirement already satisfied: scikit-learn<0.25.0,>=0.24.0 in /home/daniel/.pyenv/versions/3.10.9/envs/findbestmodel/lib/python3.10/site-packages (from auto-sklearn==0.15.0) (0.24.2)\n",
      "Requirement already satisfied: smac<1.3,>=1.2 in /home/daniel/.pyenv/versions/3.10.9/envs/findbestmodel/lib/python3.10/site-packages (from auto-sklearn==0.15.0) (1.2)\n",
      "Requirement already satisfied: typing-extensions in /home/daniel/.pyenv/versions/3.10.9/envs/findbestmodel/lib/python3.10/site-packages (from auto-sklearn==0.15.0) (4.4.0)\n",
      "Requirement already satisfied: pyrfr<0.9,>=0.8.1 in /home/daniel/.pyenv/versions/3.10.9/envs/findbestmodel/lib/python3.10/site-packages (from auto-sklearn==0.15.0) (0.8.3)\n",
      "Requirement already satisfied: pynisher<0.7,>=0.6.3 in /home/daniel/.pyenv/versions/3.10.9/envs/findbestmodel/lib/python3.10/site-packages (from auto-sklearn==0.15.0) (0.6.4)\n",
      "Requirement already satisfied: pyyaml in /home/daniel/.pyenv/versions/3.10.9/envs/findbestmodel/lib/python3.10/site-packages (from auto-sklearn==0.15.0) (6.0)\n",
      "Requirement already satisfied: liac-arff in /home/daniel/.pyenv/versions/3.10.9/envs/findbestmodel/lib/python3.10/site-packages (from auto-sklearn==0.15.0) (2.5.0)\n",
      "Requirement already satisfied: scipy>=1.7.0 in /home/daniel/.pyenv/versions/3.10.9/envs/findbestmodel/lib/python3.10/site-packages (from auto-sklearn==0.15.0) (1.10.0)\n",
      "Requirement already satisfied: numpy>=1.9.0 in /home/daniel/.pyenv/versions/3.10.9/envs/findbestmodel/lib/python3.10/site-packages (from auto-sklearn==0.15.0) (1.24.1)\n",
      "Requirement already satisfied: setuptools in /home/daniel/.pyenv/versions/3.10.9/envs/findbestmodel/lib/python3.10/site-packages (from auto-sklearn==0.15.0) (65.5.0)\n",
      "Requirement already satisfied: pandas>=1.0 in /home/daniel/.pyenv/versions/3.10.9/envs/findbestmodel/lib/python3.10/site-packages (from auto-sklearn==0.15.0) (1.5.2)\n",
      "Requirement already satisfied: threadpoolctl in /home/daniel/.pyenv/versions/3.10.9/envs/findbestmodel/lib/python3.10/site-packages (from auto-sklearn==0.15.0) (3.1.0)\n",
      "Requirement already satisfied: joblib in /home/daniel/.pyenv/versions/3.10.9/envs/findbestmodel/lib/python3.10/site-packages (from auto-sklearn==0.15.0) (1.2.0)\n",
      "Requirement already satisfied: ConfigSpace<0.5,>=0.4.21 in /home/daniel/.pyenv/versions/3.10.9/envs/findbestmodel/lib/python3.10/site-packages (from auto-sklearn==0.15.0) (0.4.21)\n",
      "Requirement already satisfied: distro in /home/daniel/.pyenv/versions/3.10.9/envs/findbestmodel/lib/python3.10/site-packages (from auto-sklearn==0.15.0) (1.8.0)\n",
      "Requirement already satisfied: cython in /home/daniel/.pyenv/versions/3.10.9/envs/findbestmodel/lib/python3.10/site-packages (from ConfigSpace<0.5,>=0.4.21->auto-sklearn==0.15.0) (0.29.33)\n",
      "Requirement already satisfied: pyparsing in /home/daniel/.pyenv/versions/3.10.9/envs/findbestmodel/lib/python3.10/site-packages (from ConfigSpace<0.5,>=0.4.21->auto-sklearn==0.15.0) (3.0.9)\n",
      "Requirement already satisfied: toolz>=0.8.2 in /home/daniel/.pyenv/versions/3.10.9/envs/findbestmodel/lib/python3.10/site-packages (from dask>=2021.12->auto-sklearn==0.15.0) (0.12.0)\n",
      "Requirement already satisfied: fsspec>=0.6.0 in /home/daniel/.pyenv/versions/3.10.9/envs/findbestmodel/lib/python3.10/site-packages (from dask>=2021.12->auto-sklearn==0.15.0) (2022.11.0)\n",
      "Requirement already satisfied: packaging>=20.0 in /home/daniel/.pyenv/versions/3.10.9/envs/findbestmodel/lib/python3.10/site-packages (from dask>=2021.12->auto-sklearn==0.15.0) (23.0)\n",
      "Requirement already satisfied: cloudpickle>=1.1.1 in /home/daniel/.pyenv/versions/3.10.9/envs/findbestmodel/lib/python3.10/site-packages (from dask>=2021.12->auto-sklearn==0.15.0) (2.2.0)\n",
      "Requirement already satisfied: click>=7.0 in /home/daniel/.pyenv/versions/3.10.9/envs/findbestmodel/lib/python3.10/site-packages (from dask>=2021.12->auto-sklearn==0.15.0) (8.1.3)\n",
      "Requirement already satisfied: partd>=0.3.10 in /home/daniel/.pyenv/versions/3.10.9/envs/findbestmodel/lib/python3.10/site-packages (from dask>=2021.12->auto-sklearn==0.15.0) (1.3.0)\n",
      "Requirement already satisfied: jinja2 in /home/daniel/.pyenv/versions/3.10.9/envs/findbestmodel/lib/python3.10/site-packages (from distributed>=2012.12->auto-sklearn==0.15.0) (3.1.2)\n",
      "Requirement already satisfied: tornado>=6.0.3 in /home/daniel/.pyenv/versions/3.10.9/envs/findbestmodel/lib/python3.10/site-packages (from distributed>=2012.12->auto-sklearn==0.15.0) (6.2)\n",
      "Requirement already satisfied: tblib>=1.6.0 in /home/daniel/.pyenv/versions/3.10.9/envs/findbestmodel/lib/python3.10/site-packages (from distributed>=2012.12->auto-sklearn==0.15.0) (1.7.0)\n",
      "Requirement already satisfied: locket>=1.0.0 in /home/daniel/.pyenv/versions/3.10.9/envs/findbestmodel/lib/python3.10/site-packages (from distributed>=2012.12->auto-sklearn==0.15.0) (1.0.0)\n",
      "Requirement already satisfied: msgpack>=0.6.0 in /home/daniel/.pyenv/versions/3.10.9/envs/findbestmodel/lib/python3.10/site-packages (from distributed>=2012.12->auto-sklearn==0.15.0) (1.0.4)\n",
      "Requirement already satisfied: psutil>=5.0 in /home/daniel/.pyenv/versions/3.10.9/envs/findbestmodel/lib/python3.10/site-packages (from distributed>=2012.12->auto-sklearn==0.15.0) (5.9.4)\n",
      "Requirement already satisfied: urllib3 in /home/daniel/.pyenv/versions/3.10.9/envs/findbestmodel/lib/python3.10/site-packages (from distributed>=2012.12->auto-sklearn==0.15.0) (1.26.14)\n",
      "Requirement already satisfied: zict>=0.1.3 in /home/daniel/.pyenv/versions/3.10.9/envs/findbestmodel/lib/python3.10/site-packages (from distributed>=2012.12->auto-sklearn==0.15.0) (2.2.0)\n",
      "Requirement already satisfied: sortedcontainers!=2.0.0,!=2.0.1 in /home/daniel/.pyenv/versions/3.10.9/envs/findbestmodel/lib/python3.10/site-packages (from distributed>=2012.12->auto-sklearn==0.15.0) (2.4.0)\n",
      "Requirement already satisfied: pytz>=2020.1 in /home/daniel/.pyenv/versions/3.10.9/envs/findbestmodel/lib/python3.10/site-packages (from pandas>=1.0->auto-sklearn==0.15.0) (2022.7)\n",
      "Requirement already satisfied: python-dateutil>=2.8.1 in /home/daniel/.pyenv/versions/3.10.9/envs/findbestmodel/lib/python3.10/site-packages (from pandas>=1.0->auto-sklearn==0.15.0) (2.8.2)\n",
      "Requirement already satisfied: emcee>=3.0.0 in /home/daniel/.pyenv/versions/3.10.9/envs/findbestmodel/lib/python3.10/site-packages (from smac<1.3,>=1.2->auto-sklearn==0.15.0) (3.1.3)\n",
      "Requirement already satisfied: six>=1.5 in /home/daniel/.pyenv/versions/3.10.9/envs/findbestmodel/lib/python3.10/site-packages (from python-dateutil>=2.8.1->pandas>=1.0->auto-sklearn==0.15.0) (1.16.0)\n",
      "Requirement already satisfied: heapdict in /home/daniel/.pyenv/versions/3.10.9/envs/findbestmodel/lib/python3.10/site-packages (from zict>=0.1.3->distributed>=2012.12->auto-sklearn==0.15.0) (1.0.1)\n",
      "Requirement already satisfied: MarkupSafe>=2.0 in /home/daniel/.pyenv/versions/3.10.9/envs/findbestmodel/lib/python3.10/site-packages (from jinja2->distributed>=2012.12->auto-sklearn==0.15.0) (2.1.1)\n",
      "Note: you may need to restart the kernel to use updated packages.\n",
      "Requirement already satisfied: seaborn==0.12.2 in /home/daniel/.pyenv/versions/3.10.9/envs/findbestmodel/lib/python3.10/site-packages (0.12.2)\n",
      "Requirement already satisfied: numpy!=1.24.0,>=1.17 in /home/daniel/.pyenv/versions/3.10.9/envs/findbestmodel/lib/python3.10/site-packages (from seaborn==0.12.2) (1.24.1)\n",
      "Requirement already satisfied: pandas>=0.25 in /home/daniel/.pyenv/versions/3.10.9/envs/findbestmodel/lib/python3.10/site-packages (from seaborn==0.12.2) (1.5.2)\n",
      "Requirement already satisfied: matplotlib!=3.6.1,>=3.1 in /home/daniel/.pyenv/versions/3.10.9/envs/findbestmodel/lib/python3.10/site-packages (from seaborn==0.12.2) (3.6.2)\n",
      "Requirement already satisfied: kiwisolver>=1.0.1 in /home/daniel/.pyenv/versions/3.10.9/envs/findbestmodel/lib/python3.10/site-packages (from matplotlib!=3.6.1,>=3.1->seaborn==0.12.2) (1.4.4)\n",
      "Requirement already satisfied: contourpy>=1.0.1 in /home/daniel/.pyenv/versions/3.10.9/envs/findbestmodel/lib/python3.10/site-packages (from matplotlib!=3.6.1,>=3.1->seaborn==0.12.2) (1.0.6)\n",
      "Requirement already satisfied: packaging>=20.0 in /home/daniel/.pyenv/versions/3.10.9/envs/findbestmodel/lib/python3.10/site-packages (from matplotlib!=3.6.1,>=3.1->seaborn==0.12.2) (23.0)\n",
      "Requirement already satisfied: fonttools>=4.22.0 in /home/daniel/.pyenv/versions/3.10.9/envs/findbestmodel/lib/python3.10/site-packages (from matplotlib!=3.6.1,>=3.1->seaborn==0.12.2) (4.38.0)\n",
      "Requirement already satisfied: pillow>=6.2.0 in /home/daniel/.pyenv/versions/3.10.9/envs/findbestmodel/lib/python3.10/site-packages (from matplotlib!=3.6.1,>=3.1->seaborn==0.12.2) (9.4.0)\n",
      "Requirement already satisfied: cycler>=0.10 in /home/daniel/.pyenv/versions/3.10.9/envs/findbestmodel/lib/python3.10/site-packages (from matplotlib!=3.6.1,>=3.1->seaborn==0.12.2) (0.11.0)\n",
      "Requirement already satisfied: pyparsing>=2.2.1 in /home/daniel/.pyenv/versions/3.10.9/envs/findbestmodel/lib/python3.10/site-packages (from matplotlib!=3.6.1,>=3.1->seaborn==0.12.2) (3.0.9)\n",
      "Requirement already satisfied: python-dateutil>=2.7 in /home/daniel/.pyenv/versions/3.10.9/envs/findbestmodel/lib/python3.10/site-packages (from matplotlib!=3.6.1,>=3.1->seaborn==0.12.2) (2.8.2)\n",
      "Requirement already satisfied: pytz>=2020.1 in /home/daniel/.pyenv/versions/3.10.9/envs/findbestmodel/lib/python3.10/site-packages (from pandas>=0.25->seaborn==0.12.2) (2022.7)\n",
      "Requirement already satisfied: six>=1.5 in /home/daniel/.pyenv/versions/3.10.9/envs/findbestmodel/lib/python3.10/site-packages (from python-dateutil>=2.7->matplotlib!=3.6.1,>=3.1->seaborn==0.12.2) (1.16.0)\n",
      "Note: you may need to restart the kernel to use updated packages.\n",
      "Requirement already satisfied: matplotlib==3.6.2 in /home/daniel/.pyenv/versions/3.10.9/envs/findbestmodel/lib/python3.10/site-packages (3.6.2)\n",
      "Requirement already satisfied: packaging>=20.0 in /home/daniel/.pyenv/versions/3.10.9/envs/findbestmodel/lib/python3.10/site-packages (from matplotlib==3.6.2) (23.0)\n",
      "Requirement already satisfied: fonttools>=4.22.0 in /home/daniel/.pyenv/versions/3.10.9/envs/findbestmodel/lib/python3.10/site-packages (from matplotlib==3.6.2) (4.38.0)\n",
      "Requirement already satisfied: numpy>=1.19 in /home/daniel/.pyenv/versions/3.10.9/envs/findbestmodel/lib/python3.10/site-packages (from matplotlib==3.6.2) (1.24.1)\n",
      "Requirement already satisfied: pillow>=6.2.0 in /home/daniel/.pyenv/versions/3.10.9/envs/findbestmodel/lib/python3.10/site-packages (from matplotlib==3.6.2) (9.4.0)\n",
      "Requirement already satisfied: cycler>=0.10 in /home/daniel/.pyenv/versions/3.10.9/envs/findbestmodel/lib/python3.10/site-packages (from matplotlib==3.6.2) (0.11.0)\n",
      "Requirement already satisfied: pyparsing>=2.2.1 in /home/daniel/.pyenv/versions/3.10.9/envs/findbestmodel/lib/python3.10/site-packages (from matplotlib==3.6.2) (3.0.9)\n",
      "Requirement already satisfied: kiwisolver>=1.0.1 in /home/daniel/.pyenv/versions/3.10.9/envs/findbestmodel/lib/python3.10/site-packages (from matplotlib==3.6.2) (1.4.4)\n",
      "Requirement already satisfied: contourpy>=1.0.1 in /home/daniel/.pyenv/versions/3.10.9/envs/findbestmodel/lib/python3.10/site-packages (from matplotlib==3.6.2) (1.0.6)\n",
      "Requirement already satisfied: python-dateutil>=2.7 in /home/daniel/.pyenv/versions/3.10.9/envs/findbestmodel/lib/python3.10/site-packages (from matplotlib==3.6.2) (2.8.2)\n",
      "Requirement already satisfied: six>=1.5 in /home/daniel/.pyenv/versions/3.10.9/envs/findbestmodel/lib/python3.10/site-packages (from python-dateutil>=2.7->matplotlib==3.6.2) (1.16.0)\n",
      "Note: you may need to restart the kernel to use updated packages.\n"
     ]
    }
   ],
   "source": [
    "# To perform data manipulation\n",
    "%pip install pandas==1.5.2\n",
    "\n",
    "# To monitor progress in long tasks\n",
    "%pip install tqdm==4.64.1\n",
    "\n",
    "# Pyarrow is used by pandas to save/load parquet files\n",
    "%pip install pyarrow==10.0.1\n",
    "\n",
    "# To process natural text\n",
    "%pip install nltk==3.8.1\n",
    "\n",
    "# We will try to find the best model for the dataset using auto-sklearn\n",
    "%pip install auto-sklearn==0.15.0\n",
    "\n",
    "# To visualize confusion matrix and plot other data\n",
    "%pip install seaborn==0.12.2\n",
    "%pip install matplotlib==3.6.2"
   ]
  },
  {
   "attachments": {},
   "cell_type": "markdown",
   "metadata": {},
   "source": [
    "Now let's import the necessary modules"
   ]
  },
  {
   "cell_type": "code",
   "execution_count": 14,
   "metadata": {},
   "outputs": [
    {
     "name": "stderr",
     "output_type": "stream",
     "text": [
      "[nltk_data] Downloading package stopwords to /home/daniel/nltk_data...\n",
      "[nltk_data]   Package stopwords is already up-to-date!\n",
      "[nltk_data] Downloading package punkt to /home/daniel/nltk_data...\n",
      "[nltk_data]   Package punkt is already up-to-date!\n"
     ]
    }
   ],
   "source": [
    "import pandas as pd # For data processing\n",
    "\n",
    "import nltk # For text processing\n",
    "nltk.download('stopwords') # Stop words\n",
    "nltk.download('punkt') # Tokenizer\n",
    "english_stop_words = set(nltk.corpus.stopwords.words('english')) # Saving the stopwords in a list\n",
    "\n",
    "from tqdm import tqdm # To monitor progress in large tasks\n",
    "tqdm.pandas() # Configure tqdm to work with pandas\n",
    "\n",
    "from sklearn.feature_extraction.text import TfidfVectorizer, CountVectorizer # To make sklearn work with text features\n",
    "from sklearn.model_selection import train_test_split # To split train/test data\n",
    "from sklearn.utils import resample # To balance the dataset\n",
    "\n",
    "import autosklearn.classification # To find a model automatically\n",
    "from sklearn.metrics import classification_report # To determine the quality of our models\n",
    "from sklearn.metrics import confusion_matrix  # To determine the quality of our models\n",
    "import seaborn as sns # To see the confusion matrix\n",
    "import matplotlib.pyplot as plt # To see the confusion matrix\n",
    "\n",
    "import joblib # To save the models found"
   ]
  },
  {
   "attachments": {},
   "cell_type": "markdown",
   "metadata": {},
   "source": [
    "Let's load our dataset, making sure there are no duplicated rows"
   ]
  },
  {
   "cell_type": "code",
   "execution_count": 15,
   "metadata": {},
   "outputs": [
    {
     "name": "stdout",
     "output_type": "stream",
     "text": [
      "Number of rows: 452284\n",
      "Number of duplicated: 0\n"
     ]
    },
    {
     "data": {
      "text/html": [
       "<div>\n",
       "<style scoped>\n",
       "    .dataframe tbody tr th:only-of-type {\n",
       "        vertical-align: middle;\n",
       "    }\n",
       "\n",
       "    .dataframe tbody tr th {\n",
       "        vertical-align: top;\n",
       "    }\n",
       "\n",
       "    .dataframe thead th {\n",
       "        text-align: right;\n",
       "    }\n",
       "</style>\n",
       "<table border=\"1\" class=\"dataframe\">\n",
       "  <thead>\n",
       "    <tr style=\"text-align: right;\">\n",
       "      <th></th>\n",
       "      <th>index</th>\n",
       "      <th>_id</th>\n",
       "      <th>revision_hash</th>\n",
       "      <th>message</th>\n",
       "      <th>isBugfix</th>\n",
       "    </tr>\n",
       "  </thead>\n",
       "  <tbody>\n",
       "    <tr>\n",
       "      <th>0</th>\n",
       "      <td>0</td>\n",
       "      <td>5bef24dc83ad2f56ca1ca7cd</td>\n",
       "      <td>64185d21b51d1ed32c419f443f804ae2e09ee5f8</td>\n",
       "      <td>The the patrol.</td>\n",
       "      <td>False</td>\n",
       "    </tr>\n",
       "    <tr>\n",
       "      <th>1</th>\n",
       "      <td>1</td>\n",
       "      <td>5bef24dd83ad2f56ca1ca7d3</td>\n",
       "      <td>37ab026c576c8841f378cc2376ca02c478567e84</td>\n",
       "      <td>Cleanup in commons-rdf-rdf4j to close PMD and ...</td>\n",
       "      <td>False</td>\n",
       "    </tr>\n",
       "    <tr>\n",
       "      <th>2</th>\n",
       "      <td>2</td>\n",
       "      <td>5bef24dd83ad2f56cb1ca7cd</td>\n",
       "      <td>092c465f996f3a4a6acf3f65aeb76f768e702289</td>\n",
       "      <td>COMMONSRDF-49: Make AbstractRDFParser serializ...</td>\n",
       "      <td>False</td>\n",
       "    </tr>\n",
       "    <tr>\n",
       "      <th>3</th>\n",
       "      <td>3</td>\n",
       "      <td>5bef24dd83ad2f56cc1ca7cd</td>\n",
       "      <td>6123c7308ed533b870370c6a234ce140368ccc4e</td>\n",
       "      <td>ensure site build works with newest checkstyle...</td>\n",
       "      <td>False</td>\n",
       "    </tr>\n",
       "    <tr>\n",
       "      <th>4</th>\n",
       "      <td>4</td>\n",
       "      <td>5bef24dd83ad2f56cc1ca7d4</td>\n",
       "      <td>25af8121afb778efa20d73e1f10c073ad1917e59</td>\n",
       "      <td>[maven-release-plugin] prepare for next develo...</td>\n",
       "      <td>False</td>\n",
       "    </tr>\n",
       "  </tbody>\n",
       "</table>\n",
       "</div>"
      ],
      "text/plain": [
       "   index                       _id                             revision_hash  \\\n",
       "0      0  5bef24dc83ad2f56ca1ca7cd  64185d21b51d1ed32c419f443f804ae2e09ee5f8   \n",
       "1      1  5bef24dd83ad2f56ca1ca7d3  37ab026c576c8841f378cc2376ca02c478567e84   \n",
       "2      2  5bef24dd83ad2f56cb1ca7cd  092c465f996f3a4a6acf3f65aeb76f768e702289   \n",
       "3      3  5bef24dd83ad2f56cc1ca7cd  6123c7308ed533b870370c6a234ce140368ccc4e   \n",
       "4      4  5bef24dd83ad2f56cc1ca7d4  25af8121afb778efa20d73e1f10c073ad1917e59   \n",
       "\n",
       "                                             message  isBugfix  \n",
       "0                                    The the patrol.     False  \n",
       "1  Cleanup in commons-rdf-rdf4j to close PMD and ...     False  \n",
       "2  COMMONSRDF-49: Make AbstractRDFParser serializ...     False  \n",
       "3  ensure site build works with newest checkstyle...     False  \n",
       "4  [maven-release-plugin] prepare for next develo...     False  "
      ]
     },
     "execution_count": 15,
     "metadata": {},
     "output_type": "execute_result"
    }
   ],
   "source": [
    "df_commits_annotated = pd.read_parquet('commits_annotated.parquet.gzip')\n",
    "print(f'Number of rows: {df_commits_annotated.shape[0]}')\n",
    "print(f'Number of duplicated: {df_commits_annotated.revision_hash.duplicated().sum()}')\n",
    "df_commits_annotated.head()"
   ]
  },
  {
   "attachments": {},
   "cell_type": "markdown",
   "metadata": {},
   "source": [
    "We only need columns 'message' and 'isBugfix'. Let's drop the others"
   ]
  },
  {
   "cell_type": "code",
   "execution_count": 16,
   "metadata": {},
   "outputs": [
    {
     "data": {
      "text/html": [
       "<div>\n",
       "<style scoped>\n",
       "    .dataframe tbody tr th:only-of-type {\n",
       "        vertical-align: middle;\n",
       "    }\n",
       "\n",
       "    .dataframe tbody tr th {\n",
       "        vertical-align: top;\n",
       "    }\n",
       "\n",
       "    .dataframe thead th {\n",
       "        text-align: right;\n",
       "    }\n",
       "</style>\n",
       "<table border=\"1\" class=\"dataframe\">\n",
       "  <thead>\n",
       "    <tr style=\"text-align: right;\">\n",
       "      <th></th>\n",
       "      <th>index</th>\n",
       "      <th>message</th>\n",
       "      <th>isBugfix</th>\n",
       "    </tr>\n",
       "  </thead>\n",
       "  <tbody>\n",
       "    <tr>\n",
       "      <th>0</th>\n",
       "      <td>0</td>\n",
       "      <td>The the patrol.</td>\n",
       "      <td>False</td>\n",
       "    </tr>\n",
       "    <tr>\n",
       "      <th>1</th>\n",
       "      <td>1</td>\n",
       "      <td>Cleanup in commons-rdf-rdf4j to close PMD and ...</td>\n",
       "      <td>False</td>\n",
       "    </tr>\n",
       "    <tr>\n",
       "      <th>2</th>\n",
       "      <td>2</td>\n",
       "      <td>COMMONSRDF-49: Make AbstractRDFParser serializ...</td>\n",
       "      <td>False</td>\n",
       "    </tr>\n",
       "    <tr>\n",
       "      <th>3</th>\n",
       "      <td>3</td>\n",
       "      <td>ensure site build works with newest checkstyle...</td>\n",
       "      <td>False</td>\n",
       "    </tr>\n",
       "    <tr>\n",
       "      <th>4</th>\n",
       "      <td>4</td>\n",
       "      <td>[maven-release-plugin] prepare for next develo...</td>\n",
       "      <td>False</td>\n",
       "    </tr>\n",
       "  </tbody>\n",
       "</table>\n",
       "</div>"
      ],
      "text/plain": [
       "   index                                            message  isBugfix\n",
       "0      0                                    The the patrol.     False\n",
       "1      1  Cleanup in commons-rdf-rdf4j to close PMD and ...     False\n",
       "2      2  COMMONSRDF-49: Make AbstractRDFParser serializ...     False\n",
       "3      3  ensure site build works with newest checkstyle...     False\n",
       "4      4  [maven-release-plugin] prepare for next develo...     False"
      ]
     },
     "execution_count": 16,
     "metadata": {},
     "output_type": "execute_result"
    }
   ],
   "source": [
    "df_commits_annotated.drop(columns=['_id','revision_hash'], inplace=True)\n",
    "df_commits_annotated.head()"
   ]
  },
  {
   "attachments": {},
   "cell_type": "markdown",
   "metadata": {},
   "source": [
    "Now let's try to balance the dataset. As it can be seen, it is highly imbalanced."
   ]
  },
  {
   "cell_type": "code",
   "execution_count": 17,
   "metadata": {},
   "outputs": [
    {
     "data": {
      "text/plain": [
       "False    449379\n",
       "True       2905\n",
       "Name: isBugfix, dtype: int64"
      ]
     },
     "execution_count": 17,
     "metadata": {},
     "output_type": "execute_result"
    }
   ],
   "source": [
    "df_commits_count = df_commits_annotated['isBugfix'].value_counts()\n",
    "df_commits_count"
   ]
  },
  {
   "attachments": {},
   "cell_type": "markdown",
   "metadata": {},
   "source": [
    "Let's downsample the majority class. It's okay, since we still have almost 3K \"True\" values."
   ]
  },
  {
   "cell_type": "code",
   "execution_count": 18,
   "metadata": {},
   "outputs": [
    {
     "data": {
      "text/plain": [
       "False    2905\n",
       "True     2905\n",
       "Name: isBugfix, dtype: int64"
      ]
     },
     "execution_count": 18,
     "metadata": {},
     "output_type": "execute_result"
    }
   ],
   "source": [
    "df_majority = df_commits_annotated[df_commits_annotated.isBugfix==False]\n",
    "df_minority = df_commits_annotated[df_commits_annotated.isBugfix==True]\n",
    "\n",
    "count_minority = df_commits_count[1] # Number of elements in minority class\n",
    "\n",
    "df_majority_downsampled = resample(df_majority,\n",
    "                                    replace=False,\n",
    "                                    n_samples=count_minority,\n",
    "                                    random_state=42)\n",
    "\n",
    "df_commits_annotated = pd.concat([df_majority_downsampled, df_minority])\n",
    "\n",
    "df_commits_annotated['isBugfix'].value_counts()"
   ]
  },
  {
   "attachments": {},
   "cell_type": "markdown",
   "metadata": {},
   "source": [
    "Now let's preprocess our text. First, we will lowercase and remove stopwords. This will be our 'input_feature' column"
   ]
  },
  {
   "cell_type": "code",
   "execution_count": 19,
   "metadata": {},
   "outputs": [
    {
     "name": "stderr",
     "output_type": "stream",
     "text": [
      "100%|██████████| 5810/5810 [00:02<00:00, 2683.28it/s]\n"
     ]
    },
    {
     "data": {
      "text/html": [
       "<div>\n",
       "<style scoped>\n",
       "    .dataframe tbody tr th:only-of-type {\n",
       "        vertical-align: middle;\n",
       "    }\n",
       "\n",
       "    .dataframe tbody tr th {\n",
       "        vertical-align: top;\n",
       "    }\n",
       "\n",
       "    .dataframe thead th {\n",
       "        text-align: right;\n",
       "    }\n",
       "</style>\n",
       "<table border=\"1\" class=\"dataframe\">\n",
       "  <thead>\n",
       "    <tr style=\"text-align: right;\">\n",
       "      <th></th>\n",
       "      <th>index</th>\n",
       "      <th>message</th>\n",
       "      <th>isBugfix</th>\n",
       "      <th>input_feature</th>\n",
       "    </tr>\n",
       "  </thead>\n",
       "  <tbody>\n",
       "    <tr>\n",
       "      <th>151859</th>\n",
       "      <td>151859</td>\n",
       "      <td>Update installation for impatient\\n</td>\n",
       "      <td>False</td>\n",
       "      <td>update installation impatient</td>\n",
       "    </tr>\n",
       "    <tr>\n",
       "      <th>332572</th>\n",
       "      <td>332572</td>\n",
       "      <td>Added example for using the reverse mapping to...</td>\n",
       "      <td>False</td>\n",
       "      <td>added example using reverse mapping tool git-s...</td>\n",
       "    </tr>\n",
       "    <tr>\n",
       "      <th>196656</th>\n",
       "      <td>196656</td>\n",
       "      <td>PDFBOX-2883: remove COSDocument constructors u...</td>\n",
       "      <td>False</td>\n",
       "      <td>pdfbox-2883 : remove cosdocument constructors ...</td>\n",
       "    </tr>\n",
       "    <tr>\n",
       "      <th>395182</th>\n",
       "      <td>395182</td>\n",
       "      <td>Added #else formatting test.\\nPR:\\nObtained fr...</td>\n",
       "      <td>False</td>\n",
       "      <td>added # else formatting test . pr : obtained :...</td>\n",
       "    </tr>\n",
       "    <tr>\n",
       "      <th>141552</th>\n",
       "      <td>141552</td>\n",
       "      <td>KAFKA-3740: Part I: expose StreamConfig proper...</td>\n",
       "      <td>False</td>\n",
       "      <td>kafka-3740 : part : expose streamconfig proper...</td>\n",
       "    </tr>\n",
       "  </tbody>\n",
       "</table>\n",
       "</div>"
      ],
      "text/plain": [
       "         index                                            message  isBugfix  \\\n",
       "151859  151859                Update installation for impatient\\n     False   \n",
       "332572  332572  Added example for using the reverse mapping to...     False   \n",
       "196656  196656  PDFBOX-2883: remove COSDocument constructors u...     False   \n",
       "395182  395182  Added #else formatting test.\\nPR:\\nObtained fr...     False   \n",
       "141552  141552  KAFKA-3740: Part I: expose StreamConfig proper...     False   \n",
       "\n",
       "                                            input_feature  \n",
       "151859                      update installation impatient  \n",
       "332572  added example using reverse mapping tool git-s...  \n",
       "196656  pdfbox-2883 : remove cosdocument constructors ...  \n",
       "395182  added # else formatting test . pr : obtained :...  \n",
       "141552  kafka-3740 : part : expose streamconfig proper...  "
      ]
     },
     "execution_count": 19,
     "metadata": {},
     "output_type": "execute_result"
    }
   ],
   "source": [
    "def lower_case_and_remove_stopwords(text):\n",
    "    return ' '.join([word for word in nltk.tokenize.word_tokenize(text) if word not in (english_stop_words)])\n",
    "\n",
    "df_commits_annotated['input_feature'] = df_commits_annotated['message']\\\n",
    "    .str.lower().progress_apply(lower_case_and_remove_stopwords)\n",
    "df_commits_annotated.head()\n"
   ]
  },
  {
   "attachments": {},
   "cell_type": "markdown",
   "metadata": {},
   "source": [
    "Now our 'isBugfix' column needs to be converted from boolean to int: True=1, False=0. This will be our 'target' column"
   ]
  },
  {
   "cell_type": "code",
   "execution_count": 20,
   "metadata": {},
   "outputs": [
    {
     "name": "stderr",
     "output_type": "stream",
     "text": [
      "100%|██████████| 5810/5810 [00:00<00:00, 487973.45it/s]\n"
     ]
    },
    {
     "data": {
      "text/html": [
       "<div>\n",
       "<style scoped>\n",
       "    .dataframe tbody tr th:only-of-type {\n",
       "        vertical-align: middle;\n",
       "    }\n",
       "\n",
       "    .dataframe tbody tr th {\n",
       "        vertical-align: top;\n",
       "    }\n",
       "\n",
       "    .dataframe thead th {\n",
       "        text-align: right;\n",
       "    }\n",
       "</style>\n",
       "<table border=\"1\" class=\"dataframe\">\n",
       "  <thead>\n",
       "    <tr style=\"text-align: right;\">\n",
       "      <th></th>\n",
       "      <th>index</th>\n",
       "      <th>message</th>\n",
       "      <th>isBugfix</th>\n",
       "      <th>input_feature</th>\n",
       "      <th>target</th>\n",
       "    </tr>\n",
       "  </thead>\n",
       "  <tbody>\n",
       "    <tr>\n",
       "      <th>151859</th>\n",
       "      <td>151859</td>\n",
       "      <td>Update installation for impatient\\n</td>\n",
       "      <td>False</td>\n",
       "      <td>update installation impatient</td>\n",
       "      <td>0</td>\n",
       "    </tr>\n",
       "    <tr>\n",
       "      <th>332572</th>\n",
       "      <td>332572</td>\n",
       "      <td>Added example for using the reverse mapping to...</td>\n",
       "      <td>False</td>\n",
       "      <td>added example using reverse mapping tool git-s...</td>\n",
       "      <td>0</td>\n",
       "    </tr>\n",
       "    <tr>\n",
       "      <th>196656</th>\n",
       "      <td>196656</td>\n",
       "      <td>PDFBOX-2883: remove COSDocument constructors u...</td>\n",
       "      <td>False</td>\n",
       "      <td>pdfbox-2883 : remove cosdocument constructors ...</td>\n",
       "      <td>0</td>\n",
       "    </tr>\n",
       "    <tr>\n",
       "      <th>395182</th>\n",
       "      <td>395182</td>\n",
       "      <td>Added #else formatting test.\\nPR:\\nObtained fr...</td>\n",
       "      <td>False</td>\n",
       "      <td>added # else formatting test . pr : obtained :...</td>\n",
       "      <td>0</td>\n",
       "    </tr>\n",
       "    <tr>\n",
       "      <th>141552</th>\n",
       "      <td>141552</td>\n",
       "      <td>KAFKA-3740: Part I: expose StreamConfig proper...</td>\n",
       "      <td>False</td>\n",
       "      <td>kafka-3740 : part : expose streamconfig proper...</td>\n",
       "      <td>0</td>\n",
       "    </tr>\n",
       "  </tbody>\n",
       "</table>\n",
       "</div>"
      ],
      "text/plain": [
       "         index                                            message  isBugfix  \\\n",
       "151859  151859                Update installation for impatient\\n     False   \n",
       "332572  332572  Added example for using the reverse mapping to...     False   \n",
       "196656  196656  PDFBOX-2883: remove COSDocument constructors u...     False   \n",
       "395182  395182  Added #else formatting test.\\nPR:\\nObtained fr...     False   \n",
       "141552  141552  KAFKA-3740: Part I: expose StreamConfig proper...     False   \n",
       "\n",
       "                                            input_feature  target  \n",
       "151859                      update installation impatient       0  \n",
       "332572  added example using reverse mapping tool git-s...       0  \n",
       "196656  pdfbox-2883 : remove cosdocument constructors ...       0  \n",
       "395182  added # else formatting test . pr : obtained :...       0  \n",
       "141552  kafka-3740 : part : expose streamconfig proper...       0  "
      ]
     },
     "execution_count": 20,
     "metadata": {},
     "output_type": "execute_result"
    }
   ],
   "source": [
    "df_commits_annotated['target'] = df_commits_annotated['isBugfix']\\\n",
    "    .progress_apply(lambda x: 1 if x else 0)\n",
    "df_commits_annotated.head()"
   ]
  },
  {
   "attachments": {},
   "cell_type": "markdown",
   "metadata": {},
   "source": [
    "Now let's split the dataset into train and test, transforming the textual column into vectors in the way.\n",
    "\n",
    "We use a simple CountVectorizer first, and also a TF-IDF vectorizer. The TF-IDF Vectorizer parameters were copied from the results of [another notebook](find_vectorizer_parameters.ipynb)"
   ]
  },
  {
   "cell_type": "code",
   "execution_count": 21,
   "metadata": {},
   "outputs": [],
   "source": [
    "y = df_commits_annotated['target']\n",
    "\n",
    "vect_count = CountVectorizer()\n",
    "X_count = vect_count.fit_transform(df_commits_annotated['input_feature'])\n",
    "X_train_count, X_test_count, y_train_count, y_test_count = train_test_split(X_count, y, test_size=0.33, random_state=42)\n",
    "\n",
    "vect_tfidf = TfidfVectorizer(encoding='latin-1', max_df=0.23622995216793718,\n",
    "                max_features=920, min_df=2, ngram_range=(1, 3),\n",
    "                sublinear_tf=True, token_pattern='\\\\w{1,}')\n",
    "X_tfidf = vect_tfidf.fit_transform(df_commits_annotated['input_feature'])\n",
    "X_train_tfidf, X_test_tfidf, y_train_tfidf, y_test_tfidf = train_test_split(X_tfidf, y, test_size=0.33, random_state=42)\n",
    "\n"
   ]
  },
  {
   "attachments": {},
   "cell_type": "markdown",
   "metadata": {},
   "source": [
    "Finally we can ask autosklearn to find the best model with each vectorizer. First with count vectorizer, and next with TF-IDF"
   ]
  },
  {
   "cell_type": "code",
   "execution_count": 22,
   "metadata": {},
   "outputs": [
    {
     "data": {
      "text/plain": [
       "AutoSklearnClassifier(ensemble_class=<class 'autosklearn.ensembles.ensemble_selection.EnsembleSelection'>,\n",
       "                      memory_limit=8192, metric=f1, per_run_time_limit=360)"
      ]
     },
     "execution_count": 22,
     "metadata": {},
     "output_type": "execute_result"
    }
   ],
   "source": [
    "clf_count = autosklearn.classification.AutoSklearnClassifier(\n",
    "    time_left_for_this_task=3600,\n",
    "    memory_limit=8192,\n",
    "    metric=autosklearn.metrics.f1)\n",
    "clf_count.fit(X_train_count, y_train_count)"
   ]
  },
  {
   "cell_type": "code",
   "execution_count": 23,
   "metadata": {},
   "outputs": [
    {
     "data": {
      "text/plain": [
       "AutoSklearnClassifier(ensemble_class=<class 'autosklearn.ensembles.ensemble_selection.EnsembleSelection'>,\n",
       "                      memory_limit=8192, metric=f1, per_run_time_limit=360)"
      ]
     },
     "execution_count": 23,
     "metadata": {},
     "output_type": "execute_result"
    }
   ],
   "source": [
    "clf_tfidf = autosklearn.classification.AutoSklearnClassifier(\n",
    "    time_left_for_this_task=3600,\n",
    "    memory_limit=8192,\n",
    "    metric=autosklearn.metrics.f1)\n",
    "clf_tfidf.fit(X_train_tfidf, y_train_tfidf)"
   ]
  },
  {
   "attachments": {},
   "cell_type": "markdown",
   "metadata": {},
   "source": [
    "Which models were selected?"
   ]
  },
  {
   "cell_type": "code",
   "execution_count": 24,
   "metadata": {},
   "outputs": [
    {
     "data": {
      "text/plain": [
       "{7: {'model_id': 7,\n",
       "  'rank': 1,\n",
       "  'cost': 0.06987227648384675,\n",
       "  'ensemble_weight': 0.02,\n",
       "  'data_preprocessor': <autosklearn.pipeline.components.data_preprocessing.DataPreprocessorChoice at 0x7f53d8397c40>,\n",
       "  'balancing': Balancing(random_state=1, strategy='weighting'),\n",
       "  'feature_preprocessor': <autosklearn.pipeline.components.feature_preprocessing.FeaturePreprocessorChoice at 0x7f53d8397b20>,\n",
       "  'classifier': <autosklearn.pipeline.components.classification.ClassifierChoice at 0x7f53d8395030>,\n",
       "  'sklearn_classifier': RandomForestClassifier(criterion='entropy', max_features=1278,\n",
       "                         min_samples_leaf=12, min_samples_split=19,\n",
       "                         n_estimators=512, n_jobs=1, random_state=1,\n",
       "                         warm_start=True)},\n",
       " 15: {'model_id': 15,\n",
       "  'rank': 2,\n",
       "  'cost': 0.042944785276073705,\n",
       "  'ensemble_weight': 0.12,\n",
       "  'data_preprocessor': <autosklearn.pipeline.components.data_preprocessing.DataPreprocessorChoice at 0x7f53d9479a80>,\n",
       "  'balancing': Balancing(random_state=1),\n",
       "  'feature_preprocessor': <autosklearn.pipeline.components.feature_preprocessing.FeaturePreprocessorChoice at 0x7f53b8a8b730>,\n",
       "  'classifier': <autosklearn.pipeline.components.classification.ClassifierChoice at 0x7f53b8a8abc0>,\n",
       "  'sklearn_classifier': PassiveAggressiveClassifier(C=0.14268277711454813, max_iter=32, random_state=1,\n",
       "                              tol=0.0002600768160857831, warm_start=True)},\n",
       " 19: {'model_id': 19,\n",
       "  'rank': 3,\n",
       "  'cost': 0.09272030651341001,\n",
       "  'ensemble_weight': 0.02,\n",
       "  'data_preprocessor': <autosklearn.pipeline.components.data_preprocessing.DataPreprocessorChoice at 0x7f53d8397af0>,\n",
       "  'balancing': Balancing(random_state=1, strategy='weighting'),\n",
       "  'feature_preprocessor': <autosklearn.pipeline.components.feature_preprocessing.FeaturePreprocessorChoice at 0x7f53d38e64d0>,\n",
       "  'classifier': <autosklearn.pipeline.components.classification.ClassifierChoice at 0x7f53d8469150>,\n",
       "  'sklearn_classifier': MLPClassifier(activation='tanh', alpha=3.418119188543138e-05, beta_1=0.999,\n",
       "                beta_2=0.9, hidden_layer_sizes=(250,),\n",
       "                learning_rate_init=0.0008970341914597564, max_iter=32,\n",
       "                n_iter_no_change=32, random_state=1, validation_fraction=0.0,\n",
       "                verbose=0, warm_start=True)},\n",
       " 21: {'model_id': 21,\n",
       "  'rank': 4,\n",
       "  'cost': 0.038284839203675314,\n",
       "  'ensemble_weight': 0.02,\n",
       "  'data_preprocessor': <autosklearn.pipeline.components.data_preprocessing.DataPreprocessorChoice at 0x7f53d8396d40>,\n",
       "  'balancing': Balancing(random_state=1, strategy='weighting'),\n",
       "  'feature_preprocessor': <autosklearn.pipeline.components.feature_preprocessing.FeaturePreprocessorChoice at 0x7f53d8575ea0>,\n",
       "  'classifier': <autosklearn.pipeline.components.classification.ClassifierChoice at 0x7f53d8270940>,\n",
       "  'sklearn_classifier': ExtraTreesClassifier(max_features=322, min_samples_split=10, n_estimators=512,\n",
       "                       n_jobs=1, random_state=1, warm_start=True)},\n",
       " 26: {'model_id': 26,\n",
       "  'rank': 5,\n",
       "  'cost': 0.03196347031963476,\n",
       "  'ensemble_weight': 0.02,\n",
       "  'data_preprocessor': <autosklearn.pipeline.components.data_preprocessing.DataPreprocessorChoice at 0x7f53b8a89300>,\n",
       "  'balancing': Balancing(random_state=1),\n",
       "  'feature_preprocessor': <autosklearn.pipeline.components.feature_preprocessing.FeaturePreprocessorChoice at 0x7f53d8273d00>,\n",
       "  'classifier': <autosklearn.pipeline.components.classification.ClassifierChoice at 0x7f53d819a980>,\n",
       "  'sklearn_classifier': RandomForestClassifier(max_features=18, min_samples_leaf=2, min_samples_split=3,\n",
       "                         n_estimators=512, n_jobs=1, random_state=1,\n",
       "                         warm_start=True)},\n",
       " 28: {'model_id': 28,\n",
       "  'rank': 6,\n",
       "  'cost': 0.6609756097560975,\n",
       "  'ensemble_weight': 0.08,\n",
       "  'data_preprocessor': <autosklearn.pipeline.components.data_preprocessing.DataPreprocessorChoice at 0x7f53d38e4be0>,\n",
       "  'balancing': Balancing(random_state=1, strategy='weighting'),\n",
       "  'feature_preprocessor': <autosklearn.pipeline.components.feature_preprocessing.FeaturePreprocessorChoice at 0x7f53d81981c0>,\n",
       "  'classifier': <autosklearn.pipeline.components.classification.ClassifierChoice at 0x7f53d85900d0>,\n",
       "  'sklearn_classifier': BernoulliNB(alpha=0.4833738346891057, fit_prior=False)},\n",
       " 30: {'model_id': 30,\n",
       "  'rank': 7,\n",
       "  'cost': 0.05873261205564151,\n",
       "  'ensemble_weight': 0.08,\n",
       "  'data_preprocessor': <autosklearn.pipeline.components.data_preprocessing.DataPreprocessorChoice at 0x7f53b88a6fb0>,\n",
       "  'balancing': Balancing(random_state=1),\n",
       "  'feature_preprocessor': <autosklearn.pipeline.components.feature_preprocessing.FeaturePreprocessorChoice at 0x7f53d82d5870>,\n",
       "  'classifier': <autosklearn.pipeline.components.classification.ClassifierChoice at 0x7f53d8473160>,\n",
       "  'sklearn_classifier': AdaBoostClassifier(base_estimator=DecisionTreeClassifier(max_depth=5),\n",
       "                     learning_rate=0.15342212837783545, n_estimators=432,\n",
       "                     random_state=1)},\n",
       " 31: {'model_id': 31,\n",
       "  'rank': 8,\n",
       "  'cost': 0.03601532567049803,\n",
       "  'ensemble_weight': 0.04,\n",
       "  'data_preprocessor': <autosklearn.pipeline.components.data_preprocessing.DataPreprocessorChoice at 0x7f53d8270cd0>,\n",
       "  'balancing': Balancing(random_state=1, strategy='weighting'),\n",
       "  'feature_preprocessor': <autosklearn.pipeline.components.feature_preprocessing.FeaturePreprocessorChoice at 0x7f53d8472f80>,\n",
       "  'classifier': <autosklearn.pipeline.components.classification.ClassifierChoice at 0x7f53d3c18940>,\n",
       "  'sklearn_classifier': RandomForestClassifier(max_features=12, n_estimators=512, n_jobs=1,\n",
       "                         random_state=1, warm_start=True)},\n",
       " 39: {'model_id': 39,\n",
       "  'rank': 9,\n",
       "  'cost': 0.12390670553935867,\n",
       "  'ensemble_weight': 0.02,\n",
       "  'data_preprocessor': <autosklearn.pipeline.components.data_preprocessing.DataPreprocessorChoice at 0x7f53d8198730>,\n",
       "  'balancing': Balancing(random_state=1, strategy='weighting'),\n",
       "  'feature_preprocessor': <autosklearn.pipeline.components.feature_preprocessing.FeaturePreprocessorChoice at 0x7f53d3c19d20>,\n",
       "  'classifier': <autosklearn.pipeline.components.classification.ClassifierChoice at 0x7f53af5c2440>,\n",
       "  'sklearn_classifier': SGDClassifier(alpha=0.00010000000000000026, eta0=0.010000000000000014,\n",
       "                learning_rate='invscaling', loss='log', max_iter=512,\n",
       "                random_state=1, tol=0.00010000000000000009, warm_start=True)},\n",
       " 40: {'model_id': 40,\n",
       "  'rank': 10,\n",
       "  'cost': 0.2180312787488501,\n",
       "  'ensemble_weight': 0.02,\n",
       "  'data_preprocessor': <autosklearn.pipeline.components.data_preprocessing.DataPreprocessorChoice at 0x7f53b881ac20>,\n",
       "  'balancing': Balancing(random_state=1),\n",
       "  'feature_preprocessor': <autosklearn.pipeline.components.feature_preprocessing.FeaturePreprocessorChoice at 0x7f53af5c0bb0>,\n",
       "  'classifier': <autosklearn.pipeline.components.classification.ClassifierChoice at 0x7f53af5c1180>,\n",
       "  'sklearn_classifier': KNeighborsClassifier(n_neighbors=18, weights='distance')},\n",
       " 43: {'model_id': 43,\n",
       "  'rank': 11,\n",
       "  'cost': 0.32135076252723316,\n",
       "  'ensemble_weight': 0.04,\n",
       "  'data_preprocessor': <autosklearn.pipeline.components.data_preprocessing.DataPreprocessorChoice at 0x7f53d8470d60>,\n",
       "  'balancing': Balancing(random_state=1),\n",
       "  'feature_preprocessor': <autosklearn.pipeline.components.feature_preprocessing.FeaturePreprocessorChoice at 0x7f53af5c39d0>,\n",
       "  'classifier': <autosklearn.pipeline.components.classification.ClassifierChoice at 0x7f53af318b50>,\n",
       "  'sklearn_classifier': RandomForestClassifier(max_features=1, n_estimators=512, n_jobs=1,\n",
       "                         random_state=1, warm_start=True)},\n",
       " 46: {'model_id': 46,\n",
       "  'rank': 12,\n",
       "  'cost': 0.09439754412893331,\n",
       "  'ensemble_weight': 0.02,\n",
       "  'data_preprocessor': <autosklearn.pipeline.components.data_preprocessing.DataPreprocessorChoice at 0x7f53d3c191b0>,\n",
       "  'balancing': Balancing(random_state=1, strategy='weighting'),\n",
       "  'feature_preprocessor': <autosklearn.pipeline.components.feature_preprocessing.FeaturePreprocessorChoice at 0x7f53af43f2b0>,\n",
       "  'classifier': <autosklearn.pipeline.components.classification.ClassifierChoice at 0x7f53ad05a4a0>,\n",
       "  'sklearn_classifier': RandomForestClassifier(criterion='entropy', max_features=9, min_samples_leaf=9,\n",
       "                         min_samples_split=3, n_estimators=512, n_jobs=1,\n",
       "                         random_state=1, warm_start=True)},\n",
       " 47: {'model_id': 47,\n",
       "  'rank': 13,\n",
       "  'cost': 0.03220858895705514,\n",
       "  'ensemble_weight': 0.04,\n",
       "  'data_preprocessor': <autosklearn.pipeline.components.data_preprocessing.DataPreprocessorChoice at 0x7f53d82d9e10>,\n",
       "  'balancing': Balancing(random_state=1),\n",
       "  'feature_preprocessor': <autosklearn.pipeline.components.feature_preprocessing.FeaturePreprocessorChoice at 0x7f53ad058d00>,\n",
       "  'classifier': <autosklearn.pipeline.components.classification.ClassifierChoice at 0x7f53ac6beb30>,\n",
       "  'sklearn_classifier': RandomForestClassifier(max_features=13, min_samples_split=6, n_estimators=512,\n",
       "                         n_jobs=1, random_state=1, warm_start=True)},\n",
       " 53: {'model_id': 53,\n",
       "  'rank': 14,\n",
       "  'cost': 0.19528371407516565,\n",
       "  'ensemble_weight': 0.12,\n",
       "  'data_preprocessor': <autosklearn.pipeline.components.data_preprocessing.DataPreprocessorChoice at 0x7f53af5c3370>,\n",
       "  'balancing': Balancing(random_state=1),\n",
       "  'feature_preprocessor': <autosklearn.pipeline.components.feature_preprocessing.FeaturePreprocessorChoice at 0x7f53ac6bc340>,\n",
       "  'classifier': <autosklearn.pipeline.components.classification.ClassifierChoice at 0x7f53ac6bc7c0>,\n",
       "  'sklearn_classifier': ExtraTreesClassifier(bootstrap=True, max_features=23, min_samples_leaf=3,\n",
       "                       min_samples_split=19, n_estimators=512, n_jobs=1,\n",
       "                       random_state=1, warm_start=True)},\n",
       " 55: {'model_id': 55,\n",
       "  'rank': 15,\n",
       "  'cost': 0.32746113989637304,\n",
       "  'ensemble_weight': 0.34,\n",
       "  'data_preprocessor': <autosklearn.pipeline.components.data_preprocessing.DataPreprocessorChoice at 0x7f53af43e770>,\n",
       "  'balancing': Balancing(random_state=1),\n",
       "  'feature_preprocessor': <autosklearn.pipeline.components.feature_preprocessing.FeaturePreprocessorChoice at 0x7f53ac3fca60>,\n",
       "  'classifier': <autosklearn.pipeline.components.classification.ClassifierChoice at 0x7f53ac3fd360>,\n",
       "  'sklearn_classifier': ExtraTreesClassifier(criterion='entropy', max_features=2, min_samples_leaf=8,\n",
       "                       min_samples_split=20, n_estimators=512, n_jobs=1,\n",
       "                       random_state=1, warm_start=True)}}"
      ]
     },
     "execution_count": 24,
     "metadata": {},
     "output_type": "execute_result"
    }
   ],
   "source": [
    "clf_count.show_models()"
   ]
  },
  {
   "cell_type": "code",
   "execution_count": 25,
   "metadata": {},
   "outputs": [
    {
     "data": {
      "text/plain": [
       "{2: {'model_id': 2,\n",
       "  'rank': 1,\n",
       "  'cost': 0.04719101123595515,\n",
       "  'ensemble_weight': 0.04000000000000001,\n",
       "  'data_preprocessor': <autosklearn.pipeline.components.data_preprocessing.DataPreprocessorChoice at 0x7f53d843ab60>,\n",
       "  'balancing': Balancing(random_state=1),\n",
       "  'feature_preprocessor': <autosklearn.pipeline.components.feature_preprocessing.FeaturePreprocessorChoice at 0x7f53abffeaa0>,\n",
       "  'classifier': <autosklearn.pipeline.components.classification.ClassifierChoice at 0x7f53abffd360>,\n",
       "  'sklearn_classifier': RandomForestClassifier(max_features=30, n_estimators=512, n_jobs=1,\n",
       "                         random_state=1, warm_start=True)},\n",
       " 10: {'model_id': 10,\n",
       "  'rank': 2,\n",
       "  'cost': 0.05722891566265054,\n",
       "  'ensemble_weight': 0.04000000000000001,\n",
       "  'data_preprocessor': <autosklearn.pipeline.components.data_preprocessing.DataPreprocessorChoice at 0x7f54a829dc30>,\n",
       "  'balancing': Balancing(random_state=1, strategy='weighting'),\n",
       "  'feature_preprocessor': <autosklearn.pipeline.components.feature_preprocessing.FeaturePreprocessorChoice at 0x7f53a4389540>,\n",
       "  'classifier': <autosklearn.pipeline.components.classification.ClassifierChoice at 0x7f53a42f79d0>,\n",
       "  'sklearn_classifier': RandomForestClassifier(max_features=8, min_samples_leaf=2, n_estimators=512,\n",
       "                         n_jobs=1, random_state=1, warm_start=True)},\n",
       " 17: {'model_id': 17,\n",
       "  'rank': 3,\n",
       "  'cost': 0.05207547169811322,\n",
       "  'ensemble_weight': 0.020000000000000004,\n",
       "  'data_preprocessor': <autosklearn.pipeline.components.data_preprocessing.DataPreprocessorChoice at 0x7f53af31a0b0>,\n",
       "  'balancing': Balancing(random_state=1),\n",
       "  'feature_preprocessor': <autosklearn.pipeline.components.feature_preprocessing.FeaturePreprocessorChoice at 0x7f53d82d74f0>,\n",
       "  'classifier': <autosklearn.pipeline.components.classification.ClassifierChoice at 0x7f53a4280610>,\n",
       "  'sklearn_classifier': RandomForestClassifier(max_features=15, min_samples_leaf=2, min_samples_split=3,\n",
       "                         n_estimators=512, n_jobs=1, random_state=1,\n",
       "                         warm_start=True)},\n",
       " 18: {'model_id': 18,\n",
       "  'rank': 4,\n",
       "  'cost': 0.052945563012677055,\n",
       "  'ensemble_weight': 0.020000000000000004,\n",
       "  'data_preprocessor': <autosklearn.pipeline.components.data_preprocessing.DataPreprocessorChoice at 0x7f53d843ae90>,\n",
       "  'balancing': Balancing(random_state=1, strategy='weighting'),\n",
       "  'feature_preprocessor': <autosklearn.pipeline.components.feature_preprocessing.FeaturePreprocessorChoice at 0x7f53a4282230>,\n",
       "  'classifier': <autosklearn.pipeline.components.classification.ClassifierChoice at 0x7f53d8469480>,\n",
       "  'sklearn_classifier': RandomForestClassifier(criterion='entropy', max_features=13, min_samples_leaf=2,\n",
       "                         n_estimators=512, n_jobs=1, random_state=1,\n",
       "                         warm_start=True)},\n",
       " 20: {'model_id': 20,\n",
       "  'rank': 5,\n",
       "  'cost': 0.047761194029850684,\n",
       "  'ensemble_weight': 0.060000000000000005,\n",
       "  'data_preprocessor': <autosklearn.pipeline.components.data_preprocessing.DataPreprocessorChoice at 0x7f53a4388730>,\n",
       "  'balancing': Balancing(random_state=1, strategy='weighting'),\n",
       "  'feature_preprocessor': <autosklearn.pipeline.components.feature_preprocessing.FeaturePreprocessorChoice at 0x7f53d3ffa200>,\n",
       "  'classifier': <autosklearn.pipeline.components.classification.ClassifierChoice at 0x7f53d8469000>,\n",
       "  'sklearn_classifier': RandomForestClassifier(max_features=39, min_samples_split=5, n_estimators=512,\n",
       "                         n_jobs=1, random_state=1, warm_start=True)},\n",
       " 26: {'model_id': 26,\n",
       "  'rank': 6,\n",
       "  'cost': 0.056923076923076854,\n",
       "  'ensemble_weight': 0.14000000000000004,\n",
       "  'data_preprocessor': <autosklearn.pipeline.components.data_preprocessing.DataPreprocessorChoice at 0x7f53ac1436a0>,\n",
       "  'balancing': Balancing(random_state=1),\n",
       "  'feature_preprocessor': <autosklearn.pipeline.components.feature_preprocessing.FeaturePreprocessorChoice at 0x7f53a43c13f0>,\n",
       "  'classifier': <autosklearn.pipeline.components.classification.ClassifierChoice at 0x7f53d8592170>,\n",
       "  'sklearn_classifier': AdaBoostClassifier(base_estimator=DecisionTreeClassifier(max_depth=3),\n",
       "                     learning_rate=0.046269426995092074, n_estimators=406,\n",
       "                     random_state=1)},\n",
       " 32: {'model_id': 32,\n",
       "  'rank': 7,\n",
       "  'cost': 0.05899705014749257,\n",
       "  'ensemble_weight': 0.020000000000000004,\n",
       "  'data_preprocessor': <autosklearn.pipeline.components.data_preprocessing.DataPreprocessorChoice at 0x7f53b8a88700>,\n",
       "  'balancing': Balancing(random_state=1),\n",
       "  'feature_preprocessor': <autosklearn.pipeline.components.feature_preprocessing.FeaturePreprocessorChoice at 0x7f53a42d5a80>,\n",
       "  'classifier': <autosklearn.pipeline.components.classification.ClassifierChoice at 0x7f53a42d6950>,\n",
       "  'sklearn_classifier': ExtraTreesClassifier(bootstrap=True, max_features=13, min_samples_split=14,\n",
       "                       n_estimators=512, n_jobs=1, random_state=1,\n",
       "                       warm_start=True)},\n",
       " 35: {'model_id': 35,\n",
       "  'rank': 8,\n",
       "  'cost': 0.054216867469879415,\n",
       "  'ensemble_weight': 0.060000000000000005,\n",
       "  'data_preprocessor': <autosklearn.pipeline.components.data_preprocessing.DataPreprocessorChoice at 0x7f53d3ffb7c0>,\n",
       "  'balancing': Balancing(random_state=1),\n",
       "  'feature_preprocessor': <autosklearn.pipeline.components.feature_preprocessing.FeaturePreprocessorChoice at 0x7f53a4892920>,\n",
       "  'classifier': <autosklearn.pipeline.components.classification.ClassifierChoice at 0x7f53a4890160>,\n",
       "  'sklearn_classifier': PassiveAggressiveClassifier(C=2.131782387001486, average=True,\n",
       "                              loss='squared_hinge', max_iter=32, random_state=1,\n",
       "                              tol=0.00036593174068495353, warm_start=True)},\n",
       " 40: {'model_id': 40,\n",
       "  'rank': 9,\n",
       "  'cost': 0.05936073059360736,\n",
       "  'ensemble_weight': 0.060000000000000005,\n",
       "  'data_preprocessor': <autosklearn.pipeline.components.data_preprocessing.DataPreprocessorChoice at 0x7f53a43c04c0>,\n",
       "  'balancing': Balancing(random_state=1),\n",
       "  'feature_preprocessor': <autosklearn.pipeline.components.feature_preprocessing.FeaturePreprocessorChoice at 0x7f53a3a822c0>,\n",
       "  'classifier': <autosklearn.pipeline.components.classification.ClassifierChoice at 0x7f53a3a828c0>,\n",
       "  'sklearn_classifier': MLPClassifier(alpha=0.00015331180428815764, beta_1=0.999, beta_2=0.9,\n",
       "                early_stopping=True, hidden_layer_sizes=(27, 27),\n",
       "                learning_rate_init=0.0010000000000000002, max_iter=64,\n",
       "                n_iter_no_change=32, random_state=1, verbose=0, warm_start=True)},\n",
       " 45: {'model_id': 45,\n",
       "  'rank': 10,\n",
       "  'cost': 0.03506097560975607,\n",
       "  'ensemble_weight': 0.020000000000000004,\n",
       "  'data_preprocessor': <autosklearn.pipeline.components.data_preprocessing.DataPreprocessorChoice at 0x7f53a42d6cb0>,\n",
       "  'balancing': Balancing(random_state=1, strategy='weighting'),\n",
       "  'feature_preprocessor': <autosklearn.pipeline.components.feature_preprocessing.FeaturePreprocessorChoice at 0x7f53a391d960>,\n",
       "  'classifier': <autosklearn.pipeline.components.classification.ClassifierChoice at 0x7f53a387ead0>,\n",
       "  'sklearn_classifier': MLPClassifier(alpha=4.040060841520191e-05, beta_1=0.999, beta_2=0.9,\n",
       "                hidden_layer_sizes=(32,),\n",
       "                learning_rate_init=0.0010000000000000002, max_iter=256,\n",
       "                n_iter_no_change=32, random_state=1, validation_fraction=0.0,\n",
       "                verbose=0, warm_start=True)},\n",
       " 51: {'model_id': 51,\n",
       "  'rank': 11,\n",
       "  'cost': 0.06386175807663419,\n",
       "  'ensemble_weight': 0.020000000000000004,\n",
       "  'data_preprocessor': <autosklearn.pipeline.components.data_preprocessing.DataPreprocessorChoice at 0x7f53b88a7ee0>,\n",
       "  'balancing': Balancing(random_state=1, strategy='weighting'),\n",
       "  'feature_preprocessor': <autosklearn.pipeline.components.feature_preprocessing.FeaturePreprocessorChoice at 0x7f53a387d270>,\n",
       "  'classifier': <autosklearn.pipeline.components.classification.ClassifierChoice at 0x7f53a3745ba0>,\n",
       "  'sklearn_classifier': MLPClassifier(alpha=0.0033978989952146398, beta_1=0.999, beta_2=0.9,\n",
       "                early_stopping=True, hidden_layer_sizes=(160, 160),\n",
       "                learning_rate_init=0.0018312100600723737, max_iter=32,\n",
       "                n_iter_no_change=32, random_state=1, verbose=0, warm_start=True)},\n",
       " 60: {'model_id': 60,\n",
       "  'rank': 12,\n",
       "  'cost': 0.038374717832956984,\n",
       "  'ensemble_weight': 0.020000000000000004,\n",
       "  'data_preprocessor': <autosklearn.pipeline.components.data_preprocessing.DataPreprocessorChoice at 0x7f53a3a81600>,\n",
       "  'balancing': Balancing(random_state=1, strategy='weighting'),\n",
       "  'feature_preprocessor': <autosklearn.pipeline.components.feature_preprocessing.FeaturePreprocessorChoice at 0x7f53a3745030>,\n",
       "  'classifier': <autosklearn.pipeline.components.classification.ClassifierChoice at 0x7f53a3747fa0>,\n",
       "  'sklearn_classifier': MLPClassifier(alpha=0.00010000000000000026, beta_1=0.999, beta_2=0.9,\n",
       "                hidden_layer_sizes=(30, 30),\n",
       "                learning_rate_init=0.0006614058897844078, max_iter=256,\n",
       "                n_iter_no_change=32, random_state=1, validation_fraction=0.0,\n",
       "                verbose=0, warm_start=True)},\n",
       " 68: {'model_id': 68,\n",
       "  'rank': 13,\n",
       "  'cost': 0.06356589147286829,\n",
       "  'ensemble_weight': 0.020000000000000004,\n",
       "  'data_preprocessor': <autosklearn.pipeline.components.data_preprocessing.DataPreprocessorChoice at 0x7f53a391d3c0>,\n",
       "  'balancing': Balancing(random_state=1, strategy='weighting'),\n",
       "  'feature_preprocessor': <autosklearn.pipeline.components.feature_preprocessing.FeaturePreprocessorChoice at 0x7f53a3747520>,\n",
       "  'classifier': <autosklearn.pipeline.components.classification.ClassifierChoice at 0x7f53a36964a0>,\n",
       "  'sklearn_classifier': MLPClassifier(alpha=2.604005472988938e-06, beta_1=0.999, beta_2=0.9,\n",
       "                hidden_layer_sizes=(44, 44, 44),\n",
       "                learning_rate_init=0.0009253424095157907, max_iter=64,\n",
       "                n_iter_no_change=32, random_state=1, validation_fraction=0.0,\n",
       "                verbose=0, warm_start=True)},\n",
       " 71: {'model_id': 71,\n",
       "  'rank': 14,\n",
       "  'cost': 0.03141762452107277,\n",
       "  'ensemble_weight': 0.04000000000000001,\n",
       "  'data_preprocessor': <autosklearn.pipeline.components.data_preprocessing.DataPreprocessorChoice at 0x7f53a387c7f0>,\n",
       "  'balancing': Balancing(random_state=1, strategy='weighting'),\n",
       "  'feature_preprocessor': <autosklearn.pipeline.components.feature_preprocessing.FeaturePreprocessorChoice at 0x7f53a3695900>,\n",
       "  'classifier': <autosklearn.pipeline.components.classification.ClassifierChoice at 0x7f52e8620970>,\n",
       "  'sklearn_classifier': MLPClassifier(alpha=4.087416071576402e-06, beta_1=0.999, beta_2=0.9,\n",
       "                hidden_layer_sizes=(32, 32, 32),\n",
       "                learning_rate_init=0.000598267035669263, max_iter=256,\n",
       "                n_iter_no_change=32, random_state=1, validation_fraction=0.0,\n",
       "                verbose=0, warm_start=True)},\n",
       " 77: {'model_id': 77,\n",
       "  'rank': 15,\n",
       "  'cost': 0.04122137404580162,\n",
       "  'ensemble_weight': 0.020000000000000004,\n",
       "  'data_preprocessor': <autosklearn.pipeline.components.data_preprocessing.DataPreprocessorChoice at 0x7f53a3744a90>,\n",
       "  'balancing': Balancing(random_state=1),\n",
       "  'feature_preprocessor': <autosklearn.pipeline.components.feature_preprocessing.FeaturePreprocessorChoice at 0x7f53a3697eb0>,\n",
       "  'classifier': <autosklearn.pipeline.components.classification.ClassifierChoice at 0x7f52e8622e30>,\n",
       "  'sklearn_classifier': MLPClassifier(alpha=0.00010000000000000026, beta_1=0.999, beta_2=0.9,\n",
       "                hidden_layer_sizes=(25,), learning_rate_init=0.003004651002297554,\n",
       "                max_iter=256, n_iter_no_change=32, random_state=1,\n",
       "                validation_fraction=0.0, verbose=0, warm_start=True)},\n",
       " 83: {'model_id': 83,\n",
       "  'rank': 16,\n",
       "  'cost': 0.03675918979744941,\n",
       "  'ensemble_weight': 0.020000000000000004,\n",
       "  'data_preprocessor': <autosklearn.pipeline.components.data_preprocessing.DataPreprocessorChoice at 0x7f53a3746ec0>,\n",
       "  'balancing': Balancing(random_state=1, strategy='weighting'),\n",
       "  'feature_preprocessor': <autosklearn.pipeline.components.feature_preprocessing.FeaturePreprocessorChoice at 0x7f52e86220b0>,\n",
       "  'classifier': <autosklearn.pipeline.components.classification.ClassifierChoice at 0x7f52e84cd1b0>,\n",
       "  'sklearn_classifier': MLPClassifier(alpha=1.8135487822754547e-06, beta_1=0.999, beta_2=0.9,\n",
       "                hidden_layer_sizes=(21, 21),\n",
       "                learning_rate_init=0.003088581807331914, max_iter=128,\n",
       "                n_iter_no_change=32, random_state=1, validation_fraction=0.0,\n",
       "                verbose=0, warm_start=True)},\n",
       " 85: {'model_id': 85,\n",
       "  'rank': 17,\n",
       "  'cost': 0.02673796791443861,\n",
       "  'ensemble_weight': 0.020000000000000004,\n",
       "  'data_preprocessor': <autosklearn.pipeline.components.data_preprocessing.DataPreprocessorChoice at 0x7f53a3695360>,\n",
       "  'balancing': Balancing(random_state=1),\n",
       "  'feature_preprocessor': <autosklearn.pipeline.components.feature_preprocessing.FeaturePreprocessorChoice at 0x7f52e84cc730>,\n",
       "  'classifier': <autosklearn.pipeline.components.classification.ClassifierChoice at 0x7f52e84cf670>,\n",
       "  'sklearn_classifier': MLPClassifier(alpha=2.38984676125405e-06, beta_1=0.999, beta_2=0.9,\n",
       "                hidden_layer_sizes=(21, 21, 21),\n",
       "                learning_rate_init=0.0005232867878734228, max_iter=128,\n",
       "                n_iter_no_change=32, random_state=1, validation_fraction=0.0,\n",
       "                verbose=0, warm_start=True)},\n",
       " 95: {'model_id': 95,\n",
       "  'rank': 18,\n",
       "  'cost': 0.044207317073170715,\n",
       "  'ensemble_weight': 0.04000000000000001,\n",
       "  'data_preprocessor': <autosklearn.pipeline.components.data_preprocessing.DataPreprocessorChoice at 0x7f53a36976d0>,\n",
       "  'balancing': Balancing(random_state=1),\n",
       "  'feature_preprocessor': <autosklearn.pipeline.components.feature_preprocessing.FeaturePreprocessorChoice at 0x7f52e84cea40>,\n",
       "  'classifier': <autosklearn.pipeline.components.classification.ClassifierChoice at 0x7f53a4286e90>,\n",
       "  'sklearn_classifier': MLPClassifier(alpha=2.3599884551708288e-06, beta_1=0.999, beta_2=0.9,\n",
       "                hidden_layer_sizes=(20,),\n",
       "                learning_rate_init=0.0005655047828436591, max_iter=128,\n",
       "                n_iter_no_change=32, random_state=1, validation_fraction=0.0,\n",
       "                verbose=0, warm_start=True)},\n",
       " 96: {'model_id': 96,\n",
       "  'rank': 19,\n",
       "  'cost': 0.06254826254826262,\n",
       "  'ensemble_weight': 0.04000000000000001,\n",
       "  'data_preprocessor': <autosklearn.pipeline.components.data_preprocessing.DataPreprocessorChoice at 0x7f52e8621b10>,\n",
       "  'balancing': Balancing(random_state=1, strategy='weighting'),\n",
       "  'feature_preprocessor': <autosklearn.pipeline.components.feature_preprocessing.FeaturePreprocessorChoice at 0x7f53d8577d60>,\n",
       "  'classifier': <autosklearn.pipeline.components.classification.ClassifierChoice at 0x7f53d38e6530>,\n",
       "  'sklearn_classifier': MLPClassifier(alpha=3.666604706582551e-05, beta_1=0.999, beta_2=0.9,\n",
       "                hidden_layer_sizes=(22, 22, 22),\n",
       "                learning_rate_init=0.0004593971815369372, max_iter=64,\n",
       "                n_iter_no_change=32, random_state=1, validation_fraction=0.0,\n",
       "                verbose=0, warm_start=True)},\n",
       " 100: {'model_id': 100,\n",
       "  'rank': 20,\n",
       "  'cost': 0.04570100697134005,\n",
       "  'ensemble_weight': 0.020000000000000004,\n",
       "  'data_preprocessor': <autosklearn.pipeline.components.data_preprocessing.DataPreprocessorChoice at 0x7f52e84cc070>,\n",
       "  'balancing': Balancing(random_state=1),\n",
       "  'feature_preprocessor': <autosklearn.pipeline.components.feature_preprocessing.FeaturePreprocessorChoice at 0x7f53d3ff9e70>,\n",
       "  'classifier': <autosklearn.pipeline.components.classification.ClassifierChoice at 0x7f53abc13fa0>,\n",
       "  'sklearn_classifier': MLPClassifier(alpha=3.2393934360276567e-06, beta_1=0.999, beta_2=0.9,\n",
       "                hidden_layer_sizes=(26, 26),\n",
       "                learning_rate_init=0.0009071564104718416, max_iter=256,\n",
       "                n_iter_no_change=32, random_state=1, validation_fraction=0.0,\n",
       "                verbose=0, warm_start=True)},\n",
       " 107: {'model_id': 107,\n",
       "  'rank': 21,\n",
       "  'cost': 0.026615969581749055,\n",
       "  'ensemble_weight': 0.10000000000000002,\n",
       "  'data_preprocessor': <autosklearn.pipeline.components.data_preprocessing.DataPreprocessorChoice at 0x7f52e84ce440>,\n",
       "  'balancing': Balancing(random_state=1),\n",
       "  'feature_preprocessor': <autosklearn.pipeline.components.feature_preprocessing.FeaturePreprocessorChoice at 0x7f53b8a89990>,\n",
       "  'classifier': <autosklearn.pipeline.components.classification.ClassifierChoice at 0x7f53a43dda50>,\n",
       "  'sklearn_classifier': MLPClassifier(alpha=3.3610356746837954e-06, beta_1=0.999, beta_2=0.9,\n",
       "                hidden_layer_sizes=(18, 18, 18),\n",
       "                learning_rate_init=0.0005858291620522422, max_iter=256,\n",
       "                n_iter_no_change=32, random_state=1, validation_fraction=0.0,\n",
       "                verbose=0, warm_start=True)},\n",
       " 116: {'model_id': 116,\n",
       "  'rank': 22,\n",
       "  'cost': 0.03264996203492787,\n",
       "  'ensemble_weight': 0.060000000000000005,\n",
       "  'data_preprocessor': <autosklearn.pipeline.components.data_preprocessing.DataPreprocessorChoice at 0x7f53a4488a00>,\n",
       "  'balancing': Balancing(random_state=1),\n",
       "  'feature_preprocessor': <autosklearn.pipeline.components.feature_preprocessing.FeaturePreprocessorChoice at 0x7f53a43dc9d0>,\n",
       "  'classifier': <autosklearn.pipeline.components.classification.ClassifierChoice at 0x7f53a475afe0>,\n",
       "  'sklearn_classifier': MLPClassifier(alpha=5.5615836017775885e-06, beta_1=0.999, beta_2=0.9,\n",
       "                hidden_layer_sizes=(17, 17, 17),\n",
       "                learning_rate_init=0.0004832346233664837, max_iter=128,\n",
       "                n_iter_no_change=32, random_state=1, validation_fraction=0.0,\n",
       "                verbose=0, warm_start=True)},\n",
       " 117: {'model_id': 117,\n",
       "  'rank': 23,\n",
       "  'cost': 0.06009244992295837,\n",
       "  'ensemble_weight': 0.10000000000000002,\n",
       "  'data_preprocessor': <autosklearn.pipeline.components.data_preprocessing.DataPreprocessorChoice at 0x7f53a4284460>,\n",
       "  'balancing': Balancing(random_state=1, strategy='weighting'),\n",
       "  'feature_preprocessor': <autosklearn.pipeline.components.feature_preprocessing.FeaturePreprocessorChoice at 0x7f53a475a6b0>,\n",
       "  'classifier': <autosklearn.pipeline.components.classification.ClassifierChoice at 0x7f53a42f7340>,\n",
       "  'sklearn_classifier': AdaBoostClassifier(base_estimator=DecisionTreeClassifier(max_depth=9),\n",
       "                     learning_rate=0.1664174212891686, n_estimators=179,\n",
       "                     random_state=1)}}"
      ]
     },
     "execution_count": 25,
     "metadata": {},
     "output_type": "execute_result"
    }
   ],
   "source": [
    "clf_tfidf.show_models()"
   ]
  },
  {
   "attachments": {},
   "cell_type": "markdown",
   "metadata": {},
   "source": [
    "Let's see our classification scores"
   ]
  },
  {
   "cell_type": "code",
   "execution_count": 26,
   "metadata": {},
   "outputs": [
    {
     "name": "stdout",
     "output_type": "stream",
     "text": [
      "              precision    recall  f1-score   support\n",
      "\n",
      "           0       0.98      0.96      0.97       978\n",
      "           1       0.96      0.98      0.97       940\n",
      "\n",
      "    accuracy                           0.97      1918\n",
      "   macro avg       0.97      0.97      0.97      1918\n",
      "weighted avg       0.97      0.97      0.97      1918\n",
      "\n"
     ]
    }
   ],
   "source": [
    "y_pred_count = clf_count.predict(X_test_count)\n",
    "print(classification_report(y_test_count, y_pred_count))"
   ]
  },
  {
   "cell_type": "code",
   "execution_count": 27,
   "metadata": {},
   "outputs": [
    {
     "name": "stdout",
     "output_type": "stream",
     "text": [
      "              precision    recall  f1-score   support\n",
      "\n",
      "           0       0.98      0.95      0.97       978\n",
      "           1       0.95      0.98      0.96       940\n",
      "\n",
      "    accuracy                           0.97      1918\n",
      "   macro avg       0.97      0.97      0.97      1918\n",
      "weighted avg       0.97      0.97      0.97      1918\n",
      "\n"
     ]
    }
   ],
   "source": [
    "y_pred_tfidf = clf_tfidf.predict(X_test_tfidf)\n",
    "print(classification_report(y_test_tfidf, y_pred_tfidf))"
   ]
  },
  {
   "attachments": {},
   "cell_type": "markdown",
   "metadata": {},
   "source": [
    "What about the errors? Let's check the confusion matrix"
   ]
  },
  {
   "cell_type": "code",
   "execution_count": 28,
   "metadata": {},
   "outputs": [
    {
     "data": {
      "text/plain": [
       "<AxesSubplot: >"
      ]
     },
     "execution_count": 28,
     "metadata": {},
     "output_type": "execute_result"
    },
    {
     "data": {
      "image/png": "[encoded data removed]",
      "text/plain": [
       "<Figure size 640x480 with 2 Axes>"
      ]
     },
     "metadata": {},
     "output_type": "display_data"
    }
   ],
   "source": [
    "cf_matrix_count = confusion_matrix(y_test_count, y_pred_count)\n",
    "sns.heatmap(cf_matrix_count, annot=True, fmt='d', cmap='Blues')"
   ]
  },
  {
   "cell_type": "code",
   "execution_count": 29,
   "metadata": {},
   "outputs": [
    {
     "data": {
      "text/plain": [
       "<AxesSubplot: >"
      ]
     },
     "execution_count": 29,
     "metadata": {},
     "output_type": "execute_result"
    },
    {
     "data": {
      "image/png": "[encoded data removed]",
      "text/plain": [
       "<Figure size 640x480 with 2 Axes>"
      ]
     },
     "metadata": {},
     "output_type": "display_data"
    }
   ],
   "source": [
    "cf_matrix_tfidf = confusion_matrix(y_test_tfidf, y_pred_tfidf)\n",
    "sns.heatmap(cf_matrix_tfidf, annot=True, fmt='d', cmap='Blues')"
   ]
  },
  {
   "attachments": {},
   "cell_type": "markdown",
   "metadata": {},
   "source": [
    "If you want to save the models found, uncomment the following. But they are HUGE and cannot be stored in GitHub. Also, LinearSVC from [another notebook](./experiment_different_models.ipynb) has almost the same metrics and is much simpler and smaller."
   ]
  },
  {
   "cell_type": "code",
   "execution_count": 32,
   "metadata": {},
   "outputs": [
    {
     "data": {
      "text/plain": [
       "['bugfix_classifier_automl_tfidfvectorizer.joblib']"
      ]
     },
     "execution_count": 32,
     "metadata": {},
     "output_type": "execute_result"
    }
   ],
   "source": [
    "# Save models to file\n",
    "# joblib.dump({ 'clf': clf_count, 'vect': vect_count },'bugfix_classifier_automl_countvectorizer.joblib')\n",
    "# joblib.dump({ 'clf': clf_tfidf, 'vect': vect_tfidf },'bugfix_classifier_automl_tfidfvectorizer.joblib')"
   ]
  }
 ],
 "metadata": {
  "kernelspec": {
   "display_name": "findbestmodel",
   "language": "python",
   "name": "python3"
  },
  "language_info": {
   "codemirror_mode": {
    "name": "ipython",
    "version": 3
   },
   "file_extension": ".py",
   "mimetype": "text/x-python",
   "name": "python",
   "nbconvert_exporter": "python",
   "pygments_lexer": "ipython3",
   "version": "3.10.9 (main, Jan 10 2023, 16:19:05) [GCC 9.4.0]"
  },
  "orig_nbformat": 4,
  "vscode": {
   "interpreter": {
    "hash": "bb4542da5527226c3ed1023637ad5c19372e542645c1cae479bd855f611c3e36"
   }
  }
 },
 "nbformat": 4,
 "nbformat_minor": 2
}
